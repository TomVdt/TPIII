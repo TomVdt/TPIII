{
 "cells": [
  {
   "cell_type": "code",
   "execution_count": 16,
   "metadata": {},
   "outputs": [
    {
     "name": "stdout",
     "output_type": "stream",
     "text": [
      "The autoreload extension is already loaded. To reload it, use:\n",
      "  %reload_ext autoreload\n"
     ]
    }
   ],
   "source": [
    "%load_ext autoreload\n",
    "%aimport lib\n",
    "%aimport constants\n",
    "%autoreload 1\n",
    "\n",
    "import numpy as np\n",
    "import scipy as sc\n",
    "import matplotlib as mpl\n",
    "import matplotlib.pyplot as plt\n",
    "import matplotlib.mlab as mlab\n",
    "\n",
    "from uncertainties import unumpy as unp\n",
    "from uncertainties import ufloat, umath\n",
    "\n",
    "from options import *\n",
    "from lib import *\n",
    "from constants import *\n",
    "\n",
    "nom_vals = unp.nominal_values\n",
    "std_devs = unp.std_devs\n",
    "\n",
    "mpl.rcParams.update(rcParams)"
   ]
  },
  {
   "cell_type": "code",
   "execution_count": null,
   "metadata": {},
   "outputs": [],
   "source": [
    "def binit(data: np.ndarray, lower: float, upper: float, binsize: float) -> tuple[np.ndarray, np.ndarray]:\n",
    "    bins = np.arange(lower, upper, binsize)\n",
    "    \n",
    "    # TODO: this\n",
    "    # sc.stats.binned_statistic()\n",
    "    binned = None\n",
    "    return bins, binned"
   ]
  },
  {
   "cell_type": "code",
   "execution_count": 28,
   "metadata": {},
   "outputs": [],
   "source": [
    "files = glob(\"../data/calibration/*.tsv\")\n",
    "files.sort()\n",
    "\n",
    "dataset: list[Calibration] = []\n",
    "for file in files:\n",
    "    _, t, signal, _ = np.loadtxt(file, unpack=True, delimiter=\"\\t\", converters=lambda s: s.replace(',', '.'))\n",
    "    sensor, filterr, lower, upper = file.split('/')[-1][:-4].split('-')\n",
    "    lower = int(lower)\n",
    "    upper = int(upper)\n",
    "    filterr = int(filterr)\n",
    "\n",
    "    data = Calibration(\n",
    "        sensor=sensor, filter=filterr, min_lambda=lower, max_lambda=upper,\n",
    "        lambd=np.linspace(lower, upper, len(t), endpoint=True),\n",
    "        intensity=signal\n",
    "    )\n",
    "\n",
    "    dataset.append(data)"
   ]
  },
  {
   "cell_type": "code",
   "execution_count": 31,
   "metadata": {},
   "outputs": [
    {
     "name": "stdout",
     "output_type": "stream",
     "text": [
      "(array([0, 0, 0, 0, 0, 0, 0, 0, 0, 0, 0, 0, 0, 0, 0, 0, 0, 0, 0, 0, 0, 0,\n",
      "       0, 0, 0, 0, 0, 0, 0, 0, 0, 0, 0, 0, 0, 0, 0, 0, 0, 0, 0, 0, 0, 0,\n",
      "       0, 0, 0, 0, 0, 0, 0, 0, 0, 0, 0, 0, 0, 0, 0, 0, 0, 0, 0, 0, 0, 0,\n",
      "       0, 0, 0, 0, 0, 0, 0, 0, 0, 0, 0, 0, 0, 0, 0, 0, 0, 0, 0, 0, 0, 0,\n",
      "       0]), array([ 200,  210,  220,  230,  240,  250,  260,  270,  280,  290,  300,\n",
      "        310,  320,  330,  340,  350,  360,  370,  380,  390,  400,  410,\n",
      "        420,  430,  440,  450,  460,  470,  480,  490,  500,  510,  520,\n",
      "        530,  540,  550,  560,  570,  580,  590,  600,  610,  620,  630,\n",
      "        640,  650,  660,  670,  680,  690,  700,  710,  720,  730,  740,\n",
      "        750,  760,  770,  780,  790,  800,  810,  820,  830,  840,  850,\n",
      "        860,  870,  880,  890,  900,  910,  920,  930,  940,  950,  960,\n",
      "        970,  980,  990, 1000, 1010, 1020, 1030, 1040, 1050, 1060, 1070,\n",
      "       1080, 1090]))\n"
     ]
    }
   ],
   "source": [
    "data = dataset[6]\n",
    "print(np.histogram(data.intensity, np.arange(200, 1100, 10)))\n"
   ]
  },
  {
   "cell_type": "code",
   "execution_count": null,
   "metadata": {},
   "outputs": [],
   "source": [
    "plt.plot(data.lambd, data.intensity)\n",
    "\n",
    "bins, binned = binit(data.intensity, data.min_lambda, data.max_lambda, 10)\n",
    "print(bins, binned)\n",
    "plt.scatter(bins, binned)"
   ]
  }
 ],
 "metadata": {
  "kernelspec": {
   "display_name": ".venv",
   "language": "python",
   "name": "python3"
  },
  "language_info": {
   "codemirror_mode": {
    "name": "ipython",
    "version": 3
   },
   "file_extension": ".py",
   "mimetype": "text/x-python",
   "name": "python",
   "nbconvert_exporter": "python",
   "pygments_lexer": "ipython3",
   "version": "3.13.3"
  }
 },
 "nbformat": 4,
 "nbformat_minor": 2
}
