{
 "cells": [
  {
   "cell_type": "code",
   "execution_count": 269,
   "metadata": {},
   "outputs": [],
   "source": [
    "import numpy as np\n",
    "import scipy as sc\n",
    "import matplotlib as mpl\n",
    "import matplotlib.pyplot as plt\n",
    "from uncertainties import unumpy as unp\n",
    "from uncertainties import ufloat, umath\n",
    "\n",
    "from options import *\n",
    "from constants import *\n",
    "\n",
    "nom_vals = unp.nominal_values\n",
    "std_devs = unp.std_devs\n",
    "\n",
    "mpl.rcParams.update(rcParams)"
   ]
  },
  {
   "cell_type": "code",
   "execution_count": 270,
   "metadata": {},
   "outputs": [
    {
     "name": "stdout",
     "output_type": "stream",
     "text": [
      "[ 10.   20.   50.   70.  100.  189.1 220.2 276.6 304.3]\n",
      "[2598.6        2624.3125     2626.77       2623.85714286 2625.955\n",
      " 2687.94817557 2686.71662125 2652.67172813 2624.93263227] [2480.05       2484.9        2477.89       2487.55357143 2486.935\n",
      " 2448.12268641 2460.65849228 2475.18438178 2483.50640815] [13.075      12.975      13.785      13.33571429 13.5175     13.22580645\n",
      " 13.6239782  13.38033261 13.14492277]\n"
     ]
    }
   ],
   "source": [
    "N1, N2, N12, t = np.loadtxt(\"../data/coincidence_cs137.csv\", delimiter=',', unpack=True, skiprows=1)\n",
    "\n",
    "# N1 = unp.uarray(N1, np.sqrt(N1))\n",
    "# N2 = unp.uarray(N2, np.sqrt(N2))\n",
    "# N12 = unp.uarray(N12, np.sqrt(N12))\n",
    "# t = unp.uarray(t, ERROR_TIME)\n",
    "\n",
    "m1 = N1 / t\n",
    "m2 = N2 / t\n",
    "m12 = N12 / t\n",
    "\n",
    "unique_t = np.unique(t)\n",
    "print(unique_t)\n",
    "avg_m1 = np.zeros(unique_t.shape)\n",
    "avg_m2 = np.zeros(unique_t.shape)\n",
    "avg_m12 = np.zeros(unique_t.shape)\n",
    "for i, t_ in enumerate(unique_t):\n",
    "    avg_m1[i] = np.mean(m1[t == t_])\n",
    "    avg_m2[i] = np.mean(m2[t == t_])\n",
    "    avg_m12[i] = np.mean(m12[t == t_])\n",
    "\n",
    "print(avg_m1, avg_m2, avg_m12)\n"
   ]
  },
  {
   "cell_type": "code",
   "execution_count": 271,
   "metadata": {},
   "outputs": [
    {
     "name": "stdout",
     "output_type": "stream",
     "text": [
      "Unique measures [2.02881210e-06 1.98967847e-06 2.11788659e-06 2.04316600e-06\n",
      " 2.06987760e-06 2.00987058e-06 2.06077575e-06 2.03786704e-06\n",
      " 2.01639027e-06]\n",
      "Fit: 4.597149963337926e-06\n"
     ]
    }
   ],
   "source": [
    "params, cov = np.polyfit(avg_m1[-4:]*avg_m2[-4:], avg_m12[-4:], 1, cov=True)\n",
    "\n",
    "twotheta = params[0]\n",
    "\n",
    "test_twotheta = avg_m12 / (avg_m1*avg_m2)\n",
    "print(f'Unique measures {test_twotheta}')\n",
    "# sigma_twotheta = pass\n",
    "print(f'Fit: {twotheta}')"
   ]
  },
  {
   "cell_type": "code",
   "execution_count": 272,
   "metadata": {},
   "outputs": [
    {
     "data": {
      "text/plain": [
       "[<matplotlib.lines.Line2D at 0x13ad10ec0>]"
      ]
     },
     "execution_count": 272,
     "metadata": {},
     "output_type": "execute_result"
    },
    {
     "data": {
      "image/png": "[encoded data removed]",
      "text/plain": [
       "<Figure size 395x296 with 1 Axes>"
      ]
     },
     "metadata": {},
     "output_type": "display_data"
    }
   ],
   "source": [
    "plt.xlabel('$m_1 m_2$')\n",
    "plt.ylabel('$m_{12}$')\n",
    "plt.scatter(avg_m1*avg_m2, avg_m12)\n",
    "plt.scatter(avg_m1[-4:]*avg_m2[-4:], avg_m12[-4:], c='Red')\n",
    "x = np.linspace(min(avg_m1*avg_m2), max(avg_m1*avg_m2), 200)\n",
    "plt.plot(x, params[0]*x + params[1])"
   ]
  }
 ],
 "metadata": {
  "kernelspec": {
   "display_name": "Python 3",
   "language": "python",
   "name": "python3"
  },
  "language_info": {
   "codemirror_mode": {
    "name": "ipython",
    "version": 3
   },
   "file_extension": ".py",
   "mimetype": "text/x-python",
   "name": "python",
   "nbconvert_exporter": "python",
   "pygments_lexer": "ipython3",
   "version": "3.12.6"
  }
 },
 "nbformat": 4,
 "nbformat_minor": 2
}
