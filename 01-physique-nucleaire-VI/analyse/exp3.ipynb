{
 "cells": [
  {
   "cell_type": "code",
   "execution_count": 37,
   "metadata": {},
   "outputs": [],
   "source": [
    "import numpy as np\n",
    "import scipy as sc\n",
    "import math\n",
    "import matplotlib as mpl\n",
    "import matplotlib.pyplot as plt\n",
    "from uncertainties import unumpy as unp\n",
    "from uncertainties import ufloat, umath\n",
    "\n",
    "from options import *\n",
    "from constants import *\n",
    "\n",
    "nom_vals = unp.nominal_values\n",
    "std_devs = unp.std_devs\n",
    "\n",
    "mpl.rcParams.update(rcParams)"
   ]
  },
  {
   "cell_type": "code",
   "execution_count": 38,
   "metadata": {},
   "outputs": [],
   "source": [
    "# === Data import, low mean, 3ms dwell value\n",
    "lowmean = np.loadtxt('../data/stat_lowmean3ms.TKA')"
   ]
  },
  {
   "cell_type": "code",
   "execution_count": 39,
   "metadata": {},
   "outputs": [
    {
     "name": "stdout",
     "output_type": "stream",
     "text": [
      "Mean of the low mean distribution measure set: 3.81\n"
     ]
    }
   ],
   "source": [
    "m = np.mean(lowmean)\n",
    "total_counts = np.sum(lowmean)\n",
    "total_samples = len(lowmean)\n",
    "print(f\"Mean of the low mean distribution measure set: {m:.2f}\")"
   ]
  },
  {
   "cell_type": "code",
   "execution_count": 40,
   "metadata": {},
   "outputs": [
    {
     "data": {
      "text/plain": [
       "<BarContainer object of 16 artists>"
      ]
     },
     "execution_count": 40,
     "metadata": {},
     "output_type": "execute_result"
    },
    {
     "data": {
      "image/png": "[encoded data removed]",
      "text/plain": [
       "<Figure size 395x296 with 1 Axes>"
      ]
     },
     "metadata": {},
     "output_type": "display_data"
    }
   ],
   "source": [
    "N, frequencies = np.unique_counts(lowmean)\n",
    "plt.xlabel(\"$N$\")\n",
    "plt.ylabel(\"$f(N)$\")\n",
    "plt.bar(N, frequencies)"
   ]
  },
  {
   "cell_type": "code",
   "execution_count": 41,
   "metadata": {},
   "outputs": [
    {
     "name": "stdout",
     "output_type": "stream",
     "text": [
      "Test statistic: 3.9534628566764645\n",
      "Critical value for alpha=0.05 is 15.50731305586545\n",
      "p-value = 0.861297591899411\n",
      "This statistic has been NOT REJECTED\n"
     ]
    }
   ],
   "source": [
    "upper = 8\n",
    "lower = 0\n",
    "keep_idx = np.logical_and(N >= lower, N <= upper)\n",
    "upper_idx = np.nonzero(keep_idx)[0][-1]\n",
    "lower_idx = np.nonzero(keep_idx)[0][0]\n",
    "add = True\n",
    "\n",
    "merged_counts = N[keep_idx]\n",
    "merged_frequencies = frequencies[keep_idx]\n",
    "if add:\n",
    "    merged_frequencies[-1] = np.sum(frequencies[upper_idx:])\n",
    "    merged_frequencies[0] += np.sum(frequencies[:lower_idx])\n",
    "\n",
    "poisson = sc.stats.poisson(m)\n",
    "expected_probabilities = poisson.pmf(merged_counts)\n",
    "# expected_probabilities[-1] = 1 - poisson.cdf(merged_counts[-1])  # = \\sum_thresh^inf pmf\n",
    "expected_frequencies = expected_probabilities * total_samples\n",
    "\n",
    "test_statistic = np.sum((merged_frequencies - expected_frequencies)**2 / expected_frequencies)\n",
    "\n",
    "dof =  len(merged_frequencies) - 1  # -1 bc we follow chi2, -1 bc of average\n",
    "chi2 = sc.stats.chi2(dof)\n",
    "\n",
    "alpha = 0.05\n",
    "alpha_statistic = chi2.ppf(1 - alpha)\n",
    "print(f\"Test statistic: {test_statistic}\")\n",
    "print(f\"Critical value for alpha={alpha} is {alpha_statistic}\")\n",
    "\n",
    "pvalue = 1 - chi2.cdf(test_statistic)\n",
    "print(f'p-value = {pvalue}')\n",
    "print(f\"This statistic has been {'NOT REJECTED' if pvalue > alpha else 'REJECTED'}\")"
   ]
  },
  {
   "cell_type": "code",
   "execution_count": 42,
   "metadata": {},
   "outputs": [
    {
     "data": {
      "text/plain": [
       "<matplotlib.legend.Legend at 0x7f2b3abde900>"
      ]
     },
     "execution_count": 42,
     "metadata": {},
     "output_type": "execute_result"
    },
    {
     "data": {
      "image/png": "[encoded data removed]",
      "text/plain": [
       "<Figure size 395x296 with 1 Axes>"
      ]
     },
     "metadata": {},
     "output_type": "display_data"
    }
   ],
   "source": [
    "plt.xlabel(\"$N$\")\n",
    "plt.ylabel(\"Frequencies\")\n",
    "plt.bar(merged_counts, merged_frequencies, label='Data')\n",
    "plt.scatter(merged_counts, expected_frequencies, label='Theoretical')\n",
    "plt.legend()"
   ]
  },
  {
   "cell_type": "markdown",
   "metadata": {},
   "source": [
    "# HIGHMEAN"
   ]
  },
  {
   "cell_type": "code",
   "execution_count": 43,
   "metadata": {},
   "outputs": [],
   "source": [
    "highmean = np.loadtxt('../data/stat_highmean300ms.TKA')"
   ]
  },
  {
   "cell_type": "code",
   "execution_count": 44,
   "metadata": {},
   "outputs": [
    {
     "name": "stdout",
     "output_type": "stream",
     "text": [
      "Mean of the low mean distribution measure set: 228.10\n"
     ]
    }
   ],
   "source": [
    "m = np.mean(highmean)\n",
    "total_counts = np.sum(highmean)\n",
    "total_samples = len(highmean)\n",
    "print(f\"Mean of the low mean distribution measure set: {m:.2f}\")"
   ]
  },
  {
   "cell_type": "code",
   "execution_count": 46,
   "metadata": {},
   "outputs": [],
   "source": [
    "N, frequencies = np.unique_counts(highmean)"
   ]
  },
  {
   "cell_type": "code",
   "execution_count": 47,
   "metadata": {},
   "outputs": [
    {
     "name": "stdout",
     "output_type": "stream",
     "text": [
      "Test statistic: 97.97213213294152\n",
      "Critical value for alpha=0.05 is 113.1452701425554\n",
      "p-value = 0.265369755167695\n",
      "This statistic has been NOT REJECTED\n"
     ]
    }
   ],
   "source": [
    "upper = 275\n",
    "lower = 1\n",
    "keep_idx = np.logical_and(N >= lower, N <= upper)\n",
    "upper_idx = np.nonzero(keep_idx)[0][-1]\n",
    "lower_idx = np.nonzero(keep_idx)[0][0]\n",
    "add = True\n",
    "\n",
    "merged_counts = N[keep_idx]\n",
    "merged_frequencies = frequencies[keep_idx]\n",
    "if add:\n",
    "    merged_frequencies[-1] = np.sum(frequencies[upper_idx:])\n",
    "    merged_frequencies[0] += np.sum(frequencies[:lower_idx])\n",
    "\n",
    "gauss = sc.stats.norm(m, np.sqrt(m))\n",
    "expected_probabilities = gauss.pdf(merged_counts)\n",
    "if add:\n",
    "    expected_probabilities[0] = gauss.cdf(merged_counts[0])\n",
    "    expected_probabilities[-1] = 1 - gauss.cdf(merged_counts[-1])\n",
    "expected_frequencies = expected_probabilities * np.sum(merged_frequencies)\n",
    "\n",
    "test_statistic = np.sum((merged_frequencies - expected_frequencies)**2 / expected_frequencies)\n",
    "\n",
    "dof =  len(merged_frequencies) - 1 - 1 # -1 bc we follow chi2, -1 bc of average, -1 bc of std\n",
    "chi2 = sc.stats.chi2(dof)\n",
    "\n",
    "alpha = 0.05\n",
    "alpha_statistic = chi2.ppf(1 - alpha)\n",
    "print(f\"Test statistic: {test_statistic}\")\n",
    "print(f\"Critical value for alpha={alpha} is {alpha_statistic}\")\n",
    "\n",
    "pvalue = 1 - chi2.cdf(test_statistic)\n",
    "print(f'p-value = {pvalue}')\n",
    "print(f\"This statistic has been {'NOT REJECTED' if pvalue > alpha else 'REJECTED'}\")"
   ]
  },
  {
   "cell_type": "code",
   "execution_count": 48,
   "metadata": {},
   "outputs": [
    {
     "data": {
      "text/plain": [
       "(100.0, 300.0)"
      ]
     },
     "execution_count": 48,
     "metadata": {},
     "output_type": "execute_result"
    },
    {
     "data": {
      "image/png": "[encoded data removed]",
      "text/plain": [
       "<Figure size 395x296 with 1 Axes>"
      ]
     },
     "metadata": {},
     "output_type": "display_data"
    }
   ],
   "source": [
    "plt.xlabel(\"$N$\")\n",
    "plt.ylabel(\"$f(N)$\")\n",
    "plt.plot(N, frequencies)\n",
    "plt.plot(merged_counts, expected_frequencies)\n",
    "plt.xlim(100, 300)"
   ]
  }
 ],
 "metadata": {
  "kernelspec": {
   "display_name": ".venv",
   "language": "python",
   "name": "python3"
  },
  "language_info": {
   "codemirror_mode": {
    "name": "ipython",
    "version": 3
   },
   "file_extension": ".py",
   "mimetype": "text/x-python",
   "name": "python",
   "nbconvert_exporter": "python",
   "pygments_lexer": "ipython3",
   "version": "3.12.5"
  }
 },
 "nbformat": 4,
 "nbformat_minor": 2
}
