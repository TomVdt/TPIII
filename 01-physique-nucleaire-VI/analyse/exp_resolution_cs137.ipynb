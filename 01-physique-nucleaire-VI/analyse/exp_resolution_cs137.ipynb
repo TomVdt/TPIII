{
 "cells": [
  {
   "cell_type": "code",
   "execution_count": 79,
   "metadata": {},
   "outputs": [],
   "source": [
    "import numpy as np\n",
    "import scipy as sc\n",
    "import matplotlib as mpl\n",
    "import matplotlib.pyplot as plt\n",
    "from uncertainties import unumpy as unp\n",
    "from uncertainties import ufloat, umath\n",
    "\n",
    "from options import *\n",
    "from constants import *\n",
    "\n",
    "nom_vals = unp.nominal_values\n",
    "std_devs = unp.std_devs\n",
    "\n",
    "mpl.rcParams.update(rcParams)"
   ]
  },
  {
   "cell_type": "code",
   "execution_count": 80,
   "metadata": {},
   "outputs": [],
   "source": [
    "N1, N2, N12, t = np.loadtxt(\"../data/coincidence_cs137_run2.csv\", delimiter=',', unpack=True, skiprows=1)\n",
    "\n",
    "N1 = unp.uarray(N1, np.sqrt(N1))\n",
    "N2 = unp.uarray(N2, np.sqrt(N2))\n",
    "N12 = unp.uarray(N12, np.sqrt(N12))\n",
    "t = unp.uarray(t, ERROR_TIME)\n",
    "\n",
    "m1 = N1 / t\n",
    "m2 = N2 / t\n",
    "m12 = N12 / t"
   ]
  },
  {
   "cell_type": "code",
   "execution_count": 83,
   "metadata": {},
   "outputs": [
    {
     "name": "stdout",
     "output_type": "stream",
     "text": [
      "Unique measures min: (1.98+/-0.09)e-06, max: (2.37+/-0.12)e-06, mean: (2.110+/-0.018)e-06\n",
      "Fit: 2.042028935806681e-06\n"
     ]
    }
   ],
   "source": [
    "# params, *_ = np.linalg.lstsq(\n",
    "#     (unp.nominal_values(m1*m2))[:,np.newaxis],\n",
    "#     unp.nominal_values(m12)\n",
    "# )\n",
    "coefs, cov = np.polyfit(\n",
    "    unp.nominal_values(m1*m2),\n",
    "    unp.nominal_values(m12),\n",
    "    1,\n",
    "    w=1/unp.std_devs(m12),\n",
    "    cov=True\n",
    ")\n",
    "coefs_err = unp.uarray(coefs, np.sqrt(np.diag(cov)))\n",
    "fitfunc = np.poly1d(coefs)\n",
    "twotheta = coefs[0]\n",
    "\n",
    "test_twotheta = m12 / (m1*m2)\n",
    "print(f'Unique measures min: {test_twotheta.min()}, max: {test_twotheta.max()}, mean: {test_twotheta.mean()}')\n",
    "# sigma_twotheta = pass\n",
    "print(f'Fit: {twotheta}')"
   ]
  },
  {
   "cell_type": "code",
   "execution_count": 84,
   "metadata": {},
   "outputs": [
    {
     "data": {
      "image/png": "[encoded data removed]",
      "text/plain": [
       "<Figure size 395x296 with 1 Axes>"
      ]
     },
     "metadata": {},
     "output_type": "display_data"
    }
   ],
   "source": [
    "plt.xlabel('$m_1 m_2$ [s$^{-2}$]')\n",
    "plt.ylabel('$m_{12}$ [s$^{-1}$]')\n",
    "\n",
    "plt.errorbar(\n",
    "    unp.nominal_values(m1*m2),\n",
    "    unp.nominal_values(m12),\n",
    "    xerr=unp.std_devs(m1*m2), yerr=unp.std_devs(m12), \n",
    "    ls='', capsize=3)\n",
    "\n",
    "x = np.linspace(plt.xlim()[0], plt.xlim()[1], 200)\n",
    "# x = np.linspace(min(m1*m2).n, max(m1*m2).n, 200)\n",
    "plt.plot(x, fitfunc(x),\n",
    "         ls='--', c='k',\n",
    "         label=r'$y = {:.1uepL} x$'.format(*coefs_err))\n",
    "plt.legend()\n",
    "plt.savefig('../figures/twotheta_cs137.pdf')"
   ]
  },
  {
   "cell_type": "code",
   "execution_count": 27,
   "metadata": {},
   "outputs": [],
   "source": [
    "with open('../data/2theta_resolution.csv', 'w') as f:\n",
    "    f.seek(0)\n",
    "    f.write(str(twotheta))\n",
    "    f.truncate()"
   ]
  }
 ],
 "metadata": {
  "kernelspec": {
   "display_name": "Python 3",
   "language": "python",
   "name": "python3"
  },
  "language_info": {
   "codemirror_mode": {
    "name": "ipython",
    "version": 3
   },
   "file_extension": ".py",
   "mimetype": "text/x-python",
   "name": "python",
   "nbconvert_exporter": "python",
   "pygments_lexer": "ipython3",
   "version": "3.12.6"
  }
 },
 "nbformat": 4,
 "nbformat_minor": 2
}
