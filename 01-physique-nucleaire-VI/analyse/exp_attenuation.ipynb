{
 "cells": [
  {
   "cell_type": "code",
   "execution_count": 21,
   "metadata": {},
   "outputs": [],
   "source": [
    "import numpy as np\n",
    "import scipy as sc\n",
    "import matplotlib as mpl\n",
    "import matplotlib.pyplot as plt\n",
    "from uncertainties import unumpy as unp\n",
    "from uncertainties import ufloat, umath\n",
    "\n",
    "from options import *\n",
    "from constants import *\n",
    "\n",
    "nom_vals = unp.nominal_values\n",
    "std_devs = unp.std_devs\n",
    "\n",
    "mpl.rcParams.update(rcParams)"
   ]
  },
  {
   "cell_type": "code",
   "execution_count": 22,
   "metadata": {},
   "outputs": [
    {
     "name": "stdout",
     "output_type": "stream",
     "text": [
      "Attenuation coefficient pour alu: 0.20 ± 0.01, I_0 = 111.34 ± 1.95\n"
     ]
    }
   ],
   "source": [
    "al_thickness, al_counts, al_times = np.loadtxt(\"../data/counts_cs137_alu.csv\",skiprows=1, unpack=True, delimiter=',')\n",
    "al_rates = al_counts / al_times\n",
    "al_thickness = al_thickness / 10 # convert in cm\n",
    "al_rates_sigma = al_rates * (ERROR_ATTENUATION_COUNT / al_counts + ERROR_TIME / al_times)\n",
    "\n",
    "al_params, al_cov = np.polyfit(al_thickness, np.log(al_rates),1, cov=True)\n",
    "sigma_al_params = np.sqrt(np.diag(al_cov))\n",
    "\n",
    "# mu coefficient d'attenuation linéaire, I0 intensité du faisceau\n",
    "mu_al = al_params[0]\n",
    "sigma_mu_al = sigma_al_params[0]\n",
    "I0_al = np.exp(al_params[1])\n",
    "sigma_I0_al = sigma_al_params[1] * I0_al\n",
    "\n",
    "print(f\"Attenuation coefficient pour alu: {abs(al_params[0]):.2f} ± {sigma_al_params[0]:.2f}, I_0 = {I0_al:.2f} ± {sigma_I0_al:.2f}\")\n"
   ]
  },
  {
   "cell_type": "code",
   "execution_count": 23,
   "metadata": {},
   "outputs": [
    {
     "name": "stdout",
     "output_type": "stream",
     "text": [
      "Attenuation coefficient pour plomb: 1.08 ± 0.03, I_0 = 116.13 ± 4.73\n"
     ]
    }
   ],
   "source": [
    "pb_thickness, pb_counts, pb_times = np.loadtxt(\"../data/counts_cs137_pb.csv\",skiprows=1, unpack=True, delimiter=',')\n",
    "pb_rates = pb_counts / pb_times\n",
    "pb_thickness = pb_thickness / 10 # convert in cm\n",
    "pb_rates_sigma = pb_rates * (ERROR_ATTENUATION_COUNT / pb_counts + ERROR_TIME / pb_times)\n",
    "\n",
    "pb_params, pb_cov = np.polyfit(pb_thickness, np.log(pb_rates), 1, cov=True)\n",
    "sigma_pb_params = np.sqrt(np.diag(pb_cov))\n",
    "\n",
    "mu_pb = pb_params[0]\n",
    "sigma_mu_pb = sigma_pb_params[0]\n",
    "I0_pb = np.exp(pb_params[1])\n",
    "sigma_I0_pb = sigma_pb_params[1] * I0_pb\n",
    "\n",
    "print(f\"Attenuation coefficient pour plomb: {abs(pb_params[0]):.2f} ± {sigma_pb_params[0]:.2f}, I_0 = {I0_pb:.2f} ± {sigma_I0_pb:.2f}\")"
   ]
  },
  {
   "cell_type": "code",
   "execution_count": 24,
   "metadata": {},
   "outputs": [
    {
     "data": {
      "image/png": "[encoded data removed]",
      "text/plain": [
       "<Figure size 614.173x358.268 with 1 Axes>"
      ]
     },
     "metadata": {},
     "output_type": "display_data"
    }
   ],
   "source": [
    "# === Plot ensemble ===\n",
    "p = plt.rcParams\n",
    "p[\"figure.figsize\"] = (12*INCH_PER_CM, 7*INCH_PER_CM)\n",
    "p['savefig.bbox'] = 'standard'\n",
    "p[\"figure.subplot.left\"]   = 0.12\n",
    "p['figure.subplot.right']  = 0.97\n",
    "p['figure.subplot.top']    = 0.97\n",
    "p['figure.subplot.bottom'] = 0.18\n",
    "p[\"lines.linewidth\"] = 0.75\n",
    "\n",
    "plt.yscale('log')\n",
    "plt.xlabel(\"$x$ [cm]\")\n",
    "plt.ylabel(r\"$I$ [s$^{-1}$]\")\n",
    "\n",
    "left_xlim = -0.2\n",
    "right_xlim = 3\n",
    "bottom_ylim = 1\n",
    "top_ylim = 300\n",
    "plt.xlim(left_xlim, right_xlim)\n",
    "plt.ylim(bottom_ylim, top_ylim)\n",
    "x = np.linspace(left_xlim,right_xlim,50)\n",
    "\n",
    "plt.errorbar(al_thickness, al_rates,\n",
    "             ls='', marker='+', c='C0', markersize=10)\n",
    "plt.plot(x, np.exp(al_params[0]*x)*np.exp(al_params[1]),\n",
    "         ls='--', c='C0',\n",
    "         label=f'Al: $y = ({I0_al:.0f} \\\\pm {sigma_I0_al:.0f}) \\\\exp(({{ {mu_al:.2f} \\\\pm {sigma_mu_al:.2f}}})x)$')\n",
    "\n",
    "plt.errorbar(pb_thickness, pb_rates,\n",
    "             ls='', marker='+', c='C1', markersize=10)\n",
    "plt.plot(x, np.exp(pb_params[0]*x)*np.exp(pb_params[1]),\n",
    "         ls='-.', c='C1',\n",
    "         label=f'Pb: $y = ({I0_pb:.0f} \\\\pm {sigma_I0_pb:.0f}) \\\\exp(({{ {mu_pb:.2f} \\\\pm {sigma_mu_pb:.2f}}})x)$')\n",
    "\n",
    "plt.legend()\n",
    "plt.savefig('../figures/attenuation_coefficient.pdf')"
   ]
  },
  {
   "cell_type": "markdown",
   "metadata": {},
   "source": [
    "Mass attenuation"
   ]
  },
  {
   "cell_type": "code",
   "execution_count": 25,
   "metadata": {},
   "outputs": [
    {
     "name": "stdout",
     "output_type": "stream",
     "text": [
      "\\left(0.0744 \\pm 0.0042\\right) cm²/g 0.04599790307695476\n"
     ]
    }
   ],
   "source": [
    "DENSITY_AL = ufloat(2.69890, 0.00001)  # g/cm³\n",
    "mu_al = ufloat(-al_params[0], sigma_al_params[0])\n",
    "mu_d_al = mu_al / DENSITY_AL\n",
    "rel_err = abs(mu_d_al.n - 0.07802) / 0.07802\n",
    "print(fr\"{mu_d_al:.2upL} cm²/g\", rel_err)"
   ]
  },
  {
   "cell_type": "code",
   "execution_count": 26,
   "metadata": {},
   "outputs": [
    {
     "name": "stdout",
     "output_type": "stream",
     "text": [
      "\\left(0.0953 \\pm 0.0029\\right) cm²/g\n"
     ]
    }
   ],
   "source": [
    "DENSITY_PB = ufloat(11.3500, 0.0001)  # g/cm³\n",
    "mu_pb = ufloat(-pb_params[0], sigma_pb_params[0])\n",
    "mu_d_pb = mu_pb / DENSITY_PB\n",
    "print(fr\"{mu_d_pb:.2upL} cm²/g\")"
   ]
  }
 ],
 "metadata": {
  "kernelspec": {
   "display_name": "Python 3",
   "language": "python",
   "name": "python3"
  },
  "language_info": {
   "codemirror_mode": {
    "name": "ipython",
    "version": 3
   },
   "file_extension": ".py",
   "mimetype": "text/x-python",
   "name": "python",
   "nbconvert_exporter": "python",
   "pygments_lexer": "ipython3",
   "version": "3.12.7"
  }
 },
 "nbformat": 4,
 "nbformat_minor": 2
}
