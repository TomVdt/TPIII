{
 "cells": [
  {
   "cell_type": "code",
   "execution_count": 33,
   "metadata": {},
   "outputs": [],
   "source": [
    "import numpy as np\n",
    "import scipy as sc\n",
    "import matplotlib as mpl\n",
    "import matplotlib.pyplot as plt\n",
    "from uncertainties import unumpy as unp\n",
    "from uncertainties import ufloat, umath\n",
    "\n",
    "from options import *\n",
    "from constants import *\n",
    "\n",
    "nom_vals = unp.nominal_values\n",
    "std_devs = unp.std_devs\n",
    "\n",
    "mpl.rcParams.update(rcParams)"
   ]
  },
  {
   "cell_type": "code",
   "execution_count": 34,
   "metadata": {},
   "outputs": [
    {
     "name": "stdout",
     "output_type": "stream",
     "text": [
      "[3369.3+/-0.1 4799.9+/-0.1]\n",
      "[7.680823910010981+/-0.04774622205166841\n",
      " 7.7203691743578+/-0.04010573057327148] [465.0900780577568+/-0.37179045377958386\n",
      " 463.38277880789184+/-0.31085895525187957] [0.8728816074555545+/-0.016095645297139523\n",
      " 0.8752265672201505+/-0.013503443985328656]\n"
     ]
    }
   ],
   "source": [
    "N1, N2, N12, t = np.loadtxt(\"../data/activity_co57.csv\", delimiter=',', unpack=True, skiprows=1)\n",
    "\n",
    "N1 = unp.uarray(N1, np.sqrt(N1))\n",
    "N2 = unp.uarray(N2, np.sqrt(N2))\n",
    "N12 = unp.uarray(N12, np.sqrt(N12))\n",
    "t = unp.uarray(t, ERROR_TIME)\n",
    "\n",
    "m1 = N1 / t\n",
    "m2 = N2 / t\n",
    "m12 = N12 / t\n",
    "\n",
    "unique_t = np.unique(t)\n",
    "print(unique_t)\n",
    "avg_m1 = unp.uarray(np.zeros_like(unique_t), 0)\n",
    "avg_m2 = unp.uarray(np.zeros_like(unique_t), 0)\n",
    "avg_m12 = unp.uarray(np.zeros_like(unique_t), 0)\n",
    "for i, t_ in enumerate(unique_t):\n",
    "    avg_m1[i] = np.mean(m1[t == t_])\n",
    "    avg_m2[i] = np.mean(m2[t == t_])\n",
    "    avg_m12[i] = np.mean(m12[t == t_])\n",
    "\n",
    "print(avg_m1, avg_m2, avg_m12)\n"
   ]
  },
  {
   "cell_type": "code",
   "execution_count": 35,
   "metadata": {},
   "outputs": [
    {
     "data": {
      "text/plain": [
       "array(2.03090568e-06)"
      ]
     },
     "execution_count": 35,
     "metadata": {},
     "output_type": "execute_result"
    }
   ],
   "source": [
    "twotheta = np.loadtxt(\"../data/2theta_resolution.csv\")\n",
    "twotheta"
   ]
  },
  {
   "cell_type": "code",
   "execution_count": 36,
   "metadata": {},
   "outputs": [
    {
     "name": "stdout",
     "output_type": "stream",
     "text": [
      "7.68+/-0.05 465.1+/-0.4 0.873+/-0.016 2.0309056807801192e-06\n"
     ]
    }
   ],
   "source": [
    "print(m1[0], m2[0], m12[0], twotheta)"
   ]
  },
  {
   "cell_type": "code",
   "execution_count": 37,
   "metadata": {},
   "outputs": [
    {
     "data": {
      "text/plain": [
       "array([4126.807990301088+/-81.04586566813217,\n",
       "       4121.712837802523+/-67.71876610545878], dtype=object)"
      ]
     },
     "execution_count": 37,
     "metadata": {},
     "output_type": "execute_result"
    }
   ],
   "source": [
    "m1 * m2 / (m12 - twotheta * m1 * m2)"
   ]
  },
  {
   "cell_type": "code",
   "execution_count": 8,
   "metadata": {},
   "outputs": [
    {
     "name": "stdout",
     "output_type": "stream",
     "text": [
      " ** On entry to DLASCL parameter number  4 had an illegal value\n",
      " ** On entry to DLASCL parameter number  4 had an illegal value\n",
      " ** On entry to DLASCL parameter number  4 had an illegal value\n",
      " ** On entry to DLASCL parameter number  4 had an illegal value\n",
      " ** On entry to DLASCL parameter number  5 had an illegal value\n",
      " ** On entry to DLASCL parameter number  4 had an illegal value\n"
     ]
    },
    {
     "name": "stderr",
     "output_type": "stream",
     "text": [
      "/tmp/ipykernel_14612/1082577160.py:9: RuntimeWarning: divide by zero encountered in divide\n",
      "  w=(*(1/unp.std_devs(avg_m12)), 1e9),\n",
      "/home/tom/Documents/EPFL/BA5/TPIIIa/.venv/lib64/python3.12/site-packages/numpy/lib/_polynomial_impl.py:649: RuntimeWarning: invalid value encountered in multiply\n",
      "  lhs *= w[:, NX.newaxis]\n",
      "/home/tom/Documents/EPFL/BA5/TPIIIa/.venv/lib64/python3.12/site-packages/numpy/lib/_polynomial_impl.py:653: RuntimeWarning: invalid value encountered in multiply\n",
      "  rhs *= w\n",
      "/home/tom/Documents/EPFL/BA5/TPIIIa/.venv/lib64/python3.12/site-packages/numpy/lib/_polynomial_impl.py:657: RuntimeWarning: invalid value encountered in divide\n",
      "  lhs /= scale\n"
     ]
    },
    {
     "ename": "LinAlgError",
     "evalue": "SVD did not converge in Linear Least Squares",
     "output_type": "error",
     "traceback": [
      "\u001b[0;31m---------------------------------------------------------------------------\u001b[0m",
      "\u001b[0;31mLinAlgError\u001b[0m                               Traceback (most recent call last)",
      "Cell \u001b[0;32mIn[8], line 5\u001b[0m\n\u001b[1;32m      1\u001b[0m \u001b[38;5;66;03m# params, *_ = np.linalg.lstsq(\u001b[39;00m\n\u001b[1;32m      2\u001b[0m \u001b[38;5;66;03m#     (unp.nominal_values(avg_m1*avg_m2))[:,np.newaxis],\u001b[39;00m\n\u001b[1;32m      3\u001b[0m \u001b[38;5;66;03m#     unp.nominal_values(avg_m12)\u001b[39;00m\n\u001b[1;32m      4\u001b[0m \u001b[38;5;66;03m# )\u001b[39;00m\n\u001b[0;32m----> 5\u001b[0m coefs, cov \u001b[38;5;241m=\u001b[39m \u001b[43mnp\u001b[49m\u001b[38;5;241;43m.\u001b[39;49m\u001b[43mpolyfit\u001b[49m\u001b[43m(\u001b[49m\n\u001b[1;32m      6\u001b[0m \u001b[43m    \u001b[49m\u001b[43m(\u001b[49m\u001b[38;5;241;43m*\u001b[39;49m\u001b[43munp\u001b[49m\u001b[38;5;241;43m.\u001b[39;49m\u001b[43mnominal_values\u001b[49m\u001b[43m(\u001b[49m\u001b[43mavg_m1\u001b[49m\u001b[38;5;241;43m*\u001b[39;49m\u001b[43mavg_m2\u001b[49m\u001b[43m)\u001b[49m\u001b[43m,\u001b[49m\u001b[43m \u001b[49m\u001b[38;5;241;43m0\u001b[39;49m\u001b[43m)\u001b[49m\u001b[43m,\u001b[49m\n\u001b[1;32m      7\u001b[0m \u001b[43m    \u001b[49m\u001b[43m(\u001b[49m\u001b[38;5;241;43m*\u001b[39;49m\u001b[43munp\u001b[49m\u001b[38;5;241;43m.\u001b[39;49m\u001b[43mnominal_values\u001b[49m\u001b[43m(\u001b[49m\u001b[43mavg_m12\u001b[49m\u001b[43m)\u001b[49m\u001b[43m,\u001b[49m\u001b[43m \u001b[49m\u001b[38;5;241;43m0\u001b[39;49m\u001b[43m)\u001b[49m\u001b[43m,\u001b[49m\n\u001b[1;32m      8\u001b[0m \u001b[43m    \u001b[49m\u001b[38;5;241;43m1\u001b[39;49m\u001b[43m,\u001b[49m\n\u001b[1;32m      9\u001b[0m \u001b[43m    \u001b[49m\u001b[43mw\u001b[49m\u001b[38;5;241;43m=\u001b[39;49m\u001b[43m(\u001b[49m\u001b[38;5;241;43m*\u001b[39;49m\u001b[43m(\u001b[49m\u001b[38;5;241;43m1\u001b[39;49m\u001b[38;5;241;43m/\u001b[39;49m\u001b[43munp\u001b[49m\u001b[38;5;241;43m.\u001b[39;49m\u001b[43mstd_devs\u001b[49m\u001b[43m(\u001b[49m\u001b[43mavg_m12\u001b[49m\u001b[43m)\u001b[49m\u001b[43m)\u001b[49m\u001b[43m,\u001b[49m\u001b[43m \u001b[49m\u001b[38;5;241;43m1e9\u001b[39;49m\u001b[43m)\u001b[49m\u001b[43m,\u001b[49m\n\u001b[1;32m     10\u001b[0m \u001b[43m    \u001b[49m\u001b[43mcov\u001b[49m\u001b[38;5;241;43m=\u001b[39;49m\u001b[38;5;28;43;01mTrue\u001b[39;49;00m\n\u001b[1;32m     11\u001b[0m \u001b[43m)\u001b[49m\n\u001b[1;32m     12\u001b[0m coefs_err \u001b[38;5;241m=\u001b[39m unp\u001b[38;5;241m.\u001b[39muarray(coefs, np\u001b[38;5;241m.\u001b[39msqrt(np\u001b[38;5;241m.\u001b[39mdiag(cov)))\n\u001b[1;32m     13\u001b[0m fitfunc \u001b[38;5;241m=\u001b[39m np\u001b[38;5;241m.\u001b[39mpoly1d(coefs)\n",
      "File \u001b[0;32m~/Documents/EPFL/BA5/TPIIIa/.venv/lib64/python3.12/site-packages/numpy/lib/_polynomial_impl.py:658\u001b[0m, in \u001b[0;36mpolyfit\u001b[0;34m(x, y, deg, rcond, full, w, cov)\u001b[0m\n\u001b[1;32m    656\u001b[0m scale \u001b[38;5;241m=\u001b[39m NX\u001b[38;5;241m.\u001b[39msqrt((lhs\u001b[38;5;241m*\u001b[39mlhs)\u001b[38;5;241m.\u001b[39msum(axis\u001b[38;5;241m=\u001b[39m\u001b[38;5;241m0\u001b[39m))\n\u001b[1;32m    657\u001b[0m lhs \u001b[38;5;241m/\u001b[39m\u001b[38;5;241m=\u001b[39m scale\n\u001b[0;32m--> 658\u001b[0m c, resids, rank, s \u001b[38;5;241m=\u001b[39m \u001b[43mlstsq\u001b[49m\u001b[43m(\u001b[49m\u001b[43mlhs\u001b[49m\u001b[43m,\u001b[49m\u001b[43m \u001b[49m\u001b[43mrhs\u001b[49m\u001b[43m,\u001b[49m\u001b[43m \u001b[49m\u001b[43mrcond\u001b[49m\u001b[43m)\u001b[49m\n\u001b[1;32m    659\u001b[0m c \u001b[38;5;241m=\u001b[39m (c\u001b[38;5;241m.\u001b[39mT\u001b[38;5;241m/\u001b[39mscale)\u001b[38;5;241m.\u001b[39mT  \u001b[38;5;66;03m# broadcast scale coefficients\u001b[39;00m\n\u001b[1;32m    661\u001b[0m \u001b[38;5;66;03m# warn on rank reduction, which indicates an ill conditioned matrix\u001b[39;00m\n",
      "File \u001b[0;32m~/Documents/EPFL/BA5/TPIIIa/.venv/lib64/python3.12/site-packages/numpy/linalg/_linalg.py:2508\u001b[0m, in \u001b[0;36mlstsq\u001b[0;34m(a, b, rcond)\u001b[0m\n\u001b[1;32m   2504\u001b[0m     b \u001b[38;5;241m=\u001b[39m zeros(b\u001b[38;5;241m.\u001b[39mshape[:\u001b[38;5;241m-\u001b[39m\u001b[38;5;241m2\u001b[39m] \u001b[38;5;241m+\u001b[39m (m, n_rhs \u001b[38;5;241m+\u001b[39m \u001b[38;5;241m1\u001b[39m), dtype\u001b[38;5;241m=\u001b[39mb\u001b[38;5;241m.\u001b[39mdtype)\n\u001b[1;32m   2506\u001b[0m \u001b[38;5;28;01mwith\u001b[39;00m errstate(call\u001b[38;5;241m=\u001b[39m_raise_linalgerror_lstsq, invalid\u001b[38;5;241m=\u001b[39m\u001b[38;5;124m'\u001b[39m\u001b[38;5;124mcall\u001b[39m\u001b[38;5;124m'\u001b[39m,\n\u001b[1;32m   2507\u001b[0m               over\u001b[38;5;241m=\u001b[39m\u001b[38;5;124m'\u001b[39m\u001b[38;5;124mignore\u001b[39m\u001b[38;5;124m'\u001b[39m, divide\u001b[38;5;241m=\u001b[39m\u001b[38;5;124m'\u001b[39m\u001b[38;5;124mignore\u001b[39m\u001b[38;5;124m'\u001b[39m, under\u001b[38;5;241m=\u001b[39m\u001b[38;5;124m'\u001b[39m\u001b[38;5;124mignore\u001b[39m\u001b[38;5;124m'\u001b[39m):\n\u001b[0;32m-> 2508\u001b[0m     x, resids, rank, s \u001b[38;5;241m=\u001b[39m \u001b[43mgufunc\u001b[49m\u001b[43m(\u001b[49m\u001b[43ma\u001b[49m\u001b[43m,\u001b[49m\u001b[43m \u001b[49m\u001b[43mb\u001b[49m\u001b[43m,\u001b[49m\u001b[43m \u001b[49m\u001b[43mrcond\u001b[49m\u001b[43m,\u001b[49m\u001b[43m \u001b[49m\u001b[43msignature\u001b[49m\u001b[38;5;241;43m=\u001b[39;49m\u001b[43msignature\u001b[49m\u001b[43m)\u001b[49m\n\u001b[1;32m   2509\u001b[0m \u001b[38;5;28;01mif\u001b[39;00m m \u001b[38;5;241m==\u001b[39m \u001b[38;5;241m0\u001b[39m:\n\u001b[1;32m   2510\u001b[0m     x[\u001b[38;5;241m.\u001b[39m\u001b[38;5;241m.\u001b[39m\u001b[38;5;241m.\u001b[39m] \u001b[38;5;241m=\u001b[39m \u001b[38;5;241m0\u001b[39m\n",
      "File \u001b[0;32m~/Documents/EPFL/BA5/TPIIIa/.venv/lib64/python3.12/site-packages/numpy/linalg/_linalg.py:116\u001b[0m, in \u001b[0;36m_raise_linalgerror_lstsq\u001b[0;34m(err, flag)\u001b[0m\n\u001b[1;32m    115\u001b[0m \u001b[38;5;28;01mdef\u001b[39;00m \u001b[38;5;21m_raise_linalgerror_lstsq\u001b[39m(err, flag):\n\u001b[0;32m--> 116\u001b[0m     \u001b[38;5;28;01mraise\u001b[39;00m LinAlgError(\u001b[38;5;124m\"\u001b[39m\u001b[38;5;124mSVD did not converge in Linear Least Squares\u001b[39m\u001b[38;5;124m\"\u001b[39m)\n",
      "\u001b[0;31mLinAlgError\u001b[0m: SVD did not converge in Linear Least Squares"
     ]
    }
   ],
   "source": [
    "# params, *_ = np.linalg.lstsq(\n",
    "#     (unp.nominal_values(avg_m1*avg_m2))[:,np.newaxis],\n",
    "#     unp.nominal_values(avg_m12)\n",
    "# )\n",
    "coefs, cov = np.polyfit(\n",
    "    (*unp.nominal_values(avg_m1*avg_m2), 0),\n",
    "    (*unp.nominal_values(avg_m12), 0),\n",
    "    1,\n",
    "    w=(*(1/unp.std_devs(avg_m12)), 1e9),\n",
    "    cov=True\n",
    ")\n",
    "coefs_err = unp.uarray(coefs, np.sqrt(np.diag(cov)))\n",
    "fitfunc = np.poly1d(coefs)\n",
    "twotheta = coefs[0]\n",
    "\n",
    "test_twotheta = avg_m12 / (avg_m1*avg_m2)\n",
    "print(f'Unique measures {test_twotheta}')\n",
    "# sigma_twotheta = pass\n",
    "print(f'Fit: {twotheta}, {coefs}')"
   ]
  },
  {
   "cell_type": "code",
   "execution_count": 4,
   "metadata": {},
   "outputs": [
    {
     "data": {
      "text/plain": [
       "<matplotlib.legend.Legend at 0x7fcd43929490>"
      ]
     },
     "execution_count": 4,
     "metadata": {},
     "output_type": "execute_result"
    },
    {
     "data": {
      "image/png": "[encoded data removed]",
      "text/plain": [
       "<Figure size 395x296 with 1 Axes>"
      ]
     },
     "metadata": {},
     "output_type": "display_data"
    }
   ],
   "source": [
    "plt.xlabel('$m_1 m_2$ [s$^{-2}$]')\n",
    "plt.ylabel('$m_{12}$ [s$^{-1}$]')\n",
    "plt.errorbar(\n",
    "    unp.nominal_values(avg_m1*avg_m2),\n",
    "    unp.nominal_values(avg_m12),\n",
    "    yerr=unp.std_devs(avg_m12), ls='', capsize=3)\n",
    "# plt.errorbar(\n",
    "#     unp.nominal_values(avg_m1*avg_m2)[-4:],\n",
    "#     unp.nominal_values(avg_m12)[-4:],\n",
    "#     yerr=unp.std_devs(avg_m12)[-4:], ls='', c='r', capsize=2)\n",
    "x = np.linspace(min(avg_m1*avg_m2).n, max(avg_m1*avg_m2).n, 200)\n",
    "plt.plot(x, fitfunc(x),\n",
    "         ls='--', c='k',\n",
    "         label=r'$y = {:.1uepL} x + {:.1uepL}$'.format(*coefs_err))\n",
    "plt.legend()"
   ]
  }
 ],
 "metadata": {
  "kernelspec": {
   "display_name": "Python 3",
   "language": "python",
   "name": "python3"
  },
  "language_info": {
   "codemirror_mode": {
    "name": "ipython",
    "version": 3
   },
   "file_extension": ".py",
   "mimetype": "text/x-python",
   "name": "python",
   "nbconvert_exporter": "python",
   "pygments_lexer": "ipython3",
   "version": "3.12.5"
  }
 },
 "nbformat": 4,
 "nbformat_minor": 2
}
