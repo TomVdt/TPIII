{
 "cells": [
  {
   "cell_type": "code",
   "execution_count": 2,
   "metadata": {},
   "outputs": [],
   "source": [
    "import numpy as np\n",
    "import scipy as sc\n",
    "import matplotlib as mpl\n",
    "import matplotlib.pyplot as plt\n",
    "from uncertainties import unumpy as unp\n",
    "from uncertainties import ufloat, umath\n",
    "\n",
    "from options import *\n",
    "from constants import *\n",
    "\n",
    "nom_vals = unp.nominal_values\n",
    "std_devs = unp.std_devs\n",
    "\n",
    "mpl.rcParams.update(rcParams)"
   ]
  },
  {
   "cell_type": "code",
   "execution_count": 3,
   "metadata": {},
   "outputs": [],
   "source": [
    "N1, N2, N12, t = np.loadtxt(\"../data/activity_co57.csv\", delimiter=',', unpack=True, skiprows=1)\n",
    "\n",
    "N1 = unp.uarray(N1, np.sqrt(N1))\n",
    "N2 = unp.uarray(N2, np.sqrt(N2))\n",
    "N12 = unp.uarray(N12, np.sqrt(N12))\n",
    "t = unp.uarray(t, ERROR_TIME)\n",
    "\n",
    "m1 = N1 / t\n",
    "m2 = N2 / t\n",
    "m12 = N12 / t"
   ]
  },
  {
   "cell_type": "code",
   "execution_count": 4,
   "metadata": {},
   "outputs": [
    {
     "data": {
      "text/plain": [
       "array(2.04202894e-06)"
      ]
     },
     "execution_count": 4,
     "metadata": {},
     "output_type": "execute_result"
    }
   ],
   "source": [
    "twotheta = np.loadtxt(\"../data/2theta_resolution.csv\")\n",
    "twotheta"
   ]
  },
  {
   "cell_type": "code",
   "execution_count": 5,
   "metadata": {},
   "outputs": [
    {
     "name": "stdout",
     "output_type": "stream",
     "text": [
      "7.68+/-0.05 465.1+/-0.4 0.873+/-0.016 2.042028935806682e-06\n"
     ]
    }
   ],
   "source": [
    "print(m1[0], m2[0], m12[0], twotheta)"
   ]
  },
  {
   "cell_type": "code",
   "execution_count": 6,
   "metadata": {},
   "outputs": [
    {
     "name": "stdout",
     "output_type": "stream",
     "text": [
      "Best estimation for activity: (4124±53) Bq\n"
     ]
    }
   ],
   "source": [
    "A = m1 * m2 / (m12 - twotheta * m1 * m2)\n",
    "print(f\"Best estimation for activity: {np.mean(A):.2upP} Bq\")"
   ]
  },
  {
   "cell_type": "markdown",
   "metadata": {},
   "source": [
    "### Theory"
   ]
  },
  {
   "cell_type": "code",
   "execution_count": 8,
   "metadata": {},
   "outputs": [
    {
     "data": {
      "text/plain": [
       "2995.1873011915645+/-107.64992171473475"
      ]
     },
     "execution_count": 8,
     "metadata": {},
     "output_type": "execute_result"
    }
   ],
   "source": [
    "import datetime as dt\n",
    "now = dt.datetime.now()\n",
    "prod = dt.datetime(year=2019, month=9, day=1)\n",
    "\n",
    "t = ufloat((now - prod).total_seconds(), 14 * 24 * 60 * 60)\n",
    "A0 = 366.8e3\n",
    "lam = np.log(2) / (dt.timedelta(days=270).total_seconds())\n",
    "\n",
    "est_A = A0 * unp.exp(-lam * t)\n",
    "est_A"
   ]
  }
 ],
 "metadata": {
  "kernelspec": {
   "display_name": ".venv",
   "language": "python",
   "name": "python3"
  },
  "language_info": {
   "codemirror_mode": {
    "name": "ipython",
    "version": 3
   },
   "file_extension": ".py",
   "mimetype": "text/x-python",
   "name": "python",
   "nbconvert_exporter": "python",
   "pygments_lexer": "ipython3",
   "version": "3.12.6"
  }
 },
 "nbformat": 4,
 "nbformat_minor": 2
}
