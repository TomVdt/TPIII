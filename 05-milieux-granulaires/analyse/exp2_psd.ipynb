{
 "cells": [
  {
   "cell_type": "code",
   "execution_count": 70,
   "metadata": {},
   "outputs": [],
   "source": [
    "import numpy as np\n",
    "import scipy as sc\n",
    "import matplotlib as mpl\n",
    "import matplotlib.pyplot as plt\n",
    "import matplotlib.mlab as mlab\n",
    "\n",
    "from glob import glob\n",
    "from dataclasses import dataclass\n",
    "\n",
    "from uncertainties import unumpy as unp\n",
    "from uncertainties import ufloat, umath\n",
    "\n",
    "from options import *\n",
    "from constants import *\n",
    "\n",
    "nom_vals = unp.nominal_values\n",
    "std_devs = unp.std_devs\n",
    "\n",
    "mpl.rcParams.update(rcParams)"
   ]
  },
  {
   "cell_type": "markdown",
   "metadata": {},
   "source": [
    "## Load"
   ]
  },
  {
   "cell_type": "code",
   "execution_count": 71,
   "metadata": {},
   "outputs": [],
   "source": [
    "@dataclass\n",
    "class Step:\n",
    "    imposed_vibration: float\n",
    "    gamma: float\n",
    "    step_time: float\n",
    "    freqs: np.ndarray\n",
    "    psd: np.ndarray\n",
    "    chi_abs: np.ndarray\n",
    "    chi_im: np.ndarray"
   ]
  },
  {
   "cell_type": "code",
   "execution_count": 72,
   "metadata": {},
   "outputs": [
    {
     "name": "stdout",
     "output_type": "stream",
     "text": [
      "WARNING: data is fucked for ../data/250321-exp2/250321-exp2_step10.txt\n",
      "WARNING: data is fucked for ../data/250321-exp2/250321-exp2_step14.txt\n"
     ]
    }
   ],
   "source": [
    "# Load data here...\n",
    "metadata_file = glob('../data/250321-exp2/*-exp?.txt')\n",
    "metadata = np.loadtxt(metadata_file[0], skiprows=1, delimiter='\\t')\n",
    "\n",
    "data_files = glob('../data/250321-exp2/*-exp?_step*.txt')\n",
    "data_files.sort(key=lambda s: int(s.split('step')[-1][:-4]))\n",
    "\n",
    "data: list[Step] = []\n",
    "trash: list[int] = []\n",
    "for i, file in enumerate(data_files):\n",
    "    freq, psd, chi_abs, chi_im = np.loadtxt(file, skiprows=1, delimiter='\\t', unpack=True)\n",
    "    imposed_vibration, _, gamma, step_time, *_ = metadata[i]\n",
    "\n",
    "    if np.allclose(chi_abs, 0): # Data is corrupted when freq_response contains only zeros\n",
    "        print(f\"WARNING: data is fucked for {file}\")\n",
    "        trash.append(i)\n",
    "        continue\n",
    "\n",
    "    data.append(\n",
    "        Step(\n",
    "            imposed_vibration, gamma, step_time,\n",
    "            freq, psd, chi_abs, chi_im\n",
    "        )\n",
    "    )\n",
    "\n",
    "for i in trash: data_files.pop(i)"
   ]
  },
  {
   "cell_type": "markdown",
   "metadata": {},
   "source": [
    "## Analysis"
   ]
  },
  {
   "cell_type": "code",
   "execution_count": 73,
   "metadata": {},
   "outputs": [
    {
     "data": {
      "text/plain": [
       "Text(0, 0.5, '$T_{eff}$ [K]')"
      ]
     },
     "execution_count": 73,
     "metadata": {},
     "output_type": "execute_result"
    },
    {
     "data": {
      "image/png": "[encoded data removed]",
      "text/plain": [
       "<Figure size 513.5x384.8 with 1 Axes>"
      ]
     },
     "metadata": {},
     "output_type": "display_data"
    }
   ],
   "source": [
    "fig, ax = plt.subplots()\n",
    "step = data[5]\n",
    "# cleaned_chi_im = np.convolve(step.chi_im, np.ones(step.chi_im.size)/step.chi_im.size, mode='same')\n",
    "# cleaned_psd = np.convolve(step.psd, np.ones(step.psd.size)/step.psd.size, mode='same')\n",
    "Teff = (step.psd * step.freqs) / (4 * step.chi_im) / BOLTZMANN_CONSTANT_JOULE\n",
    "ax.plot(step.freqs, Teff)\n",
    "plt.xlabel(\"$\\\\nu$ [Hz]\")\n",
    "plt.ylabel(\"$T_{eff}$ [K]\")"
   ]
  },
  {
   "cell_type": "code",
   "execution_count": null,
   "metadata": {},
   "outputs": [],
   "source": []
  }
 ],
 "metadata": {
  "kernelspec": {
   "display_name": "3.12.7",
   "language": "python",
   "name": "python3"
  },
  "language_info": {
   "codemirror_mode": {
    "name": "ipython",
    "version": 3
   },
   "file_extension": ".py",
   "mimetype": "text/x-python",
   "name": "python",
   "nbconvert_exporter": "python",
   "pygments_lexer": "ipython3",
   "version": "3.12.7"
  }
 },
 "nbformat": 4,
 "nbformat_minor": 2
}
