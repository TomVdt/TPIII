{
 "cells": [
  {
   "cell_type": "code",
   "execution_count": null,
   "metadata": {},
   "outputs": [],
   "source": [
    "import numpy as np\n",
    "import scipy as sc\n",
    "import matplotlib as mpl\n",
    "import matplotlib.pyplot as plt\n",
    "import matplotlib.mlab as mlab\n",
    "\n",
    "from uncertainties import unumpy as unp\n",
    "from uncertainties import ufloat, umath\n",
    "\n",
    "from options import *\n",
    "from lib import *\n",
    "from constants import *\n",
    "\n",
    "nom_vals = unp.nominal_values\n",
    "std_devs = unp.std_devs\n",
    "\n",
    "mpl.rcParams.update(rcParams)"
   ]
  },
  {
   "cell_type": "markdown",
   "metadata": {},
   "source": [
    "## Load"
   ]
  },
  {
   "cell_type": "code",
   "execution_count": null,
   "metadata": {},
   "outputs": [],
   "source": [
    "# data = load('250321-exp7')\n",
    "data = load('250328-sand1')"
   ]
  },
  {
   "cell_type": "markdown",
   "metadata": {},
   "source": [
    "## Noise study and removal"
   ]
  },
  {
   "cell_type": "markdown",
   "metadata": {},
   "source": [
    "### Noise study"
   ]
  },
  {
   "cell_type": "code",
   "execution_count": null,
   "metadata": {},
   "outputs": [],
   "source": [
    "noise = data[-1]\n",
    "print(\"Noise step: \", noise.filename)\n",
    "\n",
    "# === Susceptibility (absolute value)===\n",
    "plt.plot(noise.freqs, noise.chi_abs)\n",
    "plt.xlabel(\"$f$ [Hz]\")\n",
    "plt.ylabel(\"$| \\\\chi |$\")\n",
    "plt.show()\n",
    "\n",
    "# === Susceptibility (imaginary part)===\n",
    "plt.plot(noise.freqs, noise.chi_im)\n",
    "plt.xlabel(\"$f$ [Hz]\")\n",
    "plt.ylabel(\"{Im} $\\\\chi $\")\n",
    "plt.show()\n",
    "\n",
    "# === Power Spectral Density\n",
    "plt.plot(noise.freqs, noise.psd)\n",
    "plt.xlabel(\"$f$ [Hz]\")\n",
    "plt.ylabel(\"$S$\")\n",
    "plt.show()\n"
   ]
  },
  {
   "cell_type": "markdown",
   "metadata": {},
   "source": [
    "### Noise removal"
   ]
  },
  {
   "cell_type": "code",
   "execution_count": null,
   "metadata": {},
   "outputs": [],
   "source": [
    "data.pop(-1) # remove noise from interesting data\n",
    "for i, step in enumerate(data):\n",
    "    step.psd /= noise.psd\n",
    "    step.chi_im /= noise.chi_im\n",
    "    step.chi_abs /= noise.chi_abs"
   ]
  },
  {
   "cell_type": "markdown",
   "metadata": {},
   "source": [
    "## Do fits"
   ]
  },
  {
   "cell_type": "code",
   "execution_count": null,
   "metadata": {},
   "outputs": [],
   "source": [
    "show_plots = True\n",
    "\n",
    "all_popt_err_pass1 = unp.uarray(np.zeros((len(data), 3)), 0)\n",
    "for i, step in enumerate(data):\n",
    "    popt, pcov = sc.optimize.curve_fit(\n",
    "        imag_chi, step.freqs, step.chi_im,\n",
    "        bounds=(0, np.inf)\n",
    "    )\n",
    "    all_popt_err_pass1[i] = unp.uarray(popt, np.sqrt(np.diag(pcov)))\n",
    "\n",
    "    if show_plots:\n",
    "        if step.imposed_vibration < 1e-4:\n",
    "            print(\"WARNING: THIS IS NOISE\")\n",
    "        print(\"[I, omega, alpha] = \", popt)\n",
    "        plt.plot(step.freqs, step.chi_im)\n",
    "        plt.plot(step.freqs, imag_chi(step.freqs, *popt))\n",
    "        plt.show()\n",
    "\n",
    "I, w0, _ = np.mean(all_popt_err_pass1, axis=0)\n",
    "dI, dw0, _ = std_devs(np.mean(all_popt_err_pass1, axis=0))\n",
    "all_popt_err_pass2 = np.zeros_like(all_popt_err_pass1)\n",
    "\n",
    "for i, step in enumerate(data):\n",
    "    popt, pcov = sc.optimize.curve_fit(\n",
    "        imag_chi, step.freqs, step.chi_im,\n",
    "        bounds=(\n",
    "            (I.n - dI, w0.n - dw0, 0),\n",
    "            (I.n + dI, w0.n + dw0, np.inf)\n",
    "        )\n",
    "    )\n",
    "    all_popt_err_pass2[i] = unp.uarray(popt, np.sqrt(np.diag(pcov)))\n",
    "\n",
    "    # if show_plots:\n",
    "    #     if step.imposed_vibration < 1e-4:\n",
    "    #         print(\"WARNING: THIS IS NOISE\")\n",
    "    #     print(\"[I, omega, alpha] = \", popt)\n",
    "    #     plt.plot(step.freqs, step.chi_im)\n",
    "    #     plt.plot(step.freqs, modulus_chi(step.freqs, *popt))\n",
    "    #     plt.show()"
   ]
  },
  {
   "cell_type": "code",
   "execution_count": null,
   "metadata": {},
   "outputs": [],
   "source": [
    "max_amplitude = max(step.imposed_vibration for step in data)\n",
    "min_amplitude = min(step.imposed_vibration for step in data)\n",
    "\n",
    "cmap = truncate_colormap(plt.cm.Blues, 0.4, 1.0)\n",
    "norm = mpl.colors.Normalize(vmin=min_amplitude, vmax=max_amplitude)\n",
    "\n",
    "fig, ax = plt.subplots()\n",
    "\n",
    "for i, (popt, step) in enumerate(zip(reversed(nom_vals(all_popt_err_pass2)), reversed(data))):\n",
    "    color = cmap(step.imposed_vibration / max_amplitude)\n",
    "    fitted = imag_chi(step.freqs, *popt)\n",
    "    # ax.loglog(step.freqs, step.chi_abs, c=color)\n",
    "    ax.loglog(step.freqs, fitted, c=color)\n",
    "\n",
    "# plt.colorbar()\n",
    "fig.colorbar(plt.cm.ScalarMappable(norm, cmap), ax=ax)\n",
    "\n",
    "ax.spines[['top', 'right']].set_visible(False)\n",
    "ax.spines[['bottom', 'left']].set_position(('outward', 5))\n",
    "ax.grid(True, axis='y')\n",
    "# ax.set_xlim(1e1, 4e1)\n",
    "# ax.set_ylim(5e-2, 1e1)"
   ]
  },
  {
   "cell_type": "markdown",
   "metadata": {},
   "source": [
    "## Average $I$, $\\omega_0$ and $\\alpha$"
   ]
  },
  {
   "cell_type": "code",
   "execution_count": null,
   "metadata": {},
   "outputs": [],
   "source": [
    "I, omega0, alpha = np.mean(all_popt_err_pass1, axis=0)\n",
    "print(f\"{I = :.5f} g m²\")\n",
    "print(f\"{omega0 = :.5f} Hz\")\n",
    "print(f\"{alpha = :.5f} g m² s⁻¹\")\n",
    "I, omega0, alpha = np.mean(all_popt_err_pass2, axis=0)\n",
    "print(f\"{I = :.5f} g m²\")\n",
    "print(f\"{omega0 = :.5f} Hz\")\n",
    "print(f\"{alpha = :.5f} g m² s⁻¹\")"
   ]
  },
  {
   "cell_type": "code",
   "execution_count": null,
   "metadata": {},
   "outputs": [],
   "source": [
    "amplitude = np.array([step.imposed_vibration for step in data])\n",
    "alpha = nom_vals(all_popt_err_pass2)[:, 2]\n",
    "alpha_err = std_devs(all_popt_err_pass2)[:, 2]\n",
    "\n",
    "plt.errorbar(amplitude, alpha, yerr=alpha_err, ls='none')\n",
    "\n",
    "# Weighted fit\n",
    "coefs, cov = np.polyfit(np.log(amplitude), np.log(alpha), 1, cov=True)  # , w=1/alpha_err)\n",
    "xx = np.linspace(np.min(amplitude), np.max(amplitude), 50)\n",
    "yy = np.exp(np.polyval(coefs, np.log(xx)))\n",
    "plt.plot(xx, yy)\n",
    "print(coefs)\n",
    "\n",
    "\n",
    "plt.yscale('log')\n",
    "plt.xscale('log')\n",
    "plt.xlabel(r'Oscillation amplitude [V]')\n",
    "plt.ylabel(r'Friction coefficient $\\alpha$')\n",
    "\n",
    "plt.show()"
   ]
  }
 ],
 "metadata": {
  "kernelspec": {
   "display_name": "3.12.7",
   "language": "python",
   "name": "python3"
  },
  "language_info": {
   "codemirror_mode": {
    "name": "ipython",
    "version": 3
   },
   "file_extension": ".py",
   "mimetype": "text/x-python",
   "name": "python",
   "nbconvert_exporter": "python",
   "pygments_lexer": "ipython3",
   "version": "3.12.7"
  }
 },
 "nbformat": 4,
 "nbformat_minor": 2
}
