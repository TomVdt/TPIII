{
 "cells": [
  {
   "cell_type": "code",
   "execution_count": null,
   "metadata": {},
   "outputs": [],
   "source": [
    "import numpy as np\n",
    "import scipy as sc\n",
    "import matplotlib as mpl\n",
    "import matplotlib.pyplot as plt\n",
    "import matplotlib.mlab as mlab\n",
    "from matplotlib.ticker import ScalarFormatter\n",
    "from mpl_toolkits.axes_grid1.inset_locator import inset_axes\n",
    "# from sklearn.linear_model import RANSACRegressor\n",
    "\n",
    "from glob import glob\n",
    "from dataclasses import dataclass\n",
    "\n",
    "from uncertainties import unumpy as unp\n",
    "from uncertainties import ufloat, umath\n",
    "\n",
    "from options import *\n",
    "from lib import *\n",
    "from constants import *\n",
    "\n",
    "nom_vals = unp.nominal_values\n",
    "std_devs = unp.std_devs\n",
    "\n",
    "mpl.rcParams.update(rcParams)"
   ]
  },
  {
   "cell_type": "markdown",
   "metadata": {},
   "source": [
    "## Load"
   ]
  },
  {
   "cell_type": "code",
   "execution_count": null,
   "metadata": {},
   "outputs": [],
   "source": [
    "# data = load(\"250321-exp7\")\n",
    "# data = load('250328-sand1')"
   ]
  },
  {
   "cell_type": "markdown",
   "metadata": {},
   "source": [
    "## Analysis"
   ]
  },
  {
   "cell_type": "markdown",
   "metadata": {},
   "source": [
    "### Noise removal and filtering"
   ]
  },
  {
   "cell_type": "code",
   "execution_count": null,
   "metadata": {},
   "outputs": [],
   "source": [
    "show = True\n",
    "\n",
    "noise = data[-1]\n",
    "clean_psd = []\n",
    "clean_chi_im = []\n",
    "averaged_psd = []\n",
    "averaged_chi_im = []\n",
    "\n",
    "for i, step in enumerate(data[:-1]):\n",
    "\n",
    "    # Remove system noise from spectra\n",
    "    clean_psd.append(step.psd / noise.psd)\n",
    "    # clean_chi_im.append(step.chi_im / noise.chi_im) # le bruit de chi_im n'est pas vraiment bruit\n",
    "    clean_chi_im.append(step.chi_im)\n",
    "\n",
    "    # Moving average filter\n",
    "    window_size = 10\n",
    "    averaged_psd.append(moving_average(clean_psd[i], window_size))\n",
    "    averaged_chi_im.append(moving_average(clean_chi_im[i], window_size))\n",
    "\n",
    "    if (show): # Plot results\n",
    "        print(step.filename)\n",
    "        plt.loglog(step.freqs, clean_psd[i])\n",
    "        plt.loglog(step.freqs, averaged_psd[i])\n",
    "\n",
    "        ax = plt.gca()\n",
    "        ax.xaxis.set_major_formatter(ScalarFormatter())\n",
    "        plt.xticks([5,10,20,30,40,50,60,70])\n",
    "        plt.xlabel(\"$f$ [Hz]\")\n",
    "        plt.ylabel(\"$S$\")\n",
    "        plt.show()\n",
    "\n",
    "\n",
    "        plt.loglog(step.freqs, clean_chi_im[i])\n",
    "        plt.loglog(step.freqs, averaged_chi_im[i])\n",
    "\n",
    "        ax = plt.gca()\n",
    "        ax.xaxis.set_major_formatter(ScalarFormatter())\n",
    "        plt.xticks([5,10,20,30,40,50,60,70])\n",
    "        plt.xlabel(\"$f$ [Hz]\")\n",
    "        plt.ylabel(\"Im $\\\\chi$\")\n",
    "        plt.show()\n"
   ]
  },
  {
   "cell_type": "code",
   "execution_count": null,
   "metadata": {},
   "outputs": [],
   "source": [
    "avg_lim = 15\n",
    "kB_Teff = []\n",
    "Teff = []\n",
    "avg_kB_Teff = []\n",
    "avg_kB_Teff_err = []\n",
    "\n",
    "max_amplitude = max(step.imposed_vibration for step in data)\n",
    "min_amplitude = min(step.imposed_vibration for step in data)\n",
    "cmap = truncate_colormap(plt.cm.Blues, 0.4, 1.0)\n",
    "norm = mpl.colors.Normalize(vmin=min_amplitude, vmax=max_amplitude)\n",
    "\n",
    "fig, ax = plt.subplots()\n",
    "\n",
    "for i, step in enumerate(data[:-1]):\n",
    "    kB_Teff.append((averaged_psd[i] * 2*np.pi*step.freqs) / (4 *averaged_chi_im[i]))\n",
    "    Teff.append(kB_Teff[i]/ BOLTZMANN_CONSTANT_JOULE)\n",
    "\n",
    "    avg_kB_Teff.append(np.mean(kB_Teff[i][step.freqs > avg_lim]))\n",
    "    avg_kB_Teff_err.append(np.std(kB_Teff[i][step.freqs > avg_lim]))\n",
    "\n",
    "    color = cmap(step.imposed_vibration / max_amplitude)\n",
    "    ax.loglog(step.freqs, kB_Teff[i], c=color)\n",
    "    # plt.xlim(10,55)\n",
    "    # plt.ylim(1e2, 1e4)\n",
    "    ax.set_xlabel(r\"$f$ [Hz]\")\n",
    "    ax.set_ylabel(r\"$k_B T_\\textrm{eff}$ [J]\")\n",
    "    # vline = plt.axvline(avg_lim)\n",
    "\n",
    "plt.grid(True, 'minor')\n",
    "ax.xaxis.set_major_formatter(ScalarFormatter())\n",
    "ax.xaxis.set_minor_formatter(ScalarFormatter())\n",
    "\n",
    "# This could become a function\n",
    "axins1 = inset_axes(\n",
    "    ax,\n",
    "    width=\"10%\",  # width: 50% of parent_bbox width\n",
    "    height=\"5%\",  # height: 5%\n",
    "    # loc=\"upper left\",\n",
    "    bbox_to_anchor=(-0.83,-0.08, 1, 1),\n",
    "    bbox_transform=ax.transAxes,\n",
    ")\n",
    "\n",
    "clb = fig.colorbar(plt.cm.ScalarMappable(norm, cmap), ax=ax, cax=axins1, orientation=\"horizontal\")\n",
    "clb.ax.set_xticks(ticks = [round(min_amplitude), round(max_amplitude)], minor=False)\n",
    "clb.ax.set_title(\"Vibration amplitude [V]\", loc='left')\n",
    "plt.show()\n"
   ]
  },
  {
   "cell_type": "code",
   "execution_count": null,
   "metadata": {},
   "outputs": [],
   "source": [
    "# Teff vs amplitude d'oscillation\n",
    "amplitudes = np.array([step.imposed_vibration for step in data[:-1]])\n",
    "plt.errorbar(amplitudes, avg_kB_Teff,\n",
    "             yerr=avg_kB_Teff_err,\n",
    "             ls=''\n",
    "             )\n",
    "\n",
    "# Fit\n",
    "xx = np.linspace(min(amplitudes), max(amplitudes), 50)\n",
    "coefs, cov = np.polyfit(np.log(amplitudes), np.log(avg_kB_Teff), 1, cov=True, w=1/np.array(avg_kB_Teff_err))\n",
    "yy = np.polyval(coefs, np.log(xx))\n",
    "plt.plot((xx), np.exp(yy),\n",
    "         c='C3', ls='-')\n",
    "print(\"Fit coefs: \", coefs)\n",
    "\n",
    "# Fig params\n",
    "plt.xscale('log')\n",
    "plt.yscale('log')\n",
    "plt.xlabel(\"Oscillation amplitude [V]\")\n",
    "plt.ylabel(\"$T_{{eff}}$[V]\")\n",
    "\n",
    "plt.grid(True, 'minor')\n",
    "plt.show()\n"
   ]
  }
 ],
 "metadata": {
  "kernelspec": {
   "display_name": "3.12.7",
   "language": "python",
   "name": "python3"
  },
  "language_info": {
   "codemirror_mode": {
    "name": "ipython",
    "version": 3
   },
   "file_extension": ".py",
   "mimetype": "text/x-python",
   "name": "python",
   "nbconvert_exporter": "python",
   "pygments_lexer": "ipython3",
   "version": "3.12.7"
  }
 },
 "nbformat": 4,
 "nbformat_minor": 2
}
