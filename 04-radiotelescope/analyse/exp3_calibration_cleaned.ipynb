{
 "cells": [
  {
   "cell_type": "code",
   "execution_count": 32,
   "metadata": {},
   "outputs": [],
   "source": [
    "import numpy as np\n",
    "import scipy as sc\n",
    "import matplotlib as mpl\n",
    "import matplotlib.pyplot as plt\n",
    "import matplotlib.mlab as mlab\n",
    "\n",
    "# from astropy.coordinates import EarthLocation,SkyCoord\n",
    "# from astropy.time import Time\n",
    "# from astropy import units as u\n",
    "# from astropy.coordinates import AltAz\n",
    "\n",
    "import json\n",
    "from glob import glob\n",
    "\n",
    "# from uncertainties import unumpy as unp\n",
    "# from uncertainties import ufloat, umath\n",
    "\n",
    "from options import *\n",
    "from constants import *\n",
    "\n",
    "# nom_vals = unp.nominal_values\n",
    "# std_devs = unp.std_devs\n",
    "\n",
    "mpl.rcParams.update(rcParams)"
   ]
  },
  {
   "cell_type": "code",
   "execution_count": 33,
   "metadata": {},
   "outputs": [],
   "source": [
    "NFFT = 1024\n",
    "SAMPLE_RATE = 2_048_000"
   ]
  },
  {
   "cell_type": "code",
   "execution_count": 34,
   "metadata": {},
   "outputs": [],
   "source": [
    "def load(dataset: str):\n",
    "    raw_data = np.fromfile(dataset, np.complex64)\n",
    "    with open(dataset.replace(\"raw.dat\", \"params.json\"), \"r\") as file:\n",
    "        params = json.load(file)\n",
    "    \n",
    "    spectrum, frequencies = mlab.psd(raw_data, NFFT=NFFT, Fs=SAMPLE_RATE)\n",
    "    frequencies += params['frequency']\n",
    "\n",
    "    return (spectrum, frequencies), params"
   ]
  },
  {
   "cell_type": "code",
   "execution_count": 35,
   "metadata": {},
   "outputs": [
    {
     "name": "stdout",
     "output_type": "stream",
     "text": [
      "../data/calibration_0_-5_2025_02_21_16_03_06_raw.dat\n",
      "../data/calibration_0_-4_2025_02_21_15_49_45_raw.dat\n",
      "../data/calibration_1_-2_2025_02_21_15_38_49_raw.dat\n",
      "../data/calibration_5_-4_2025_02_21_15_54_56_raw.dat\n",
      "../data/calibration_3_-2_2025_02_21_15_40_42_raw.dat\n",
      "../data/calibration_1_-4_2025_02_21_15_50_46_raw.dat\n",
      "../data/calibration_0_0_2025_02_21_15_23_20_raw.dat\n",
      "../data/calibration_5_-1_2025_02_21_15_31_02_raw.dat\n",
      "../data/calibration_4_-2_2025_02_21_15_41_45_raw.dat\n",
      "../data/calibration_2_0_2025_02_21_15_26_03_raw.dat\n",
      "../data/calibration_5_-2_2025_02_21_15_42_43_raw.dat\n",
      "../data/calibration_5_0_2025_02_21_15_29_55_raw.dat\n",
      "../data/calibration_4_-3_2025_02_21_15_44_34_raw.dat\n",
      "../data/calibration_2_-1_2025_02_21_15_34_18_raw.dat\n",
      "../data/calibration_1_-5_2025_02_21_16_01_49_raw.dat\n",
      "../data/calibration_4_-1_2025_02_21_15_32_15_raw.dat\n",
      "../data/calibration_4_-4_2025_02_21_15_54_02_raw.dat\n",
      "../data/calibration_3_-4_2025_02_21_15_53_03_raw.dat\n",
      "../data/calibration_4_-5_2025_02_21_15_57_55_raw.dat\n",
      "../data/calibration_0_-1_2025_02_21_15_36_44_raw.dat\n",
      "../data/calibration_0_-2_2025_02_21_15_37_57_raw.dat\n",
      "../data/calibration_2_-2_2025_02_21_15_39_45_raw.dat\n",
      "../data/calibration_1_-3_2025_02_21_15_47_30_raw.dat\n",
      "../data/calibration_3_-1_2025_02_21_15_33_23_raw.dat\n",
      "../data/calibration_3_-3_2025_02_21_15_45_35_raw.dat\n",
      "../data/calibration_2_-3_2025_02_21_15_46_33_raw.dat\n",
      "../data/calibration_2_-5_2025_02_21_16_00_02_raw.dat\n",
      "../data/calibration_4_0_2025_02_21_15_28_25_raw.dat\n",
      "../data/calibration_5_-3_2025_02_21_15_43_41_raw.dat\n",
      "../data/calibration_5_-5_2025_02_21_15_56_38_raw.dat\n",
      "../data/calibration_3_0_2025_02_21_15_27_18_raw.dat\n",
      "../data/calibration_3_-5_2025_02_21_15_59_04_raw.dat\n",
      "../data/calibration_2_-4_2025_02_21_15_51_48_raw.dat\n",
      "../data/calibration_1_-1_2025_02_21_15_35_40_raw.dat\n",
      "../data/calibration_1_0_2025_02_21_15_24_47_raw.dat\n",
      "../data/calibration_0_-3_2025_02_21_15_48_49_raw.dat\n"
     ]
    }
   ],
   "source": [
    "datasets = []\n",
    "for run in glob('../data/*calibration*.dat'):\n",
    "    print(run)\n",
    "    datasets.append(load(run))"
   ]
  },
  {
   "cell_type": "code",
   "execution_count": 36,
   "metadata": {},
   "outputs": [],
   "source": [
    "def calculate_average(spectrum: np.ndarray) -> float:\n",
    "    idx = np.r_[200:500,550:850]\n",
    "    return np.mean(spectrum[idx])"
   ]
  },
  {
   "cell_type": "code",
   "execution_count": 47,
   "metadata": {},
   "outputs": [],
   "source": [
    "def plot_ra_dec(datasets: list, reference_position: tuple[float, float], rel : bool = False):\n",
    "    ra = [param.get('ra_dec')[0] for (_, _), param in datasets]\n",
    "    dec = [param.get('ra_dec')[1] for (_, _), param in datasets]\n",
    "\n",
    "    ra_rel = [r - reference_position[0] for r in ra]\n",
    "    dec_rel = [d - reference_position[1] for d in dec]\n",
    "\n",
    "    averages = [calculate_average(spectrum) for (spectrum, _), _ in datasets]\n",
    "\n",
    "    if (rel):\n",
    "        plt.scatter(ra_rel, dec_rel, c=averages)\n",
    "        plt.scatter(0,0, marker='o', s=50, label=\"Sun\")\n",
    "        plt.xlabel(r\"Relative Ra [$^\\circ$]\")\n",
    "        plt.ylabel(r\"Relative Dec [$^\\circ$]\")\n",
    "    else:\n",
    "        plt.scatter(ra, dec, c=averages)\n",
    "        plt.scatter(*reference_position, marker='o', s=50, label=\"Sun\")\n",
    "        plt.xlabel(r\"Ra [$^\\circ$]\")\n",
    "        plt.ylabel(r\"Dec [$^\\circ$]\")\n",
    "\n",
    "    plt.legend()\n"
   ]
  },
  {
   "cell_type": "code",
   "execution_count": 48,
   "metadata": {},
   "outputs": [],
   "source": [
    "def plot_az_alt(datasets: list, reference_position: tuple[float, float], rel: bool = False):\n",
    "    az = [param.get('az_alt')[0] for (_, _), param in datasets]\n",
    "    alt = [param.get('az_alt')[1] for (_, _), param in datasets]\n",
    "\n",
    "    az_rel = [r - reference_position[0] for r in az]\n",
    "    alt_rel = [d - reference_position[1] for d in alt]\n",
    "\n",
    "    averages = [calculate_average(spectrum) for (spectrum, _), _ in datasets]\n",
    "\n",
    "    if (rel):\n",
    "        plt.scatter(az_rel, alt_rel, c=averages)\n",
    "        plt.scatter(0,0, marker='o', s=50, label=\"Sun\")\n",
    "        plt.xlabel(r\"Relative Ra [$^\\circ$]\")\n",
    "        plt.ylabel(r\"Relative Dec [$^\\circ$]\")\n",
    "    else:\n",
    "        plt.scatter(az, alt, c=averages)\n",
    "        plt.scatter(*reference_position, marker='o', s=50, label=\"Sun\")\n",
    "        plt.xlabel(r\"Ra [$^\\circ$]\")\n",
    "        plt.ylabel(r\"Dec [$^\\circ$]\")"
   ]
  },
  {
   "cell_type": "code",
   "execution_count": 39,
   "metadata": {},
   "outputs": [],
   "source": [
    "def estimate_correction_az_alt(datasets: list, reference_position: tuple[float, float]) -> tuple[float, float]:\n",
    "    az_alt = [param.get('az_alt') for (_, _), param in datasets]\n",
    "\n",
    "    az_alt_rel = [(r[0] - reference_position[0], r[1] - reference_position[1]) for r in az_alt]\n",
    "\n",
    "    averages = [calculate_average(spectrum) for (spectrum, _), _ in datasets]\n",
    "\n",
    "    idx_max = np.argmax(averages)\n",
    "    correction = az_alt_rel[idx_max]\n",
    "\n",
    "    return correction"
   ]
  },
  {
   "cell_type": "code",
   "execution_count": 40,
   "metadata": {},
   "outputs": [],
   "source": [
    "def get_corrected_target_ra_dec(target_position_ra_dec, correction_az_alt):\n",
    "    observing_location = EarthLocation(lat='46.519611', lon='6.565056', height=400*u.m)  \n",
    "    observing_time = Time('2017-02-05 20:12:18')  \n",
    "    aa = AltAz(location=observing_location, obstime=observing_time)\n",
    "\n",
    "    coord = SkyCoord('4h42m', '-38d6m50.8s')\n",
    "    coord.transform_to(aa)"
   ]
  },
  {
   "cell_type": "code",
   "execution_count": 41,
   "metadata": {},
   "outputs": [
    {
     "data": {
      "text/plain": [
       "<matplotlib.patches.FancyArrow at 0x112b2b9b0>"
      ]
     },
     "execution_count": 41,
     "metadata": {},
     "output_type": "execute_result"
    },
    {
     "data": {
      "image/png": "[encoded data removed]",
      "text/plain": [
       "<Figure size 513.5x384.8 with 1 Axes>"
      ]
     },
     "metadata": {},
     "output_type": "display_data"
    }
   ],
   "source": [
    "# Testing\n",
    "stuff = [load('../data/test1_2025_02_21_10_20_51_raw.dat')]\n",
    "x, y = estimate_correction_az_alt(stuff, (42, 42))\n",
    "plot_az_alt(stuff, (42, 42))\n",
    "plt.arrow(42, 42, x, y, length_includes_head=True, head_width=0.5, head_length=15)"
   ]
  },
  {
   "cell_type": "code",
   "execution_count": 51,
   "metadata": {},
   "outputs": [
    {
     "data": {
      "image/png": "[encoded data removed]",
      "text/plain": [
       "<Figure size 513.5x384.8 with 1 Axes>"
      ]
     },
     "metadata": {},
     "output_type": "display_data"
    }
   ],
   "source": [
    "plot_ra_dec(datasets, reference_position=[335.7459, -9.9853], rel=True)"
   ]
  },
  {
   "cell_type": "code",
   "execution_count": 50,
   "metadata": {},
   "outputs": [
    {
     "data": {
      "image/png": "[encoded data removed]",
      "text/plain": [
       "<Figure size 513.5x384.8 with 1 Axes>"
      ]
     },
     "metadata": {},
     "output_type": "display_data"
    }
   ],
   "source": [
    "plot_az_alt(datasets, reference_position=[221.764389, 24.164108], rel=True)"
   ]
  }
 ],
 "metadata": {
  "kernelspec": {
   "display_name": "3.12.7",
   "language": "python",
   "name": "python3"
  },
  "language_info": {
   "codemirror_mode": {
    "name": "ipython",
    "version": 3
   },
   "file_extension": ".py",
   "mimetype": "text/x-python",
   "name": "python",
   "nbconvert_exporter": "python",
   "pygments_lexer": "ipython3",
   "version": "3.12.7"
  }
 },
 "nbformat": 4,
 "nbformat_minor": 2
}
