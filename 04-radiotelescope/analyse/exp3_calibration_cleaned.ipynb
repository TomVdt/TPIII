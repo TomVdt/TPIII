{
 "cells": [
  {
   "cell_type": "code",
   "execution_count": null,
   "metadata": {},
   "outputs": [],
   "source": [
    "import numpy as np\n",
    "import scipy as sc\n",
    "import matplotlib as mpl\n",
    "import matplotlib.pyplot as plt\n",
    "import matplotlib.mlab as mlab\n",
    "\n",
    "from astropy.coordinates import EarthLocation,SkyCoord\n",
    "from astropy.time import Time\n",
    "from astropy import units as u\n",
    "from astropy.coordinates import AltAz\n",
    "\n",
    "import json\n",
    "from glob import glob\n",
    "\n",
    "# from uncertainties import unumpy as unp\n",
    "# from uncertainties import ufloat, umath\n",
    "\n",
    "from options import *\n",
    "from constants import *\n",
    "\n",
    "# nom_vals = unp.nominal_values\n",
    "# std_devs = unp.std_devs\n",
    "\n",
    "mpl.rcParams.update(rcParams)"
   ]
  },
  {
   "cell_type": "code",
   "execution_count": 3,
   "metadata": {},
   "outputs": [],
   "source": [
    "NFFT = 1024\n",
    "SAMPLE_RATE = 2_048_000"
   ]
  },
  {
   "cell_type": "code",
   "execution_count": 4,
   "metadata": {},
   "outputs": [],
   "source": [
    "def load(dataset: str):\n",
    "    raw_data = np.fromfile(dataset, np.complex64)\n",
    "    with open(dataset.replace(\"raw.dat\", \"params.json\"), \"r\") as file:\n",
    "        params = json.load(file)\n",
    "    \n",
    "    spectrum, frequencies = mlab.psd(raw_data, NFFT=NFFT, Fs=SAMPLE_RATE)\n",
    "    frequencies += params['frequency']\n",
    "\n",
    "    return (spectrum, frequencies), params"
   ]
  },
  {
   "cell_type": "code",
   "execution_count": 5,
   "metadata": {},
   "outputs": [],
   "source": [
    "datasets = []\n",
    "for run in glob('../data/*calibration*.dat'):\n",
    "    print(run)\n",
    "    datasets.append(load(run))"
   ]
  },
  {
   "cell_type": "code",
   "execution_count": 6,
   "metadata": {},
   "outputs": [],
   "source": [
    "def calculate_average(spectrum: np.ndarray) -> float:\n",
    "    idx = np.r_[200:500,550:850]\n",
    "    return np.mean(spectrum[idx])"
   ]
  },
  {
   "cell_type": "code",
   "execution_count": 16,
   "metadata": {},
   "outputs": [],
   "source": [
    "def plot_ra_dec(datasets: list, reference_position: tuple[float, float]):\n",
    "    ra = [param.get('ra_dec')[0] for (_, _), param in datasets]\n",
    "    dec = [param.get('ra_dec')[1] for (_, _), param in datasets]\n",
    "\n",
    "    ra_rel = [r - reference_position[0] for r in ra]\n",
    "    dec_rel = [d - reference_position[1] for d in dec]\n",
    "\n",
    "    averages = [calculate_average(spectrum) for (spectrum, _), _ in datasets]\n",
    "\n",
    "    plt.scatter(ra, dec, c=averages)\n",
    "    plt.scatter(*reference_position, marker='o', s=50)\n",
    "    plt.xlabel(r\"Ra [$^\\circ$]\")\n",
    "    plt.ylabel(r\"Dec [$^\\circ$]\")"
   ]
  },
  {
   "cell_type": "code",
   "execution_count": 24,
   "metadata": {},
   "outputs": [],
   "source": [
    "def plot_az_alt(datasets: list, reference_position: tuple[float, float]):\n",
    "    az = [param.get('az_alt')[0] for (_, _), param in datasets]\n",
    "    alt = [param.get('az_alt')[1] for (_, _), param in datasets]\n",
    "\n",
    "    az_rel = [r - reference_position[0] for r in az]\n",
    "    alt_rel = [d - reference_position[1] for d in alt]\n",
    "\n",
    "    averages = [calculate_average(spectrum) for (spectrum, _), _ in datasets]\n",
    "\n",
    "    plt.scatter(az, alt, c=averages)\n",
    "    plt.scatter(*reference_position, marker='o', s=50)\n",
    "    plt.xlabel(r\"Ra [$^\\circ$]\")\n",
    "    plt.ylabel(r\"Dec [$^\\circ$]\")"
   ]
  },
  {
   "cell_type": "code",
   "execution_count": 25,
   "metadata": {},
   "outputs": [],
   "source": [
    "def estimate_correction_az_alt(datasets: list, reference_position: tuple[float, float]) -> tuple[float, float]:\n",
    "    az_alt = [param.get('az_alt') for (_, _), param in datasets]\n",
    "\n",
    "    az_alt_rel = [(r[0] - reference_position[0], r[1] - reference_position[1]) for r in az_alt]\n",
    "\n",
    "    averages = [calculate_average(spectrum) for (spectrum, _), _ in datasets]\n",
    "\n",
    "    idx_max = np.argmax(averages)\n",
    "    correction = az_alt_rel[idx_max]\n",
    "\n",
    "    return correction"
   ]
  },
  {
   "cell_type": "code",
   "execution_count": null,
   "metadata": {},
   "outputs": [],
   "source": [
    "def get_corrected_target_ra_dec(target_position_ra_dec, correction_az_alt):\n",
    "    observing_location = EarthLocation(lat='46.519611', lon='6.565056', height=400*u.m)  \n",
    "    observing_time = Time('2017-02-05 20:12:18')  \n",
    "    aa = AltAz(location=observing_location, obstime=observing_time)\n",
    "\n",
    "    coord = SkyCoord('4h42m', '-38d6m50.8s')\n",
    "    coord.transform_to(aa)"
   ]
  },
  {
   "cell_type": "code",
   "execution_count": null,
   "metadata": {},
   "outputs": [
    {
     "data": {
      "text/plain": [
       "<matplotlib.patches.FancyArrow at 0x7f8edda8ac10>"
      ]
     },
     "execution_count": 34,
     "metadata": {},
     "output_type": "execute_result"
    },
    {
     "data": {
      "image/png": "[encoded data removed]",
      "text/plain": [
       "<Figure size 513.5x384.8 with 1 Axes>"
      ]
     },
     "metadata": {},
     "output_type": "display_data"
    }
   ],
   "source": [
    "# Testing\n",
    "stuff = [load('../data/test1_2025_02_21_10_20_51_raw.dat')]\n",
    "x, y = estimate_correction_az_alt(stuff, (42, 42))\n",
    "plot_az_alt(stuff, (42, 42))\n",
    "plt.arrow(42, 42, x, y, length_includes_head=True, head_width=0.5, head_length=15)"
   ]
  }
 ],
 "metadata": {
  "kernelspec": {
   "display_name": ".venv",
   "language": "python",
   "name": "python3"
  },
  "language_info": {
   "codemirror_mode": {
    "name": "ipython",
    "version": 3
   },
   "file_extension": ".py",
   "mimetype": "text/x-python",
   "name": "python",
   "nbconvert_exporter": "python",
   "pygments_lexer": "ipython3",
   "version": "3.13.2"
  }
 },
 "nbformat": 4,
 "nbformat_minor": 2
}
