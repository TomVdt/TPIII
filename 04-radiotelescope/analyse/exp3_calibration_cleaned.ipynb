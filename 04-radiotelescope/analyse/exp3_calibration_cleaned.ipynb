{
 "cells": [
  {
   "cell_type": "code",
   "execution_count": 131,
   "metadata": {},
   "outputs": [],
   "source": [
    "import numpy as np\n",
    "import scipy as sc\n",
    "import matplotlib as mpl\n",
    "import matplotlib.pyplot as plt\n",
    "import matplotlib.mlab as mlab\n",
    "\n",
    "# from astropy.coordinates import EarthLocation,SkyCoord\n",
    "# from astropy.time import Time\n",
    "# from astropy import units as u\n",
    "# from astropy.coordinates import AltAz\n",
    "\n",
    "import json\n",
    "from glob import glob\n",
    "import os\n",
    "\n",
    "# from uncertainties import unumpy as unp\n",
    "# from uncertainties import ufloat, umath\n",
    "\n",
    "from options import *\n",
    "from constants import *\n",
    "\n",
    "# nom_vals = unp.nominal_values\n",
    "# std_devs = unp.std_devs\n",
    "\n",
    "mpl.rcParams.update(rcParams)"
   ]
  },
  {
   "cell_type": "code",
   "execution_count": 132,
   "metadata": {},
   "outputs": [],
   "source": [
    "NFFT = 1024\n",
    "SAMPLE_RATE = 2_048_000"
   ]
  },
  {
   "cell_type": "code",
   "execution_count": 133,
   "metadata": {},
   "outputs": [],
   "source": [
    "def load(dataset: str):\n",
    "    raw_data = np.fromfile(dataset, np.complex64)\n",
    "    with open(dataset.replace(\"raw.dat\", \"params.json\"), \"r\") as file:\n",
    "        params = json.load(file)\n",
    "    \n",
    "    spectrum, frequencies = mlab.psd(raw_data, NFFT=NFFT, Fs=SAMPLE_RATE)\n",
    "    frequencies += params['frequency']\n",
    "\n",
    "    return (spectrum, frequencies), params"
   ]
  },
  {
   "cell_type": "code",
   "execution_count": 134,
   "metadata": {},
   "outputs": [
    {
     "name": "stdout",
     "output_type": "stream",
     "text": [
      "../data/calibration/calibration_azalt_0_0_2025_02_28_09_15_41_raw.dat\n",
      "../data/calibration/calibration_azalt_-1_0_2025_02_28_09_16_56_raw.dat\n",
      "../data/calibration/calibration_azalt_-2_0_2025_02_28_09_17_46_raw.dat\n",
      "../data/calibration/calibration_azalt_-3_0_2025_02_28_09_18_38_raw.dat\n",
      "../data/calibration/calibration_azalt_-4_0_2025_02_28_09_19_23_raw.dat\n",
      "../data/calibration/calibration_azalt_-5_0_2025_02_28_09_20_09_raw.dat\n",
      "../data/calibration/calibration_azalt_-5_-1_2025_02_28_09_21_06_raw.dat\n",
      "../data/calibration/calibration_azalt_-4_-1_2025_02_28_09_21_52_raw.dat\n",
      "../data/calibration/calibration_azalt_-3_-1_2025_02_28_09_22_40_raw.dat\n",
      "../data/calibration/calibration_azalt_-2_-1_2025_02_28_09_23_25_raw.dat\n",
      "../data/calibration/calibration_azalt_-1_-1_2025_02_28_09_24_09_raw.dat\n",
      "../data/calibration/calibration_azalt_0_-1_2025_02_28_09_24_55_raw.dat\n",
      "../data/calibration/calibration_azalt_0_-2_2025_02_28_09_25_51_raw.dat\n",
      "../data/calibration/calibration_azalt_-1_-2_2025_02_28_09_26_34_raw.dat\n",
      "../data/calibration/calibration_azalt_-2_-2_2025_02_28_09_27_16_raw.dat\n",
      "../data/calibration/calibration_azalt_-3_-2_2025_02_28_09_27_56_raw.dat\n",
      "../data/calibration/calibration_azalt_-4_-2_2025_02_28_09_28_38_raw.dat\n",
      "../data/calibration/calibration_azalt_-5_-2_2025_02_28_09_29_16_raw.dat\n",
      "../data/calibration/calibration_azalt_-5_-3_2025_02_28_09_30_03_raw.dat\n",
      "../data/calibration/calibration_azalt_-4_-3_2025_02_28_09_30_58_raw.dat\n",
      "../data/calibration/calibration_azalt_-3_-3_2025_02_28_09_31_36_raw.dat\n",
      "../data/calibration/calibration_azalt_-2_-3_2025_02_28_09_32_21_raw.dat\n",
      "../data/calibration/calibration_azalt_-1_-3_2025_02_28_09_33_09_raw.dat\n",
      "../data/calibration/calibration_azalt_0_-3_2025_02_28_09_34_00_raw.dat\n",
      "../data/calibration/calibration_azalt_0_-4_2025_02_28_09_34_50_raw.dat\n",
      "../data/calibration/calibration_azalt_-1_-4_2025_02_28_09_35_36_raw.dat\n",
      "../data/calibration/calibration_azalt_-2_-4_2025_02_28_09_36_15_raw.dat\n",
      "../data/calibration/calibration_azalt_-3_-4_2025_02_28_09_36_55_raw.dat\n",
      "../data/calibration/calibration_azalt_-4_-4_2025_02_28_09_37_38_raw.dat\n",
      "../data/calibration/calibration_azalt_-5_-4_2025_02_28_09_38_20_raw.dat\n",
      "../data/calibration/calibration_azalt_-5_-5_2025_02_28_09_39_03_raw.dat\n",
      "../data/calibration/calibration_azalt_-4_-5_2025_02_28_09_39_42_raw.dat\n",
      "../data/calibration/calibration_azalt_-3_-5_2025_02_28_09_40_22_raw.dat\n",
      "../data/calibration/calibration_azalt_-2_-5_2025_02_28_09_41_01_raw.dat\n",
      "../data/calibration/calibration_azalt_-1_-5_2025_02_28_09_41_40_raw.dat\n",
      "../data/calibration/calibration_azalt_0_-5_2025_02_28_09_42_26_raw.dat\n"
     ]
    }
   ],
   "source": [
    "datasets = []\n",
    "x,y,az,alt = np.loadtxt(\"../data/sun-position.csv\", unpack=True, delimiter=',', skiprows=1, usecols=np.arange(1,5))\n",
    "\n",
    "files = glob('../data/calibration/*.dat')\n",
    "files.sort(key=os.path.getmtime)\n",
    "for run, (az_,alt_) in zip(files, zip(az,alt)):\n",
    "    print(run)\n",
    "    datasets.append(load(run))\n",
    "    datasets[-1][1][\"sun\"] = (az_,alt_)"
   ]
  },
  {
   "cell_type": "code",
   "execution_count": 135,
   "metadata": {},
   "outputs": [],
   "source": [
    "def calculate_average(spectrum: np.ndarray) -> float:\n",
    "    idx = np.r_[200:500,550:850]\n",
    "    return np.mean(spectrum[idx])"
   ]
  },
  {
   "cell_type": "code",
   "execution_count": 136,
   "metadata": {},
   "outputs": [],
   "source": [
    "def plot_ra_dec(datasets: list, reference_position: tuple[float, float], rel : bool = False):\n",
    "    ra = [param.get('ra_dec')[0] for (_, _), param in datasets]\n",
    "    dec = [param.get('ra_dec')[1] for (_, _), param in datasets]\n",
    "\n",
    "    ra_rel = [r - reference_position[0] for r in ra]\n",
    "    dec_rel = [d - reference_position[1] for d in dec]\n",
    "\n",
    "    averages = [calculate_average(spectrum) for (spectrum, _), _ in datasets]\n",
    "\n",
    "    if (rel):\n",
    "        plt.scatter(ra_rel, dec_rel, c=averages)\n",
    "        plt.scatter(0,0, marker='o', s=50, label=\"Sun\")\n",
    "        plt.xlabel(r\"Relative Ra [$^\\circ$]\")\n",
    "        plt.ylabel(r\"Relative Dec [$^\\circ$]\")\n",
    "    else:\n",
    "        plt.scatter(ra, dec, c=averages)\n",
    "        plt.scatter(*reference_position, marker='o', s=50, label=\"Sun\")\n",
    "        plt.xlabel(r\"Ra [$^\\circ$]\")\n",
    "        plt.ylabel(r\"Dec [$^\\circ$]\")\n",
    "\n",
    "    plt.legend()\n"
   ]
  },
  {
   "cell_type": "code",
   "execution_count": 137,
   "metadata": {},
   "outputs": [],
   "source": [
    "def scatter_az_alt(datasets: list):\n",
    "    az = [param.get('az_alt')[0] for (_, _), param in datasets]\n",
    "    alt = [param.get('az_alt')[1] for (_, _), param in datasets]\n",
    "    sun_az = [param.get('sun')[0] for (_, _), param in datasets]\n",
    "    sun_alt = [param.get('sun')[1] for (_, _), param in datasets]\n",
    "\n",
    "    az_rel = [r - s for r, s in zip(az, sun_az)]\n",
    "    alt_rel = [d - s for d,s in zip(alt, sun_alt)]\n",
    "\n",
    "    # fig, ax = plt.subplots(subplot_kw={\"projection\": \"3d\"})\n",
    "\n",
    "    averages = [calculate_average(spectrum) for (spectrum, _), _ in datasets]\n",
    "\n",
    "    # plt.contourf((az_rel,alt_rel), averages, levels=10)\n",
    "    # ax.plot_surface(az_rel, alt_rel, averages)\n",
    "    plt.scatter(az_rel, alt_rel, c=averages)\n",
    "    plt.scatter(0,0, marker='o', s=50, label=\"Sun\")\n",
    "    plt.xlabel(r\"Relative Az [$^\\circ$]\")\n",
    "    plt.ylabel(r\"Relative Alt [$^\\circ$]\")"
   ]
  },
  {
   "cell_type": "code",
   "execution_count": 178,
   "metadata": {},
   "outputs": [],
   "source": [
    "def contourf_az_alt(datasets: list):\n",
    "    az = [param.get('az_alt')[0] for (_, _), param in datasets]\n",
    "    alt = [param.get('az_alt')[1] for (_, _), param in datasets]\n",
    "    sun_az = [param.get('sun')[0] for (_, _), param in datasets]\n",
    "    sun_alt = [param.get('sun')[1] for (_, _), param in datasets]\n",
    "\n",
    "    az_rel = [r - s for r, s in zip(az, sun_az)]\n",
    "    alt_rel = [d - s for d,s in zip(alt, sun_alt)]\n",
    "\n",
    "    # fig, ax = plt.subplots(subplot_kw={\"projection\": \"3d\"})\n",
    "\n",
    "    averages = [calculate_average(spectrum) for (spectrum, _), _ in datasets]\n",
    "\n",
    "    xi = np.arange(min(az_rel)-1, max(az_rel)+1)\n",
    "    yi = np.arange(min(alt_rel)-1, max(alt_rel)+1)\n",
    "    XI, YI = np.meshgrid(xi, yi)\n",
    "    zi = sc.interpolate.griddata((az_rel,alt_rel), averages, (XI, YI))\n",
    "    plt.contourf(XI, YI, zi, levels=10)\n",
    "    # ax.plot_surface(az_rel, alt_rel, averages)\n",
    "    plt.scatter(az_rel, alt_rel, c=averages, edgecolors='k', marker='D', s=20, linewidth=0.4)\n",
    "    # plt.scatter(0,0, marker='o', s=50, label=\"Sun\")\n",
    "    plt.xlabel(r\"Relative Az [$^\\circ$]\")\n",
    "    plt.ylabel(r\"Relative Alt [$^\\circ$]\")"
   ]
  },
  {
   "cell_type": "code",
   "execution_count": 179,
   "metadata": {},
   "outputs": [
    {
     "data": {
      "image/png": "[encoded data removed]",
      "text/plain": [
       "<Figure size 513.5x384.8 with 1 Axes>"
      ]
     },
     "metadata": {},
     "output_type": "display_data"
    }
   ],
   "source": [
    "contourf_az_alt(datasets)"
   ]
  },
  {
   "cell_type": "code",
   "execution_count": 140,
   "metadata": {},
   "outputs": [
    {
     "data": {
      "image/png": "[encoded data removed]",
      "text/plain": [
       "<Figure size 513.5x384.8 with 1 Axes>"
      ]
     },
     "metadata": {},
     "output_type": "display_data"
    }
   ],
   "source": [
    "scatter_az_alt(datasets)"
   ]
  },
  {
   "cell_type": "code",
   "execution_count": 141,
   "metadata": {},
   "outputs": [],
   "source": [
    "def estimate_correction_az_alt(datasets: list, reference_position: tuple[float, float]) -> tuple[float, float]:\n",
    "    az_alt = [param.get('az_alt') for (_, _), param in datasets]\n",
    "\n",
    "    az_alt_rel = [(r[0] - reference_position[0], r[1] - reference_position[1]) for r in az_alt]\n",
    "\n",
    "    averages = [calculate_average(spectrum) for (spectrum, _), _ in datasets]\n",
    "\n",
    "    idx_max = np.argmax(averages)\n",
    "    correction = az_alt_rel[idx_max]\n",
    "\n",
    "    return correction"
   ]
  },
  {
   "cell_type": "code",
   "execution_count": 142,
   "metadata": {},
   "outputs": [],
   "source": [
    "# # Testing\n",
    "# stuff = [load('../data/test1_2025_02_21_10_20_51_raw.dat')]\n",
    "# x, y = estimate_correction_az_alt(stuff, (42, 42))\n",
    "# plot_az_alt(stuff, (42, 42))\n",
    "# plt.arrow(42, 42, x, y, length_includes_head=True, head_width=0.5, head_length=15)"
   ]
  }
 ],
 "metadata": {
  "kernelspec": {
   "display_name": "3.12.7",
   "language": "python",
   "name": "python3"
  },
  "language_info": {
   "codemirror_mode": {
    "name": "ipython",
    "version": 3
   },
   "file_extension": ".py",
   "mimetype": "text/x-python",
   "name": "python",
   "nbconvert_exporter": "python",
   "pygments_lexer": "ipython3",
   "version": "3.12.7"
  }
 },
 "nbformat": 4,
 "nbformat_minor": 2
}
