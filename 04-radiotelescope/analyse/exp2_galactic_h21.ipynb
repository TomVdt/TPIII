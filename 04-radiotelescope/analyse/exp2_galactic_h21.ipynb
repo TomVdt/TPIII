{
 "cells": [
  {
   "cell_type": "code",
   "execution_count": 1,
   "metadata": {},
   "outputs": [],
   "source": [
    "import numpy as np\n",
    "import scipy as sc\n",
    "import matplotlib as mpl\n",
    "import matplotlib.pyplot as plt\n",
    "from matplotlib import mlab\n",
    "\n",
    "import os\n",
    "import json\n",
    "\n",
    "# from uncertainties import unumpy as unp\n",
    "# from uncertainties import ufloat, umath\n",
    "\n",
    "from options import *\n",
    "from constants import *\n",
    "\n",
    "# nom_vals = unp.nominal_values\n",
    "# std_devs = unp.std_devs\n",
    "\n",
    "mpl.rcParams.update(rcParams)"
   ]
  },
  {
   "cell_type": "code",
   "execution_count": 2,
   "metadata": {},
   "outputs": [],
   "source": [
    "NFFT = 1024\n",
    "SAMPLE_RATE = 2_048_000\n",
    "H21 = 1.420405751768e9  # Hz"
   ]
  },
  {
   "cell_type": "code",
   "execution_count": 3,
   "metadata": {},
   "outputs": [],
   "source": [
    "def load(dataset: str):\n",
    "    raw_data = np.fromfile(dataset, np.complex64)\n",
    "    with open(dataset.replace(\"raw.dat\", \"params.json\"), \"r\") as file:\n",
    "        params = json.load(file)\n",
    "    \n",
    "    spectrum, frequencies = mlab.psd(raw_data, NFFT=NFFT, Fs=SAMPLE_RATE)\n",
    "    frequencies += params['frequency']\n",
    "\n",
    "    return raw_data, (spectrum, frequencies), params"
   ]
  },
  {
   "cell_type": "code",
   "execution_count": null,
   "metadata": {},
   "outputs": [],
   "source": [
    "datasets = []\n",
    "\n",
    "_, (galaxy_spectrum, frequencies), _ = load(\"../data/glactic_test1_2025_02_28_11_13_50_raw.dat\")\n",
    "_, (galaxy_spectrum2, frequencies), _ = load(\"../data/galactic_test2_2025_02_28_13_46_12_raw.dat\")\n",
    "_, (bm_noise1_spectrum, _), _ = load(\"../data/batiment_test1_2025_02_28_11_33_58_raw.dat\")\n",
    "_, (bm_noise2_spectrum, _), _ = load(\"../data/batiment_test2_2025_02_28_11_44_57_raw.dat\")\n",
    "_, (bc_noise3_spectrum, _), _ = load(\"../data/bc_test3_2025_02_28_13_31_31_raw.dat\")\n"
   ]
  },
  {
   "cell_type": "code",
   "execution_count": 22,
   "metadata": {},
   "outputs": [],
   "source": [
    "def calculate_average(spectrum: np.ndarray) -> float:\n",
    "    idx = np.r_[200:500,550:850]\n",
    "    return np.mean(spectrum[idx])"
   ]
  },
  {
   "cell_type": "code",
   "execution_count": 23,
   "metadata": {},
   "outputs": [],
   "source": [
    "def normalise_data(signal: np.ndarray, noise: np.ndarray) -> np.ndarray:\n",
    "    return signal - noise"
   ]
  },
  {
   "cell_type": "code",
   "execution_count": 24,
   "metadata": {},
   "outputs": [],
   "source": [
    "def clean_up(signal: np.ndarray, w: int = 10) -> np.ndarray:\n",
    "    cleaned = np.convolve(signal, np.ones(w), 'same') / w\n",
    "    return cleaned"
   ]
  },
  {
   "cell_type": "code",
   "execution_count": 25,
   "metadata": {},
   "outputs": [],
   "source": [
    "def calculate_relative_speed(measured_frequency: float) -> float:\n",
    "    return sc.constants.c * (H21 - measured_frequency) / measured_frequency"
   ]
  },
  {
   "cell_type": "code",
   "execution_count": 26,
   "metadata": {},
   "outputs": [
    {
     "name": "stdout",
     "output_type": "stream",
     "text": [
      "-553751.7679998875 116.92106194908483\n"
     ]
    },
    {
     "data": {
      "text/plain": [
       "<matplotlib.lines.Line2D at 0x7f43cbfa7250>"
      ]
     },
     "execution_count": 26,
     "metadata": {},
     "output_type": "execute_result"
    }
   ],
   "source": [
    "%matplotlib tk\n",
    "# signal_normalised = normalise_data(galaxy_spectrum, bm_noise1_spectrum)\n",
    "# signal2_normalised = normalise_data(galaxy_spectrum2, bm_noise1_spectrum)\n",
    "# plt.plot(frequencies, (signal_normalised))\n",
    "# plt.plot(frequencies, (signal2_normalised))\n",
    "\n",
    "\n",
    "signal_normalised2 = normalise_data(galaxy_spectrum, bc_noise3_spectrum)\n",
    "signal2_normalised2 = normalise_data(galaxy_spectrum2, bc_noise3_spectrum)\n",
    "plt.plot(frequencies, (signal_normalised2))\n",
    "plt.plot(frequencies, (signal2_normalised2))\n",
    "\n",
    "\n",
    "\n",
    "# reference_noise = normalise_data(bc_noise3_spectrum, bm_noise1_spectrum)\n",
    "\n",
    "\n",
    "# plt.semilogy(frequencies, bc_noise3_spectrum)\n",
    "# plt.semilogy(frequencies, bm_noise1_spectrum)\n",
    "# plt.semilogy(frequencies, signal_normalised)\n",
    "# plt.semilogy(frequencies, signal_cleaned)\n",
    "# plt.semilogy(frequencies, reference_noise)\n",
    "# plt.semilogy(frequencies, signal_cleaned)\n",
    "\n",
    "signal_cleaned = clean_up(signal_normalised, 20)\n",
    "hydrogen_peak_idx = sc.signal.find_peaks(signal_cleaned, width=20)[0][2]\n",
    "print(frequencies[hydrogen_peak_idx] - H21, calculate_relative_speed(frequencies[hydrogen_peak_idx]) / 1000)\n",
    "plt.axvline(frequencies[hydrogen_peak_idx])\n",
    "plt.axvline(H21, c='r')\n",
    "\n",
    "# plt.semilogy(frequencies, reference_noise)\n",
    "# plt.ylim(1e-2, 2e-2)"
   ]
  },
  {
   "cell_type": "code",
   "execution_count": null,
   "metadata": {},
   "outputs": [],
   "source": [
    "signal_normalised = normalise_data(galaxy_spectrum, bm_noise1_spectrum)\n",
    "signal2_normalised = normalise_data(galaxy_spectrum2, bm_noise1_spectrum)\n",
    "plt.semilogy(frequencies, clean_up(signal_normalised))\n",
    "plt.semilogy(frequencies, clean_up(signal2_normalised))\n",
    "\n",
    "\n",
    "signal_normalised2 = normalise_data(galaxy_spectrum, bc_noise3_spectrum)\n",
    "signal2_normalised2 = normalise_data(galaxy_spectrum2, bc_noise3_spectrum)\n",
    "plt.semilogy(frequencies, clean_up(signal_normalised2))\n",
    "plt.semilogy(frequencies, clean_up(signal2_normalised2))\n",
    "\n",
    "\n",
    "\n",
    "# reference_noise = normalise_data(bc_noise3_spectrum, bm_noise1_spectrum)\n",
    "\n",
    "\n",
    "# plt.semilogy(frequencies, bc_noise3_spectrum)\n",
    "# plt.semilogy(frequencies, bm_noise1_spectrum)\n",
    "# plt.semilogy(frequencies, signal_normalised)\n",
    "# plt.semilogy(frequencies, signal_cleaned)\n",
    "# plt.semilogy(frequencies, reference_noise)\n",
    "# plt.semilogy(frequencies, signal_cleaned)\n",
    "\n",
    "signal_cleaned = clean_up(signal_normalised, 20)\n",
    "hydrogen_peak_idx = sc.signal.find_peaks(signal_cleaned, width=20)[0][2]\n",
    "print(frequencies[hydrogen_peak_idx] - H21, calculate_relative_speed(frequencies[hydrogen_peak_idx]) / 1000)\n",
    "plt.axvline(frequencies[hydrogen_peak_idx])\n",
    "plt.axvline(H21, c='r')\n",
    "\n",
    "# plt.semilogy(frequencies, reference_noise)\n",
    "# plt.ylim(1e-2, 2e-2)"
   ]
  },
  {
   "cell_type": "code",
   "execution_count": null,
   "metadata": {},
   "outputs": [
    {
     "data": {
      "text/plain": [
       "[<matplotlib.lines.Line2D at 0x7fac59333890>]"
      ]
     },
     "metadata": {},
     "output_type": "display_data"
    },
    {
     "data": {
      "image/png": "[encoded data removed]",
      "text/plain": [
       "<Figure size 513.5x384.8 with 1 Axes>"
      ]
     },
     "metadata": {},
     "output_type": "display_data"
    }
   ],
   "source": [
    "signal_normalised = normalise_data(galaxy_spectrum, bm_noise1_spectrum)\n",
    "signal_normalised2 = normalise_data(galaxy_spectrum, bc_noise3_spectrum)\n",
    "# reference_noise = normalise_data(bc_noise3_spectrum, bm_noise1_spectrum)\n",
    "\n",
    "signal_cleaned = clean_up(signal_normalised, 20)\n",
    "\n",
    "# plt.semilogy(frequencies, bc_noise3_spectrum)\n",
    "# plt.semilogy(frequencies, bm_noise1_spectrum)\n",
    "# plt.semilogy(frequencies, signal_normalised)\n",
    "plt.semilogy(frequencies, clean_up(signal_normalised2))\n",
    "# plt.semilogy(frequencies, reference_noise)\n",
    "# plt.semilogy(frequencies, signal_cleaned)\n",
    "\n",
    "# hydrogen_peak_idx = sc.signal.find_peaks(signal_cleaned, width=20)[0][2]\n",
    "# print(frequencies[hydrogen_peak_idx] - H21, calculate_relative_speed(frequencies[hydrogen_peak_idx]) / 1000)\n",
    "# plt.axvline(frequencies[hydrogen_peak_idx])\n",
    "# plt.axvline(H21, c='r')\n",
    "\n",
    "# plt.semilogy(frequencies, reference_noise)\n",
    "# plt.ylim(1e-2, 2e-2)"
   ]
  }
 ],
 "metadata": {
  "kernelspec": {
   "display_name": ".venv",
   "language": "python",
   "name": "python3"
  },
  "language_info": {
   "codemirror_mode": {
    "name": "ipython",
    "version": 3
   },
   "file_extension": ".py",
   "mimetype": "text/x-python",
   "name": "python",
   "nbconvert_exporter": "python",
   "pygments_lexer": "ipython3",
   "version": "3.13.2"
  }
 },
 "nbformat": 4,
 "nbformat_minor": 2
}
