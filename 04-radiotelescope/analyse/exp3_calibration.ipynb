{
 "cells": [
  {
   "cell_type": "code",
   "execution_count": 90,
   "metadata": {},
   "outputs": [],
   "source": [
    "import numpy as np\n",
    "import scipy as sc\n",
    "import matplotlib as mpl\n",
    "import matplotlib.pyplot as plt\n",
    "import matplotlib.mlab as mlab\n",
    "# from matplotlib.legend_handler import HandlerTuple\n",
    "\n",
    "import json\n",
    "from glob import glob\n",
    "\n",
    "# from uncertainties import unumpy as unp\n",
    "# from uncertainties import ufloat, umath\n",
    "\n",
    "from options import *\n",
    "from constants import *\n",
    "\n",
    "# nom_vals = unp.nominal_values\n",
    "# std_devs = unp.std_devs\n",
    "\n",
    "mpl.rcParams.update(rcParams)"
   ]
  },
  {
   "cell_type": "code",
   "execution_count": 78,
   "metadata": {},
   "outputs": [],
   "source": [
    "#Paramètres utilisés pour la mesure (par défaut)\n",
    "sampleRate = 2.048e6\n",
    "centerFreq = 1420e6\n",
    "centerFreqGHz = centerFreq / 1e9\n",
    "nfft = 1024"
   ]
  },
  {
   "cell_type": "code",
   "execution_count": 91,
   "metadata": {},
   "outputs": [
    {
     "name": "stdout",
     "output_type": "stream",
     "text": [
      "../data/calibration_0_-5_2025_02_21_16_03_06_raw.dat\n",
      "../data/calibration_0_-4_2025_02_21_15_49_45_raw.dat\n",
      "../data/calibration_1_-2_2025_02_21_15_38_49_raw.dat\n",
      "../data/calibration_5_-4_2025_02_21_15_54_56_raw.dat\n",
      "../data/calibration_3_-2_2025_02_21_15_40_42_raw.dat\n",
      "../data/calibration_1_-4_2025_02_21_15_50_46_raw.dat\n",
      "../data/calibration_0_0_2025_02_21_15_23_20_raw.dat\n",
      "../data/calibration_5_-1_2025_02_21_15_31_02_raw.dat\n",
      "../data/calibration_4_-2_2025_02_21_15_41_45_raw.dat\n",
      "../data/calibration_2_0_2025_02_21_15_26_03_raw.dat\n",
      "../data/calibration_5_-2_2025_02_21_15_42_43_raw.dat\n",
      "../data/calibration_5_0_2025_02_21_15_29_55_raw.dat\n",
      "../data/calibration_4_-3_2025_02_21_15_44_34_raw.dat\n",
      "../data/calibration_2_-1_2025_02_21_15_34_18_raw.dat\n",
      "../data/calibration_1_-5_2025_02_21_16_01_49_raw.dat\n",
      "../data/calibration_4_-1_2025_02_21_15_32_15_raw.dat\n",
      "../data/calibration_4_-4_2025_02_21_15_54_02_raw.dat\n",
      "../data/calibration_3_-4_2025_02_21_15_53_03_raw.dat\n",
      "../data/calibration_4_-5_2025_02_21_15_57_55_raw.dat\n",
      "../data/calibration_0_-1_2025_02_21_15_36_44_raw.dat\n",
      "../data/calibration_0_-2_2025_02_21_15_37_57_raw.dat\n",
      "../data/calibration_2_-2_2025_02_21_15_39_45_raw.dat\n",
      "../data/calibration_1_-3_2025_02_21_15_47_30_raw.dat\n",
      "../data/calibration_3_-1_2025_02_21_15_33_23_raw.dat\n",
      "../data/calibration_3_-3_2025_02_21_15_45_35_raw.dat\n",
      "../data/calibration_2_-3_2025_02_21_15_46_33_raw.dat\n",
      "../data/calibration_2_-5_2025_02_21_16_00_02_raw.dat\n",
      "../data/calibration_4_0_2025_02_21_15_28_25_raw.dat\n",
      "../data/calibration_5_-3_2025_02_21_15_43_41_raw.dat\n",
      "../data/calibration_5_-5_2025_02_21_15_56_38_raw.dat\n",
      "../data/calibration_3_0_2025_02_21_15_27_18_raw.dat\n",
      "../data/calibration_3_-5_2025_02_21_15_59_04_raw.dat\n",
      "../data/calibration_2_-4_2025_02_21_15_51_48_raw.dat\n",
      "../data/calibration_1_-1_2025_02_21_15_35_40_raw.dat\n",
      "../data/calibration_1_0_2025_02_21_15_24_47_raw.dat\n",
      "../data/calibration_0_-3_2025_02_21_15_48_49_raw.dat\n"
     ]
    }
   ],
   "source": [
    "Ra = []\n",
    "Dec = []\n",
    "power = []\n",
    "frequencies = []\n",
    "properties = []\n",
    "for run in glob('../data/*'):\n",
    "    if (run[8:].startswith(\"calibration\") and run.endswith(\".dat\")):\n",
    "        print(run)\n",
    "        Ra.append(int(run.split(\"_\")[1]))\n",
    "        Dec.append(int(run.split(\"_\")[2]))\n",
    "        run_data = np.fromfile(run, np.complex64)\n",
    "        p,f = mlab.psd(run_data, Fs=sampleRate, NFFT=nfft, scale_by_freq=False) # faut decaler les frequences par fc\n",
    "        power.append(p)\n",
    "        frequencies.append(f + centerFreq)\n",
    "\n",
    "        with open(run.replace(\"raw.dat\", \"params.json\"), \"r\") as file:\n",
    "            properties.append(json.load(file))\n"
   ]
  },
  {
   "cell_type": "code",
   "execution_count": 94,
   "metadata": {},
   "outputs": [],
   "source": [
    "az = []\n",
    "alt =[]\n",
    "for i, prop in enumerate(properties):\n",
    "    az_t, alt_t = prop[\"az_alt\"]\n",
    "    az.append(az_t)\n",
    "    alt.append(alt_t)"
   ]
  },
  {
   "cell_type": "code",
   "execution_count": 80,
   "metadata": {},
   "outputs": [],
   "source": [
    "avg = []\n",
    "for i, f in enumerate(frequencies):\n",
    "    left_avg = np.mean(power[i][200:500])\n",
    "    right_avg = np.mean(power[i][550:850])\n",
    "    avg.append((left_avg + right_avg)/2)\n"
   ]
  },
  {
   "cell_type": "code",
   "execution_count": 97,
   "metadata": {},
   "outputs": [
    {
     "name": "stdout",
     "output_type": "stream",
     "text": [
      "[0, 0, 1, 5, 3, 1, 0, 5, 4, 2, 5, 5, 4, 2, 1, 4, 4, 3, 4, 0, 0, 2, 1, 3, 3, 2, 2, 4, 5, 5, 3, 3, 2, 1, 1, 0]\n",
      "[-5, -4, -2, -4, -2, -4, 0, -1, -2, 0, -2, 0, -3, -1, -5, -1, -4, -4, -5, -1, -2, -2, -3, -1, -3, -3, -5, 0, -3, -5, 0, -5, -4, -1, 0, -3]\n"
     ]
    }
   ],
   "source": [
    "print(Ra)\n",
    "print(Dec)"
   ]
  },
  {
   "cell_type": "code",
   "execution_count": 102,
   "metadata": {},
   "outputs": [
    {
     "data": {
      "text/plain": [
       "Text(0, 0.5, 'Alt')"
      ]
     },
     "execution_count": 102,
     "metadata": {},
     "output_type": "execute_result"
    },
    {
     "data": {
      "image/png": "[encoded data removed]",
      "text/plain": [
       "<Figure size 513.5x384.8 with 1 Axes>"
      ]
     },
     "metadata": {},
     "output_type": "display_data"
    }
   ],
   "source": [
    "plt.scatter(az, alt, c=avg)\n",
    "plt.scatter(az[6], alt[6], marker='o', s=50)\n",
    "plt.xlabel(\"Az\")\n",
    "plt.ylabel(\"Alt\")"
   ]
  },
  {
   "cell_type": "code",
   "execution_count": null,
   "metadata": {},
   "outputs": [
    {
     "data": {
      "text/plain": [
       "Text(0, 0.5, 'Dec')"
      ]
     },
     "execution_count": 103,
     "metadata": {},
     "output_type": "execute_result"
    },
    {
     "data": {
      "image/png": "[encoded data removed]",
      "text/plain": [
       "<Figure size 513.5x384.8 with 1 Axes>"
      ]
     },
     "metadata": {},
     "output_type": "display_data"
    }
   ],
   "source": [
    "plt.scatter(Ra, Dec, c=avg)\n",
    "plt.scatter(Ra[6], Dec[6], marker='o', s=50)\n",
    "plt.xlabel(\"Ra\")\n",
    "plt.ylabel(\"Dec\")"
   ]
  }
 ],
 "metadata": {
  "kernelspec": {
   "display_name": "3.12.7",
   "language": "python",
   "name": "python3"
  },
  "language_info": {
   "codemirror_mode": {
    "name": "ipython",
    "version": 3
   },
   "file_extension": ".py",
   "mimetype": "text/x-python",
   "name": "python",
   "nbconvert_exporter": "python",
   "pygments_lexer": "ipython3",
   "version": "3.12.7"
  }
 },
 "nbformat": 4,
 "nbformat_minor": 2
}
