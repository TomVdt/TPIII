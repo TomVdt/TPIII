{
 "cells": [
  {
   "cell_type": "code",
   "execution_count": 2,
   "metadata": {},
   "outputs": [],
   "source": [
    "import numpy as np\n",
    "import scipy as sc\n",
    "import matplotlib as mpl\n",
    "import matplotlib.pyplot as plt\n",
    "from matplotlib import mlab\n",
    "\n",
    "import os\n",
    "import json\n",
    "from glob import glob\n",
    "\n",
    "from uncertainties import unumpy as unp\n",
    "from uncertainties import ufloat, umath, Variable\n",
    "\n",
    "from options import *\n",
    "from constants import *\n",
    "\n",
    "nom_vals = unp.nominal_values\n",
    "std_devs = unp.std_devs\n",
    "\n",
    "mpl.rcParams.update(rcParams)"
   ]
  },
  {
   "cell_type": "code",
   "execution_count": 3,
   "metadata": {},
   "outputs": [],
   "source": [
    "def load(dataset: str):\n",
    "    raw_data = np.fromfile(dataset, np.complex64)\n",
    "    with open(dataset.replace(\"raw.dat\", \"params.json\"), \"r\") as file:\n",
    "        params = json.load(file)\n",
    "    \n",
    "    spectrum, frequencies = mlab.psd(raw_data, NFFT=NFFT, Fs=SAMPLE_RATE)\n",
    "    frequencies += params['frequency']\n",
    "\n",
    "    return raw_data, (spectrum, frequencies), params"
   ]
  },
  {
   "cell_type": "code",
   "execution_count": 4,
   "metadata": {},
   "outputs": [],
   "source": [
    "data = []\n",
    "noise = None\n",
    "freq = None\n",
    "\n",
    "files = sorted(glob(\"../data/h_*.dat\"))\n",
    "files.sort(key=os.path.getmtime)\n",
    "\n",
    "for file in files:\n",
    "    _, (spectrum, freq), params = load(file)\n",
    "    params['l'] = ufloat(file.split('data/h_')[1].split('_')[0], 1)\n",
    "    data.append((spectrum, params))\n",
    "\n",
    "_, (noise, _), _ = load(\"../data/bc_test3_2025_02_28_13_31_31_raw.dat\")"
   ]
  },
  {
   "cell_type": "code",
   "execution_count": 5,
   "metadata": {},
   "outputs": [],
   "source": [
    "def gaussian(x: np.ndarray, A: float, B: float, mu: float, sigma: float) -> np.ndarray:\n",
    "    return A + B * np.exp(-(x - mu)**2 / (2 * sigma**2))"
   ]
  },
  {
   "cell_type": "code",
   "execution_count": 6,
   "metadata": {},
   "outputs": [],
   "source": [
    "def deg2rad(deg: float | Variable) -> float | Variable:\n",
    "    return np.pi * deg / 180"
   ]
  },
  {
   "cell_type": "code",
   "execution_count": 7,
   "metadata": {},
   "outputs": [],
   "source": [
    "def calculate_average(spectrum: np.ndarray) -> float:\n",
    "    idx = np.r_[200:500,550:850]\n",
    "    return np.mean(spectrum[idx])"
   ]
  },
  {
   "cell_type": "code",
   "execution_count": 8,
   "metadata": {},
   "outputs": [],
   "source": [
    "def normalise_data(signal: np.ndarray, noise: np.ndarray) -> np.ndarray:\n",
    "    return signal / noise"
   ]
  },
  {
   "cell_type": "code",
   "execution_count": 9,
   "metadata": {},
   "outputs": [],
   "source": [
    "def clean_up(signal: np.ndarray, w: int = 10) -> np.ndarray:\n",
    "    cleaned = np.convolve(signal, np.ones(w), 'same') / w\n",
    "    return cleaned"
   ]
  },
  {
   "cell_type": "code",
   "execution_count": 10,
   "metadata": {},
   "outputs": [],
   "source": [
    "def calculate_relative_velocity(measured_frequency: float | Variable) -> float | Variable:\n",
    "    return sc.constants.c * (H21 - measured_frequency) / measured_frequency"
   ]
  },
  {
   "cell_type": "code",
   "execution_count": 11,
   "metadata": {},
   "outputs": [],
   "source": [
    "def bad_distance_estimate(relative_velocity: float | Variable, galactic_longitude: float | Variable) -> float | Variable:\n",
    "    galactic_rad = deg2rad(galactic_longitude)\n",
    "    d = relative_velocity / OORT_A / unp.sin(2 * galactic_rad)\n",
    "    return abs(d)"
   ]
  },
  {
   "cell_type": "code",
   "execution_count": 12,
   "metadata": {},
   "outputs": [],
   "source": [
    "def velocity_vector_method(relative_velocity: float | Variable, galactic_longitude: float | Variable) -> float | Variable:\n",
    "    galactic_rad = deg2rad(galactic_longitude)\n",
    "\n",
    "    d = bad_distance_estimate(relative_velocity, galactic_longitude)\n",
    "    R = unp.sqrt(EARTH_GALACTIC_CENTER**2 + d**2 - 2 * EARTH_GALACTIC_CENTER * d * unp.cos(galactic_rad))\n",
    "\n",
    "    V_hydrogen_cloud = R / EARTH_GALACTIC_CENTER * (relative_velocity / unp.sin(galactic_rad) + V0)\n",
    "    return V_hydrogen_cloud, R"
   ]
  },
  {
   "cell_type": "code",
   "execution_count": 13,
   "metadata": {},
   "outputs": [],
   "source": [
    "def matteo_method(relative_velocity: float | Variable, galactic_longitude: float | Variable) -> float | Variable:\n",
    "    galactic_rad = deg2rad(galactic_longitude)\n",
    "\n",
    "    d = bad_distance_estimate(relative_velocity, galactic_longitude)\n",
    "    R = unp.sqrt(EARTH_GALACTIC_CENTER**2 + d**2 - 2 * EARTH_GALACTIC_CENTER * d * unp.cos(galactic_rad))\n",
    "\n",
    "    cos_alpha = (R**2 + d**2 - EARTH_GALACTIC_CENTER**2) / (2 * R * d)\n",
    "    V_hydrogen_cloud = (relative_velocity + V0 * unp.sin(galactic_rad)) / unp.sqrt(1 - cos_alpha**2)\n",
    "    return V_hydrogen_cloud, R"
   ]
  },
  {
   "cell_type": "code",
   "execution_count": 91,
   "metadata": {},
   "outputs": [],
   "source": [
    "def tangent_method(relative_velocity: float | Variable, galactic_longitude: float | Variable) -> float | Variable:\n",
    "    galactic_rad = deg2rad(galactic_longitude)\n",
    "    V_hydrogen = relative_velocity + V0 * unp.sin(galactic_rad)\n",
    "    R = EARTH_GALACTIC_CENTER * unp.sin(galactic_rad)\n",
    "    # R = EARTH_GALACTIC_CENTER * unp.sin(galactic_rad) * V0 / (V0 * unp.sin(galactic_rad) - relative_velocity)\n",
    "    return V_hydrogen, R"
   ]
  },
  {
   "cell_type": "code",
   "execution_count": 92,
   "metadata": {},
   "outputs": [],
   "source": [
    "def processing_tangent(freq: np.ndarray, spectrum: np.ndarray, params: dict, noise: np.ndarray, peaks_idx: list[int] = None, display: bool = True) -> Variable:\n",
    "    cleaned_signal = clean_up(normalise_data(spectrum, noise), w=5)\n",
    "    \n",
    "    if peaks_idx is None:\n",
    "        max_idx = np.argmax(cleaned_signal)\n",
    "        freq_of_max = ufloat(freq[max_idx], 0.00002e9)  # estimated error based on vibes\n",
    "        # print(f\"Maximum found at {freq[max_idx]} Hz\")\n",
    "    else:\n",
    "        if len(peaks_idx) > 1: print(\"WARNING: only uses the first value currently\")\n",
    "        freq_of_max = ufloat(freq[peaks_idx[0]], 0.00002e9)  # estimated error based on vibes\n",
    "\n",
    "    relative_velocity = calculate_relative_velocity(freq_of_max)\n",
    "    \n",
    "    l: float = params.get('l', 0)\n",
    "    actual_velocity: Variable = None\n",
    "    radius: Variable = None\n",
    "    # Inner circle\n",
    "    if l < 90:\n",
    "        actual_velocity, radius = tangent_method(relative_velocity, l)\n",
    "    # Outer circle\n",
    "    elif l < 270:\n",
    "        print(f\"WARNING: using the bad method for {l=:.0f}\")\n",
    "        actual_velocity, radius = matteo_method(relative_velocity, l)\n",
    "\n",
    "    if display:\n",
    "        print(f\"Estimated relative velocity ({l=:.1uP}): {relative_velocity/1000:.3upP} km/s\")\n",
    "        print(f\"Estimated actual velocity ({l=:.1uP}): {actual_velocity/1000:.3upP} km/s\")\n",
    "        plt.semilogy(freq, cleaned_signal)\n",
    "        plt.axvline(H21, c='r', label='Base H21', ls='--')\n",
    "        plt.axvline(freq_of_max.n, c='magenta', label='Shifted peak')\n",
    "        plt.xlabel(\"Frequency [Hz]\")\n",
    "        plt.ylabel(\"Signal-to-noise ratio\")\n",
    "        plt.legend()\n",
    "    \n",
    "    distance_est = bad_distance_estimate(relative_velocity, l)\n",
    "\n",
    "    return distance_est, actual_velocity, radius, l"
   ]
  },
  {
   "cell_type": "code",
   "execution_count": 93,
   "metadata": {},
   "outputs": [],
   "source": [
    "def processing_vector(freq: np.ndarray, spectrum: np.ndarray, params: dict, noise: np.ndarray, peaks_idx: list[int] = None, display: bool = True) -> Variable:\n",
    "    cleaned_signal = clean_up(normalise_data(spectrum, noise), w=5)\n",
    "    \n",
    "    if peaks_idx is None:\n",
    "        max_idx = np.argmax(cleaned_signal)\n",
    "        freq_of_max = ufloat(freq[max_idx], 0.00002e9)  # estimated error based on vibes\n",
    "        # print(f\"Maximum found at {freq[max_idx]} Hz\")\n",
    "    else:\n",
    "        if len(peaks_idx) > 1: print(\"WARNING: only uses the first value currently\")\n",
    "        freq_of_max = ufloat(freq[peaks_idx[0]], 0.00002e9)  # estimated error based on vibes\n",
    "\n",
    "    relative_velocity = calculate_relative_velocity(freq_of_max)\n",
    "    \n",
    "    l: float = params.get('l', 0)\n",
    "    actual_velocity: Variable = None\n",
    "    radius: Variable = None\n",
    "    # Inner circle\n",
    "    if l < 90:\n",
    "        actual_velocity, radius = velocity_vector_method(relative_velocity, l)\n",
    "    # Outer circle\n",
    "    elif l < 270:\n",
    "        print(f\"WARNING: using the bad method for {l=:.0f}\")\n",
    "        actual_velocity, radius = matteo_method(relative_velocity, l)\n",
    "\n",
    "    if display:\n",
    "        print(f\"Estimated relative velocity ({l=:.1uP}): {relative_velocity/1000:.3upP} km/s\")\n",
    "        print(f\"Estimated actual velocity ({l=:.1uP}): {actual_velocity/1000:.3upP} km/s\")\n",
    "        plt.semilogy(freq, cleaned_signal)\n",
    "        plt.axvline(H21, c='r', label='Base H21', ls='--')\n",
    "        plt.axvline(freq_of_max.n, c='magenta', label='Shifted peak')\n",
    "        plt.xlabel(\"Frequency [Hz]\")\n",
    "        plt.ylabel(\"Signal-to-noise ratio\")\n",
    "        plt.legend()\n",
    "    \n",
    "    distance_est = bad_distance_estimate(relative_velocity, l)\n",
    "\n",
    "    return distance_est, actual_velocity, radius, l"
   ]
  },
  {
   "cell_type": "code",
   "execution_count": 94,
   "metadata": {},
   "outputs": [],
   "source": [
    "all_peaks = [None] * len(data)\n",
    "all_peaks[19] = [725]\n",
    "all_peaks[20] = [725]\n",
    "\n",
    "ignore = np.full(len(data), False)\n",
    "ignore[17:22] = True\n",
    "ignore[24:27] = True\n",
    "ignore[28:32] = True\n",
    "ignore[35:] = True\n",
    "\n",
    "distances = []\n",
    "velocities = []\n",
    "longitudes = []\n",
    "radii = []\n"
   ]
  },
  {
   "cell_type": "code",
   "execution_count": 95,
   "metadata": {},
   "outputs": [
    {
     "name": "stdout",
     "output_type": "stream",
     "text": [
      "WARNING: using the bad method for l=99+/-1\n",
      "WARNING: using the bad method for l=102+/-1\n",
      "WARNING: using the bad method for l=105+/-1\n"
     ]
    }
   ],
   "source": [
    "for i, ((spectrum, params), peaks) in enumerate(zip(data, all_peaks)):\n",
    "    if (ignore[i]):\n",
    "        distances.append(None)\n",
    "        velocities.append(None)\n",
    "        longitudes.append(None)\n",
    "        radii.append(None)\n",
    "    else:\n",
    "        # print(f\"Spectrum [{i}]\")\n",
    "        dist, vel , radius, l = processing_tangent(freq, spectrum, params, noise, peaks_idx=peaks, display=False)\n",
    "        distances.append(dist)\n",
    "        velocities.append(vel)\n",
    "        longitudes.append(l)\n",
    "        radii.append(radius)\n",
    "        # plt.xlim(1.4202e9, 1.4208e9)\n",
    "        # plt.show()"
   ]
  },
  {
   "cell_type": "code",
   "execution_count": 96,
   "metadata": {},
   "outputs": [
    {
     "data": {
      "text/plain": [
       "<matplotlib.colorbar.Colorbar at 0x1276dd310>"
      ]
     },
     "execution_count": 96,
     "metadata": {},
     "output_type": "execute_result"
    },
    {
     "data": {
      "image/png": "[encoded data removed]",
      "text/plain": [
       "<Figure size 513.5x384.8 with 2 Axes>"
      ]
     },
     "metadata": {},
     "output_type": "display_data"
    }
   ],
   "source": [
    "plt.scatter([nom_vals(R) for R in radii if R is not None], [v.n / 1000 for v in velocities if v is not None], c = [l.n for l in longitudes if l is not None])\n",
    "\n",
    "# plt.xlim(-1,25)\n",
    "# plt.ylim(-50,400)\n",
    "\n",
    "plt.xlabel('Radius [kpc]')\n",
    "plt.ylabel('Velocity [km/s]')\n",
    "plt.colorbar(label=\"$l$\")"
   ]
  },
  {
   "cell_type": "code",
   "execution_count": 97,
   "metadata": {},
   "outputs": [
    {
     "name": "stdout",
     "output_type": "stream",
     "text": [
      "WARNING: using the bad method for l=99+/-1\n",
      "WARNING: using the bad method for l=102+/-1\n",
      "WARNING: using the bad method for l=105+/-1\n"
     ]
    }
   ],
   "source": [
    "for i, ((spectrum, params), peaks) in enumerate(zip(data, all_peaks)):\n",
    "    if (ignore[i]):\n",
    "        distances.append(None)\n",
    "        velocities.append(None)\n",
    "        longitudes.append(None)\n",
    "        radii.append(None)\n",
    "    else:\n",
    "        # print(f\"Spectrum [{i}]\")\n",
    "        dist, vel , radius, l = processing_vector(freq, spectrum, params, noise, peaks_idx=peaks, display=False)\n",
    "        distances.append(dist)\n",
    "        velocities.append(vel)\n",
    "        longitudes.append(l)\n",
    "        radii.append(radius)\n",
    "        # plt.xlim(1.4202e9, 1.4208e9)\n",
    "        # plt.show()"
   ]
  },
  {
   "cell_type": "code",
   "execution_count": 65,
   "metadata": {},
   "outputs": [
    {
     "data": {
      "text/plain": [
       "<matplotlib.colorbar.Colorbar at 0x12781e2a0>"
      ]
     },
     "execution_count": 65,
     "metadata": {},
     "output_type": "execute_result"
    },
    {
     "data": {
      "image/png": "[encoded data removed]",
      "text/plain": [
       "<Figure size 513.5x384.8 with 2 Axes>"
      ]
     },
     "metadata": {},
     "output_type": "display_data"
    }
   ],
   "source": [
    "plt.scatter([nom_vals(R) for R in radii if R is not None], [v.n / 1000 for v in velocities if v is not None], c = [l.n for l in longitudes if l is not None])\n",
    "\n",
    "# plt.xlim(-1,25)\n",
    "# plt.ylim(-50,400)\n",
    "\n",
    "plt.xlabel('Radius [kpc]')\n",
    "plt.ylabel('Velocity [km/s]')\n",
    "plt.colorbar(label=\"$l$\")"
   ]
  },
  {
   "cell_type": "code",
   "execution_count": null,
   "metadata": {},
   "outputs": [],
   "source": []
  },
  {
   "cell_type": "code",
   "execution_count": null,
   "metadata": {},
   "outputs": [],
   "source": []
  }
 ],
 "metadata": {
  "kernelspec": {
   "display_name": "3.12.7",
   "language": "python",
   "name": "python3"
  },
  "language_info": {
   "codemirror_mode": {
    "name": "ipython",
    "version": 3
   },
   "file_extension": ".py",
   "mimetype": "text/x-python",
   "name": "python",
   "nbconvert_exporter": "python",
   "pygments_lexer": "ipython3",
   "version": "3.12.7"
  }
 },
 "nbformat": 4,
 "nbformat_minor": 2
}
