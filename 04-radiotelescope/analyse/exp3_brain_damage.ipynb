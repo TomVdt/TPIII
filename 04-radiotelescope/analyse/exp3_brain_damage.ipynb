{
 "cells": [
  {
   "cell_type": "code",
   "execution_count": 9,
   "metadata": {},
   "outputs": [],
   "source": [
    "import numpy as np\n",
    "import scipy as sc\n",
    "import matplotlib as mpl\n",
    "import matplotlib.pyplot as plt\n",
    "from matplotlib import mlab\n",
    "\n",
    "import os\n",
    "import json\n",
    "from glob import glob\n",
    "\n",
    "# from uncertainties import unumpy as unp\n",
    "# from uncertainties import ufloat, umath\n",
    "\n",
    "from options import *\n",
    "from constants import *\n",
    "\n",
    "# nom_vals = unp.nominal_values\n",
    "# std_devs = unp.std_devs\n",
    "\n",
    "mpl.rcParams.update(rcParams)"
   ]
  },
  {
   "cell_type": "code",
   "execution_count": null,
   "metadata": {},
   "outputs": [],
   "source": [
    "NFFT = 1024\n",
    "SAMPLE_RATE = 2_048_000\n",
    "H21 = 1.420405751768e9  # Hz\n",
    "#     1.420405751768"
   ]
  },
  {
   "cell_type": "code",
   "execution_count": 11,
   "metadata": {},
   "outputs": [],
   "source": [
    "def load(dataset: str):\n",
    "    raw_data = np.fromfile(dataset, np.complex64)\n",
    "    with open(dataset.replace(\"raw.dat\", \"params.json\"), \"r\") as file:\n",
    "        params = json.load(file)\n",
    "    \n",
    "    spectrum, frequencies = mlab.psd(raw_data, NFFT=NFFT, Fs=SAMPLE_RATE)\n",
    "    frequencies += params['frequency']\n",
    "\n",
    "    return raw_data, (spectrum, frequencies), params"
   ]
  },
  {
   "cell_type": "code",
   "execution_count": 12,
   "metadata": {},
   "outputs": [],
   "source": [
    "spectra = []\n",
    "freq = None\n",
    "\n",
    "files = glob(\"../data/Vitesse*.dat\")\n",
    "for file in files:\n",
    "    _, (spectrum, freq), _ = load(file)\n",
    "    spectra.append(spectrum)"
   ]
  },
  {
   "cell_type": "code",
   "execution_count": 13,
   "metadata": {},
   "outputs": [],
   "source": [
    "def calculate_average(spectrum: np.ndarray) -> float:\n",
    "    idx = np.r_[200:500,550:850]\n",
    "    return np.mean(spectrum[idx])"
   ]
  },
  {
   "cell_type": "code",
   "execution_count": 14,
   "metadata": {},
   "outputs": [],
   "source": [
    "def normalise_data(signal: np.ndarray, noise: np.ndarray) -> np.ndarray:\n",
    "    return signal / noise"
   ]
  },
  {
   "cell_type": "code",
   "execution_count": 15,
   "metadata": {},
   "outputs": [],
   "source": [
    "def clean_up(signal: np.ndarray, w: int = 10) -> np.ndarray:\n",
    "    cleaned = np.convolve(signal, np.ones(w), 'same') / w\n",
    "    return cleaned"
   ]
  },
  {
   "cell_type": "code",
   "execution_count": 16,
   "metadata": {},
   "outputs": [],
   "source": [
    "def calculate_relative_speed(measured_frequency: float) -> float:\n",
    "    return sc.constants.c * (H21 - measured_frequency) / measured_frequency"
   ]
  },
  {
   "cell_type": "code",
   "execution_count": 17,
   "metadata": {},
   "outputs": [],
   "source": [
    "_, (spec, _), _ = load(\"../data/galactic_test2_2025_02_28_13_46_12_raw.dat\")\n",
    "_, (noise, _), _ = load(\"../data/bc_test3_2025_02_28_13_31_31_raw.dat\")\n",
    "_, (bm, _), _ = load(\"../data/batiment_test2_2025_02_28_11_44_57_raw.dat\")"
   ]
  },
  {
   "cell_type": "code",
   "execution_count": 18,
   "metadata": {},
   "outputs": [],
   "source": [
    "def gaussian(x: np.ndarray, A: float, B: float, mu: float, sigma: float) -> np.ndarray:\n",
    "    return A + B * np.exp(-(x - mu)**2 / (2 * sigma**2))"
   ]
  },
  {
   "cell_type": "code",
   "execution_count": 23,
   "metadata": {},
   "outputs": [
    {
     "name": "stderr",
     "output_type": "stream",
     "text": [
      "/tmp/ipykernel_89720/4194066413.py:7: OptimizeWarning: Covariance of the parameters could not be estimated\n",
      "  popt, pcov = sc.optimize.curve_fit(gaussian, freq, np.log(cleaned_signal), p0=(calculate_average(cleaned_signal), 1, 1420362000, 1))\n"
     ]
    },
    {
     "data": {
      "text/plain": [
       "<matplotlib.lines.Line2D at 0x7fd0880fe850>"
      ]
     },
     "execution_count": 23,
     "metadata": {},
     "output_type": "execute_result"
    },
    {
     "data": {
      "image/png": "[encoded data removed]",
      "text/plain": [
       "<Figure size 513.5x384.8 with 1 Axes>"
      ]
     },
     "metadata": {},
     "output_type": "display_data"
    }
   ],
   "source": [
    "# plt.semilogy(freq, clean_up((spectra[0] / noise)))\n",
    "# plt.semilogy(freq, clean_up((spectra[1] / noise)))\n",
    "# plt.semilogy(freq, clean_up((spectra[2] / noise)))\n",
    "cleaned_signal = clean_up(normalise_data(spec, noise))\n",
    "plt.semilogy(freq, cleaned_signal)\n",
    "\n",
    "popt, pcov = sc.optimize.curve_fit(gaussian, freq, np.log(cleaned_signal), p0=(calculate_average(cleaned_signal), 1, 1420362000, 1))\n",
    "\n",
    "plt.plot(freq, np.exp(gaussian(freq, *popt)))\n",
    "\n",
    "plt.axvline(H21, c='r')\n",
    "# Center with redshift 1420362000.0 Hz"
   ]
  }
 ],
 "metadata": {
  "kernelspec": {
   "display_name": ".venv",
   "language": "python",
   "name": "python3"
  },
  "language_info": {
   "codemirror_mode": {
    "name": "ipython",
    "version": 3
   },
   "file_extension": ".py",
   "mimetype": "text/x-python",
   "name": "python",
   "nbconvert_exporter": "python",
   "pygments_lexer": "ipython3",
   "version": "3.13.2"
  }
 },
 "nbformat": 4,
 "nbformat_minor": 2
}
