{
 "cells": [
  {
   "cell_type": "code",
   "execution_count": 3,
   "metadata": {},
   "outputs": [],
   "source": [
    "from __future__ import annotations\n",
    "import numpy as np\n",
    "import scipy as sc\n",
    "import matplotlib as mpl\n",
    "import matplotlib.pyplot as plt\n",
    "from matplotlib import mlab\n",
    "from astropy.io import fits\n",
    "import pandas as pd\n",
    "from dataclasses import dataclass\n",
    "\n",
    "import os\n",
    "import json\n",
    "from glob import glob\n",
    "\n",
    "from uncertainties import unumpy as unp\n",
    "from uncertainties import ufloat, umath, Variable\n",
    "\n",
    "from options import *\n",
    "from constants import *\n",
    "\n",
    "nom_vals = unp.nominal_values\n",
    "std_devs = unp.std_devs\n",
    "\n",
    "mpl.rcParams.update(rcParams)"
   ]
  },
  {
   "cell_type": "code",
   "execution_count": 4,
   "metadata": {},
   "outputs": [],
   "source": [
    "@dataclass\n",
    "class Spec:\n",
    "    freq: np.ndarray\n",
    "    data: np.ndarray\n",
    "    params: dict\n",
    "    cleaned_data: np.ndarray | None = None\n",
    "    vel: np.ndarray | None = None\n",
    "    possible_relative_velocities: np.ndarray | None = None\n",
    "    possible_radii: np.ndarray | None = None"
   ]
  },
  {
   "cell_type": "code",
   "execution_count": 5,
   "metadata": {},
   "outputs": [],
   "source": [
    "def load(dataset: str) -> Spec:\n",
    "    with open(dataset.replace(\"raw.npy\", \"params.json\"), \"r\") as file:\n",
    "        params = json.load(file)\n",
    "\n",
    "    data = np.load(dataset, allow_pickle=False)\n",
    "\n",
    "    # Newer npy\n",
    "    if len(data.shape) > 1:\n",
    "        frequencies, spectrum = data\n",
    "    # Older, less advanced\n",
    "    else:\n",
    "        spectrum = data\n",
    "        frequencies = np.load('../data/reference_frequencies.npy')\n",
    "    \n",
    "    spec = Spec(frequencies, spectrum, params)\n",
    "\n",
    "    return spec"
   ]
  },
  {
   "cell_type": "markdown",
   "metadata": {},
   "source": [
    "## Step 0: load"
   ]
  },
  {
   "cell_type": "code",
   "execution_count": 6,
   "metadata": {},
   "outputs": [],
   "source": [
    "data: list[Spec] = []\n",
    "\n",
    "files = glob(\"../data/vega2/h_*.npy\")\n",
    "files.sort(key=lambda s: ''.join(s.split('_')[2:]))\n",
    "\n",
    "noise = load(\"../data/bc_test3_2025_02_28_13_31_31_raw.npy\")\n",
    "\n",
    "for file in files:\n",
    "    spec = load(file)\n",
    "    spec.params['l'] = ufloat(file.split('h_')[1].split('_')[0], 1.5)\n",
    "    data.append(spec)"
   ]
  },
  {
   "cell_type": "markdown",
   "metadata": {},
   "source": [
    "## Step 1: normalise and clean up"
   ]
  },
  {
   "cell_type": "markdown",
   "metadata": {},
   "source": [
    "## Step 2: calculate relative velocity"
   ]
  },
  {
   "cell_type": "code",
   "execution_count": 7,
   "metadata": {},
   "outputs": [],
   "source": [
    "def calculate_relative_velocity(measured_frequency: float) -> float:\n",
    "    return sc.constants.c * (H21 - measured_frequency) / measured_frequency  # Checked"
   ]
  },
  {
   "cell_type": "code",
   "execution_count": 8,
   "metadata": {},
   "outputs": [],
   "source": [
    "def clean_up_average(signal: np.ndarray, w: int = 10) -> np.ndarray:\n",
    "    # return np.convolve(signal, np.ones(w), 'same') / w\n",
    "    return sc.ndimage.uniform_filter1d(signal, size=w, mode='nearest')\n",
    "\n",
    "def clean_up_median(signal: np.ndarray, w: int = 5) -> np.ndarray:\n",
    "    return sc.signal.medfilt(signal, w)"
   ]
  },
  {
   "cell_type": "code",
   "execution_count": 9,
   "metadata": {},
   "outputs": [],
   "source": [
    "for spec in data:\n",
    "    spec.cleaned_data = to_dB(clean_up_average(spec.data / noise.data, w=19))\n",
    "    spec.vel = calculate_relative_velocity(spec.freq)\n",
    "    # plt.plot(spec.freq, spec.cleaned_data)\n",
    "    # plt.axvline(H21)\n",
    "    # plt.title(f\"l = {spec.params[\"l\"]}\")\n",
    "    # plt.show()\n",
    "    # break"
   ]
  },
  {
   "cell_type": "markdown",
   "metadata": {},
   "source": [
    "## Fitting gaussians"
   ]
  },
  {
   "cell_type": "code",
   "execution_count": 10,
   "metadata": {},
   "outputs": [],
   "source": [
    "def gaussian(x, amplitude, mu, sigma):\n",
    "    return amplitude * np.exp(-(x - mu)**2 / (2 * sigma**2))\n",
    "\n",
    "def gaussians(x, offset, *params):\n",
    "    # assert len(params) % 3 == 0, \"3 params per gaussian!\"\n",
    "    return offset + sum(\n",
    "        gaussian(x, *params[i:i+3]) for i in range(0, len(params), 3)\n",
    "    )"
   ]
  },
  {
   "cell_type": "code",
   "execution_count": 11,
   "metadata": {},
   "outputs": [],
   "source": [
    "def do_fits(spectrum: Spec, number: int = 3, guesses: list[float] = None):\n",
    "    if guesses is None:\n",
    "        mini, maxi = np.min(spec.vel), np.max(spec.vel)\n",
    "        guesses = np.linspace(mini, maxi, number, endpoint=True)\n",
    "        lower_bound = [-10] + [0, mini, 0.00001] * number\n",
    "        upper_bound = [100] + [1, maxi, 30] * number\n",
    "    else:\n",
    "        assert len(guesses) == number\n",
    "        # lower_bound = [0] + [x for xs in ((0, g - 40, 0.00001) for g in guesses) for x in xs]\n",
    "        # upper_bound = [100] + [x for xs in ((1, g + 40, 30) for g in guesses) for x in xs]\n",
    "        lower_bound = [-10]\n",
    "        upper_bound = [100]\n",
    "        for g in guesses:\n",
    "            if isinstance(g, tuple):\n",
    "                mu, sigma = g\n",
    "                lower_bound.extend((0, mu - 40, 0.00001))\n",
    "                upper_bound.extend((1, mu + 40, sigma))\n",
    "            else:\n",
    "                lower_bound.extend((0, g - 40, 0.00001))\n",
    "                upper_bound.extend((1, g + 40, 30))\n",
    "\n",
    "    # p0 = [x for xs in ((np.min(spectrum.data), 0.0001, g, 10) for g in guesses) for x in xs]\n",
    "    p0 = [0]\n",
    "    for g in guesses:\n",
    "        if isinstance(g, tuple):\n",
    "            mu, sigma = g\n",
    "        else:\n",
    "            mu = g\n",
    "            sigma = 10\n",
    "        p0.extend((0.0001, mu, sigma))\n",
    "\n",
    "    popt, pcov = sc.optimize.curve_fit(\n",
    "        gaussians,\n",
    "        spectrum.vel / 1000, spectrum.cleaned_data,\n",
    "        p0 = p0,\n",
    "        bounds = (lower_bound, upper_bound),\n",
    "        check_finite = False\n",
    "    )\n",
    "    return popt"
   ]
  },
  {
   "cell_type": "code",
   "execution_count": 33,
   "metadata": {},
   "outputs": [],
   "source": [
    "all_params = [\n",
    "    (2, [-50, 0]),  # 0 103\n",
    "    (3, [(-70, 5), (-50, 15), (10, 10)]),  # 1 106\n",
    "    (3, [(-80, 15), (-30, 20), (10, 12)]),  # 2 109\n",
    "    (3, [-60, -30, 10]),  # 3 112\n",
    "    (2, [(-40, 15), (10, 10)]),  # 4 118\n",
    "    (3, [-60, -10, 20]),  # 5 121\n",
    "    (3, [-80, -60, 20]),  # 6 124\n",
    "    (3, [-80, -40, 30]),  # 7 127\n",
    "    (3, [-80, -50, 30]),  # 8 130\n",
    "    (3, [-50, -20, 30]),  # 9 133\n",
    "    (2, [(-20, 10), 20]),  # 10 136\n",
    "    (2, [(-10, 5), (50, 10)]),  # 11\n",
    "    (2, [-40, (20, 10)]),  # 12\n",
    "    (3, [-50, (0, 10), (20, 10)]),  # 13\n",
    "    (3, [-50, (0, 10), (20, 10)]),  # 14\n",
    "    (1, [(20, 15)]),  # 15\n",
    "    (1, [(30, 15)]),  # 16\n",
    "    (1, [(30, 20)]),  # 17\n",
    "    (1, [30]),  # 18\n",
    "    (3, [(-60, 10), (-40, 10), (0, 10)]),  # 19\n",
    "    (3, [(-60, 10), (-40, 10), (0, 10)]),  # 20\n",
    "    (3, [(-60, 10), (-40, 10), (0, 10)]),  # 21\n",
    "    (2, [(-70, 10), (0, 10)]),  # 22\n",
    "    (2, [(-80, 15), (0, 15)]),  # 23\n",
    "    (2, [(-70, 10), (0, 10)]),  # 24\n",
    "    (2, [-80, 0]),  # 25\n",
    "    (2, [(-80, 15), 0]),  # 26\n",
    "    (2, [(-80, 15), 0]),  # 27\n",
    "    (2, [(-80, 15), 0]),  # 28\n",
    "    (2, [(-80, 15), 0]),  # 29\n",
    "    (3, [-60, -10, 20]),  # 30\n",
    "    (3, [-60, -20, 30]),  # 31\n",
    "    (3, [-60, -10, 30]),  # 32\n",
    "    (3, [-60, -10, 10]),  # 33\n",
    "    (3, [-50, -10, 10]),  # 34\n",
    "    (3, [-50, -20, 10]),  # 35\n",
    "    (2, [(-50, 10), (-16, 8)]),  # 36\n",
    "    (2, [(-50, 10), (-16, 8)]),  # 37\n",
    "    (2, [(-70, 10), (-16, 8)]),  # 38\n",
    "    (1, [(-20, 10)]),  # 39\n",
    "    (1, [(-20, 6)]),  # 40\n",
    "]\n",
    "current = len(all_params) - 1\n",
    "all_params += [(1, None)] * (len(data) - len(all_params))\n",
    "\n",
    "cinema = False\n",
    "for j, (spec, (n, guesses)) in enumerate(zip(data, all_params)):\n",
    "    # if j != current and j != current + 1:\n",
    "    #     continue\n",
    "\n",
    "    popt = do_fits(spec, n, guesses)\n",
    "    # print(popt[2::3])\n",
    "    spec.possible_relative_velocities = unp.uarray(popt[2::3], 10) * 1000  # m/s\n",
    "\n",
    "    if cinema:\n",
    "        plt.plot(spec.vel / 1000, spec.cleaned_data)\n",
    "        ylims = plt.ylim()\n",
    "        plt.plot(spec.vel / 1000, gaussians(spec.vel / 1000, *popt))\n",
    "        for i in range(1, len(popt), 3):\n",
    "            plt.plot(spec.vel / 1000, popt[0] + gaussian(spec.vel / 1000, *popt[i:i+3]), ls=':', color='C1')\n",
    "        # plt.ylim(ylims)\n",
    "        plt.title(f\"{j=}, l = {spec.params[\"l\"]:.1f}\")\n",
    "        plt.show()"
   ]
  },
  {
   "cell_type": "code",
   "execution_count": 34,
   "metadata": {},
   "outputs": [
    {
     "data": {
      "image/png": "[encoded data removed]",
      "text/plain": [
       "<Figure size 409.449x358.268 with 1 Axes>"
      ]
     },
     "metadata": {},
     "output_type": "display_data"
    }
   ],
   "source": [
    "spec = data[7]\n",
    "params = all_params[7]\n",
    "\n",
    "popt = do_fits(spec, *params)\n",
    "\n",
    "with mpl.rc_context():\n",
    "    mpl.rcParams['savefig.bbox'] = 'standard'\n",
    "    mpl.rcParams[\"figure.figsize\"] = (8*INCH_PER_CM, 7*INCH_PER_CM)\n",
    "    mpl.rcParams[\"figure.subplot.left\"]   = 0.25\n",
    "    mpl.rcParams['figure.subplot.right']  = 0.99\n",
    "    mpl.rcParams['figure.subplot.top']    = 0.97\n",
    "    mpl.rcParams['figure.subplot.bottom'] = 0.17\n",
    "\n",
    "    vel = spec.vel / 1000\n",
    "    spec_data = spec.cleaned_data\n",
    "    plt.plot(vel, spec_data)\n",
    "    ylims = plt.ylim()\n",
    "    plt.plot(vel, gaussians(vel, *popt))\n",
    "    plt.annotate(\"Sum of fits\", (vel[650], spec_data[650]),\n",
    "                 (vel[650] + 40, spec_data[650] + 0.1),\n",
    "                 arrowprops=dict(arrowstyle='-'),\n",
    "                 backgroundcolor='white', size='small',\n",
    "                 verticalalignment='center')\n",
    "    for i in range(1, len(popt), 3):\n",
    "        y = popt[0] + gaussian(vel, *popt[i:i+3])\n",
    "        plt.plot(vel, y, ls=':', color='C1')\n",
    "        if i == 7:\n",
    "            plt.annotate(\"Gaussian fit\", (vel[800], y[800]),\n",
    "                 (vel[800] + 10, y[800] - 0.15),\n",
    "                 arrowprops=dict(arrowstyle='-'),\n",
    "                 backgroundcolor='white', size='small',\n",
    "                 horizontalalignment='center')\n",
    "    \n",
    "    plt.ylim(ylims)\n",
    "\n",
    "    plt.xlabel(r\"$V_r$ [km/s]\")\n",
    "    plt.ylabel(r\"Power Spectrum Density [dB]\")\n",
    "\n",
    "    plt.savefig('../figures/VEGA2_fit_l_127.pdf')\n",
    "    plt.show()"
   ]
  },
  {
   "cell_type": "markdown",
   "metadata": {},
   "source": [
    "Wow that worked well"
   ]
  },
  {
   "cell_type": "markdown",
   "metadata": {},
   "source": [
    "## Calculating distance"
   ]
  },
  {
   "cell_type": "code",
   "execution_count": 32,
   "metadata": {},
   "outputs": [],
   "source": [
    "def bad_distance_estimate(relative_velocity: float, galactic_longitude: float) -> float:\n",
    "    galactic_rad = deg2rad(galactic_longitude)\n",
    "    d = relative_velocity / OORT_A / unp.sin(2 * galactic_rad)\n",
    "    return abs(d)"
   ]
  },
  {
   "cell_type": "code",
   "execution_count": 33,
   "metadata": {},
   "outputs": [],
   "source": [
    "def salsa_radius_estimate(relative_velocity: float, galactic_longitude: float) -> float:\n",
    "    galactic_rad = deg2rad(galactic_longitude)\n",
    "\n",
    "    if galactic_longitude < 90:\n",
    "        # Using V_rmax method\n",
    "        R = R0 * unp.sin(galactic_rad) * np.ones_like(relative_velocity)\n",
    "        # Actually dont. Just use this.\n",
    "        # R = R0 * V0 * np.sin(galactic_rad) / (V0 * np.sin(galactic_longitude) + relative_velocity)\n",
    "    elif galactic_longitude < 270:\n",
    "        # Considering V \\approx V_0 \n",
    "        R = R0 * V0 * unp.sin(galactic_rad) / (V0 * unp.sin(galactic_longitude) + relative_velocity)\n",
    "    else:\n",
    "        raise NotImplementedError\n",
    "\n",
    "    return np.abs(R)"
   ]
  },
  {
   "cell_type": "code",
   "execution_count": 34,
   "metadata": {},
   "outputs": [],
   "source": [
    "def salsa_distance_estimate(relative_velocity: float, galactic_longitude: float) -> float:\n",
    "    galactic_rad = deg2rad(galactic_longitude)\n",
    "\n",
    "    R = salsa_radius_estimate(relative_velocity, galactic_longitude)\n",
    "    # if galactic_longitude < 90:\n",
    "    #     R = R0 * V0 * unp.sin(galactic_rad) / (V0 * unp.sin(galactic_longitude) + relative_velocity)\n",
    "\n",
    "    feur = R**2 - (R0 * unp.sin(galactic_rad))**2\n",
    "    res = unp.uarray(np.zeros_like(relative_velocity), np.ones_like(relative_velocity))\n",
    "\n",
    "    for i, f in enumerate(feur):\n",
    "        if f < 0:\n",
    "            res[i] = bad_distance_estimate(relative_velocity[i], galactic_longitude)\n",
    "        else:\n",
    "            a = f ** 0.5\n",
    "            b = R0 * unp.cos(galactic_rad)\n",
    "            dplus = a + b\n",
    "            dminus = b - a\n",
    "            res[i] = dplus\n",
    "\n",
    "    # Only return + solution for now\n",
    "    return res"
   ]
  },
  {
   "cell_type": "code",
   "execution_count": 35,
   "metadata": {},
   "outputs": [],
   "source": [
    "for spec in data:\n",
    "    spec.possible_radii = salsa_radius_estimate(spec.possible_relative_velocities, spec.params['l'])"
   ]
  },
  {
   "cell_type": "markdown",
   "metadata": {},
   "source": [
    "## Velocity curve?????"
   ]
  },
  {
   "cell_type": "code",
   "execution_count": 36,
   "metadata": {},
   "outputs": [],
   "source": [
    "def velocity_vector_const_method(relative_velocity: float, galactic_longitude: float) -> float:\n",
    "    galactic_rad = deg2rad(galactic_longitude)\n",
    "\n",
    "    d = bad_distance_estimate(relative_velocity, galactic_longitude)\n",
    "    R = (R0**2 + d**2 - 2 * R0 * d * unp.cos(galactic_rad)) ** (0.5)\n",
    "    # R = salsa_radius_estimate(relative_velocity, galactic_longitude)\n",
    "\n",
    "    V_hydrogen_cloud = R / R0 * (relative_velocity / unp.sin(galactic_rad) + V0)\n",
    "    return V_hydrogen_cloud, R"
   ]
  },
  {
   "cell_type": "code",
   "execution_count": 37,
   "metadata": {},
   "outputs": [],
   "source": [
    "def velocity_vector_oort_method(relative_velocity: float, galactic_longitude: float) -> float:\n",
    "    galactic_rad = deg2rad(galactic_longitude)\n",
    "\n",
    "    d = bad_distance_estimate(relative_velocity, galactic_longitude)\n",
    "    R = (R0**2 + d**2 - 2 * R0 * d * unp.cos(galactic_rad)) ** (0.5)\n",
    "\n",
    "    V_hydrogen_cloud = unp.sqrt(\n",
    "        (relative_velocity + V0 * unp.sin(galactic_rad)) ** 2\n",
    "        + (d * (OORT_B + OORT_A * unp.cos(galactic_rad) - V0 * unp.cos(galactic_rad))) ** 2\n",
    "    )\n",
    "    return V_hydrogen_cloud, R"
   ]
  },
  {
   "cell_type": "code",
   "execution_count": 38,
   "metadata": {},
   "outputs": [],
   "source": [
    "def tangent_method(relative_velocity: float, galactic_longitude: float) -> float:\n",
    "    galactic_rad = deg2rad(galactic_longitude)\n",
    "    V_hydrogen = relative_velocity + V0 * unp.sin(galactic_rad)\n",
    "    # Estimate an error based on the longitude => if we're closer it's more ambiguous\n",
    "    # that the largest velocity is the tangent because things move slower in the middle\n",
    "    # Estimate as ~1/r² because circles i guess\n",
    "    V_hydrogen = V_hydrogen * ufloat(1, (20 / (galactic_longitude.n)))\n",
    "    return V_hydrogen"
   ]
  },
  {
   "cell_type": "code",
   "execution_count": 39,
   "metadata": {},
   "outputs": [],
   "source": [
    "cloud_velocities_t = []\n",
    "cloud_velocities_v_const = []\n",
    "cloud_velocities_v_oort = []\n",
    "cloud_orbit_radii_t = []\n",
    "cloud_orbit_radii_v_const = []\n",
    "cloud_orbit_radii_v_oort = []\n",
    "longitudes_t = []\n",
    "longitudes_v_const = []\n",
    "longitudes_v_oort = []\n",
    "\n",
    "\n",
    "for spec in data:\n",
    "    l = spec.params['l']\n",
    "    if l < 90:\n",
    "        # for Vr in spec.possible_relative_velocities:\n",
    "        #     V = tangent_method(Vr, l)\n",
    "        #     R = salsa_radius_estimate(Vr, l)\n",
    "        #     cloud_velocities_t.append(V / 1000)\n",
    "        #     cloud_orbit_radii_t.append(R)\n",
    "        #     longitudes_t.append(l)\n",
    "            # print(V, R)\n",
    "        # idx = np.argsort(np.abs(spec.possible_relative_velocities), axis=0)\n",
    "        # max_relative_velocity_idx = idx[-2] if len(idx) > 1 else idx[0]\n",
    "        max_relative_velocity_idx = np.argmax(np.abs(spec.possible_relative_velocities))\n",
    "        max_rel_vel = spec.possible_relative_velocities[max_relative_velocity_idx]\n",
    "        cloud_velocities_t.append(tangent_method(max_rel_vel, l) / 1000)\n",
    "        cloud_orbit_radii_t.append(salsa_radius_estimate(max_rel_vel, l))\n",
    "        longitudes_t.append(l)\n",
    "\n",
    "        # for Vr in spec.possible_relative_velocities:\n",
    "            # V, _ = velocity_vector_const_method(Vr, l)\n",
    "            # R = R0 * V0 * unp.sin(l) / (V0 * unp.sin(l) + Vr)\n",
    "            # cloud_velocities_v_const.append(V / 1000)\n",
    "            # cloud_orbit_radii_v_const.append(R)\n",
    "            # longitudes_v_const.append(l)\n",
    "            # V, R = velocity_vector_oort_method(Vr, l)\n",
    "            # longitudes_v_oort.append(l)\n",
    "            # cloud_velocities_v_oort.append(V / 1000)\n",
    "            # cloud_orbit_radii_v_oort.append(R)\n",
    "    elif l < 270:\n",
    "        # print(spec.possible_relative_velocities)\n",
    "        for Vr in spec.possible_relative_velocities:\n",
    "            V, _ = velocity_vector_const_method(Vr, l)\n",
    "            R = R0 * V0 * unp.sin(l) / (V0 * unp.sin(l) + Vr)\n",
    "            cloud_velocities_v_const.append(V / 1000)\n",
    "            cloud_orbit_radii_v_const.append(R)\n",
    "            longitudes_v_const.append(l)\n",
    "            V, R = velocity_vector_oort_method(Vr, l)\n",
    "            longitudes_v_oort.append(l)\n",
    "            cloud_velocities_v_oort.append(V / 1000)\n",
    "            cloud_orbit_radii_v_oort.append(R)\n",
    "\n",
    "cloud_orbit_radii_t = np.array(cloud_orbit_radii_t)\n",
    "cloud_orbit_radii_v_const = np.array(cloud_orbit_radii_v_const)\n",
    "cloud_orbit_radii_v_oort = np.array(cloud_orbit_radii_v_oort)\n",
    "cloud_velocities_t = np.array(cloud_velocities_t)\n",
    "cloud_velocities_v_const = np.array(cloud_velocities_v_const)\n",
    "cloud_velocities_v_oort = np.array(cloud_velocities_v_oort)"
   ]
  },
  {
   "cell_type": "code",
   "execution_count": 49,
   "metadata": {},
   "outputs": [
    {
     "data": {
      "image/png": "[encoded data removed]",
      "text/plain": [
       "<Figure size 409.449x358.268 with 1 Axes>"
      ]
     },
     "metadata": {},
     "output_type": "display_data"
    }
   ],
   "source": [
    "R_tangent = np.array([nom_vals(R) for R in cloud_orbit_radii_t if R is not None])\n",
    "err_R_tangent = np.array([std_devs(R) for R in cloud_orbit_radii_t if R is not None])\n",
    "V_tangent = np.array([v.n for v in cloud_velocities_t if v is not None])\n",
    "err_V_tangent = np.array([std_devs(v) for v in cloud_velocities_t if v is not None])\n",
    "\n",
    "R_vector_const = np.array([nom_vals(R) for R in cloud_orbit_radii_v_const if R is not None])\n",
    "err_R_vector_const = np.array([std_devs(R) for R in cloud_orbit_radii_v_const if R is not None])\n",
    "V_vector_const = np.array([v.n for v in cloud_velocities_v_const if v is not None])\n",
    "err_V_vector_const = np.array([std_devs(v) for v in cloud_velocities_v_const if v is not None])\n",
    "\n",
    "R_vector_oort = np.array([nom_vals(R) for R in cloud_orbit_radii_v_oort if R is not None])\n",
    "err_R_vector_oort = np.array([std_devs(R) for R in cloud_orbit_radii_v_oort if R is not None])\n",
    "V_vector_oort = np.array([v.n for v in cloud_velocities_v_oort if v is not None])\n",
    "err_V_vector_oort = np.array([std_devs(v) for v in cloud_velocities_v_oort if v is not None])\n",
    "\n",
    "\n",
    "longitudes_array = np.array([l.n for l in (longitudes_t + longitudes_v_const + longitudes_v_oort) if l is not None])\n",
    "\n",
    "# cmap = plt.get_cmap('viridis')\n",
    "# norm = mpl.colors.Normalize(vmin=longitudes_array.min(), vmax=longitudes_array.max())\n",
    "# col_map=plt.cm.viridis((longitudes_array-min(longitudes_array))/(max(longitudes_array)-min(longitudes_array)))\n",
    "\n",
    "with mpl.rc_context():\n",
    "    mpl.rcParams['savefig.bbox'] = 'standard'\n",
    "    mpl.rcParams[\"figure.figsize\"] = (8*INCH_PER_CM, 7*INCH_PER_CM)\n",
    "    mpl.rcParams[\"figure.subplot.left\"]   = 0.18\n",
    "    mpl.rcParams['figure.subplot.right']  = 0.97\n",
    "    mpl.rcParams['figure.subplot.top']    = 0.97\n",
    "    mpl.rcParams['figure.subplot.bottom'] = 0.18\n",
    "    mpl.rcParams['errorbar.capsize'] = 1\n",
    "    # mpl.rcParams['lines.linewidth'] = 0.75\n",
    "    # mpl.rcParams['lines.markeredgewidth'] = 0.75\n",
    "\n",
    "\n",
    "    for i in range(len(R_tangent)):\n",
    "        plt.errorbar(R_tangent[i], V_tangent[i],\n",
    "                    xerr=err_R_tangent[i], \n",
    "                    yerr=err_V_tangent[i],\n",
    "                    ecolor='C0', ls='')\n",
    "        plt.errorbar(R_vector_const[i], V_vector_const[i],\n",
    "                    xerr=err_R_vector_const[i], \n",
    "                    yerr=err_V_vector_const[i],\n",
    "                    ecolor='C1', ls='')\n",
    "        plt.errorbar(R_vector_oort[i], V_vector_oort[i],\n",
    "                    xerr=err_R_vector_oort[i], \n",
    "                    yerr=err_V_vector_oort[i],\n",
    "                    ecolor='C3', ls='')\n",
    "        \n",
    "    ax=plt.gca() #get the current axes\n",
    "        \n",
    "\n",
    "\n",
    "    plt.xlabel('Radius [kpc]')\n",
    "    plt.ylabel('Velocity [km/s]')\n",
    "    plt.legend([\"Tangent\", r\"$V \\approx V_0$\", \"Oort\"])\n",
    "\n",
    "    plt.savefig(\"../figures/VEGA2_velocity_curve.pdf\")"
   ]
  },
  {
   "cell_type": "markdown",
   "metadata": {},
   "source": [
    "## What are we looking at???"
   ]
  },
  {
   "cell_type": "code",
   "execution_count": 41,
   "metadata": {},
   "outputs": [],
   "source": [
    "def distance_fuckery(relative_velocity: float, radius: float, galactic_longitude: float, fuck: str) -> float:\n",
    "    galactic_rad = deg2rad(galactic_longitude)\n",
    "\n",
    "    if fuck == 'tan':\n",
    "        pass\n",
    "        \n",
    "    f = radius**2 - (R0 * unp.sin(galactic_rad))**2\n",
    "\n",
    "    if f < 0:\n",
    "        return bad_distance_estimate(relative_velocity, galactic_longitude)\n",
    "    elif f.n == 0:\n",
    "        return R0 * unp.cos(galactic_rad)\n",
    "    else:\n",
    "        a = f ** 0.5\n",
    "        b = R0 * unp.cos(galactic_rad)\n",
    "        dplus = a + b\n",
    "        dminus = b - a\n",
    "        if galactic_longitude < 90:\n",
    "            return dminus\n",
    "        else:\n",
    "            return dplus"
   ]
  },
  {
   "cell_type": "code",
   "execution_count": null,
   "metadata": {},
   "outputs": [
    {
     "ename": "ValueError",
     "evalue": "all the input arrays must have same number of dimensions, but the array at index 0 has 1 dimension(s) and the array at index 1 has 0 dimension(s)",
     "output_type": "error",
     "traceback": [
      "\u001b[0;31m---------------------------------------------------------------------------\u001b[0m",
      "\u001b[0;31mValueError\u001b[0m                                Traceback (most recent call last)",
      "Cell \u001b[0;32mIn[42], line 8\u001b[0m\n\u001b[1;32m      5\u001b[0m vel_array \u001b[38;5;241m=\u001b[39m np\u001b[38;5;241m.\u001b[39mconcat([cloud_velocities_t, cloud_velocities_v_const, cloud_velocities_v_oort])\n\u001b[1;32m      7\u001b[0m \u001b[38;5;66;03m# bad_distances = bad_distance_estimate(np.array([v.n for v in velocities_vector if v is not None]), longitudes_array)\u001b[39;00m\n\u001b[0;32m----> 8\u001b[0m less_bad_distances_plus \u001b[38;5;241m=\u001b[39m \u001b[43mnp\u001b[49m\u001b[38;5;241;43m.\u001b[39;49m\u001b[43mconcat\u001b[49m\u001b[43m(\u001b[49m\n\u001b[1;32m      9\u001b[0m \u001b[43m    \u001b[49m\u001b[43m[\u001b[49m\n\u001b[1;32m     10\u001b[0m \u001b[43m        \u001b[49m\u001b[38;5;66;43;03m# Tangent\u001b[39;49;00m\n\u001b[1;32m     11\u001b[0m \u001b[43m        \u001b[49m\u001b[38;5;66;43;03m# R0 * unp.cos(longitudes_array[idx_t]),\u001b[39;49;00m\n\u001b[1;32m     12\u001b[0m \u001b[43m        \u001b[49m\u001b[43m(\u001b[49m\u001b[43mcloud_velocities_t\u001b[49m\u001b[43m \u001b[49m\u001b[38;5;241;43m-\u001b[39;49m\u001b[43m \u001b[49m\u001b[43mV0\u001b[49m\u001b[43m \u001b[49m\u001b[38;5;241;43m*\u001b[39;49m\u001b[43m \u001b[49m\u001b[43munp\u001b[49m\u001b[38;5;241;43m.\u001b[39;49m\u001b[43msin\u001b[49m\u001b[43m(\u001b[49m\u001b[43mlongitudes_array\u001b[49m\u001b[43m[\u001b[49m\u001b[43midx_t\u001b[49m\u001b[43m]\u001b[49m\u001b[43m)\u001b[49m\u001b[43m)\u001b[49m\u001b[43m \u001b[49m\u001b[38;5;241;43m/\u001b[39;49m\u001b[43m \u001b[49m\u001b[43mOORT_A\u001b[49m\u001b[43m \u001b[49m\u001b[38;5;241;43m/\u001b[39;49m\u001b[43m \u001b[49m\u001b[43munp\u001b[49m\u001b[38;5;241;43m.\u001b[39;49m\u001b[43msin\u001b[49m\u001b[43m(\u001b[49m\u001b[38;5;241;43m2\u001b[39;49m\u001b[43m \u001b[49m\u001b[38;5;241;43m*\u001b[39;49m\u001b[43m \u001b[49m\u001b[43mlongitudes_array\u001b[49m\u001b[43m[\u001b[49m\u001b[43midx_t\u001b[49m\u001b[43m]\u001b[49m\u001b[43m)\u001b[49m\u001b[43m,\u001b[49m\n\u001b[1;32m     13\u001b[0m \u001b[43m        \u001b[49m\u001b[38;5;66;43;03m# V \\approx V_0\u001b[39;49;00m\n\u001b[1;32m     14\u001b[0m \u001b[43m        \u001b[49m\u001b[43mR0\u001b[49m\u001b[43m \u001b[49m\u001b[38;5;241;43m*\u001b[39;49m\u001b[43m \u001b[49m\u001b[43mV0\u001b[49m\u001b[43m \u001b[49m\n\u001b[1;32m     15\u001b[0m \u001b[43m    \u001b[49m\u001b[43m]\u001b[49m\n\u001b[1;32m     16\u001b[0m \u001b[43m)\u001b[49m\n\u001b[1;32m     17\u001b[0m \u001b[38;5;66;03m# less_bad_distances_minus = R0 * unp.cos(deg2rad(longitudes_array)) - unp.sqrt(R0**2 * unp.cos(deg2rad(longitudes_array))**2 - (R0**2 - radii_array**2))\u001b[39;00m\n\u001b[1;32m     18\u001b[0m \n\u001b[1;32m     19\u001b[0m \u001b[38;5;66;03m# MODIFY THIS AFTER NEW DATA \u001b[39;00m\n\u001b[1;32m     20\u001b[0m \u001b[38;5;66;03m# less_bad_distances_plus = np.delete(less_bad_distances_plus, -4)\u001b[39;00m\n\u001b[1;32m     21\u001b[0m \u001b[38;5;66;03m# longitudes_array = np.delete(longitudes_array, -4)\u001b[39;00m\n\u001b[1;32m     23\u001b[0m \u001b[38;5;28;01mwith\u001b[39;00m mpl\u001b[38;5;241m.\u001b[39mrc_context():\n",
      "\u001b[0;31mValueError\u001b[0m: all the input arrays must have same number of dimensions, but the array at index 0 has 1 dimension(s) and the array at index 1 has 0 dimension(s)"
     ]
    }
   ],
   "source": [
    "idx_t = slice(0,len(cloud_orbit_radii_t))\n",
    "idx_v_const = slice(len(cloud_orbit_radii_t), len(cloud_orbit_radii_t) + len(cloud_orbit_radii_v_const))\n",
    "idx_v_oort = slice(len(cloud_orbit_radii_t) + len(cloud_orbit_radii_v_const), len(cloud_orbit_radii_t) + len(cloud_orbit_radii_v_const) + len(cloud_orbit_radii_v_oort))\n",
    "radii_array = np.concat([cloud_orbit_radii_t, cloud_orbit_radii_v_const, cloud_orbit_radii_v_oort])\n",
    "vel_array = np.concat([cloud_velocities_t, cloud_velocities_v_const, cloud_velocities_v_oort])\n",
    "\n",
    "# bad_distances = bad_distance_estimate(np.array([v.n for v in velocities_vector if v is not None]), longitudes_array)\n",
    "less_bad_distances_plus = np.concat(\n",
    "    [\n",
    "        # Tangent\n",
    "        # R0 * unp.cos(longitudes_array[idx_t]),\n",
    "        (cloud_velocities_t - V0 * unp.sin(longitudes_array[idx_t])) / OORT_A / unp.sin(2 * longitudes_array[idx_t]),\n",
    "        # V \\approx V_0\n",
    "        R0 * V0 \n",
    "    ]\n",
    ")\n",
    "# less_bad_distances_minus = R0 * unp.cos(deg2rad(longitudes_array)) - unp.sqrt(R0**2 * unp.cos(deg2rad(longitudes_array))**2 - (R0**2 - radii_array**2))\n",
    "\n",
    "# MODIFY THIS AFTER NEW DATA \n",
    "# less_bad_distances_plus = np.delete(less_bad_distances_plus, -4)\n",
    "# longitudes_array = np.delete(longitudes_array, -4)\n",
    "\n",
    "with mpl.rc_context():\n",
    "    mpl.rcParams['savefig.bbox'] = 'standard'\n",
    "    mpl.rcParams[\"figure.figsize\"] = (8*INCH_PER_CM, 7*INCH_PER_CM)\n",
    "    mpl.rcParams[\"figure.subplot.left\"]   = 0.05\n",
    "    mpl.rcParams['figure.subplot.right']  = 0.99\n",
    "    mpl.rcParams['figure.subplot.top']    = 0.97\n",
    "    mpl.rcParams['figure.subplot.bottom'] = 0.12\n",
    "\n",
    "    ax = plt.subplot(projection=\"polar\")\n",
    "\n",
    "    # plt.scatter(deg2rad(longitudes_array), less_bad_distances_plus, marker='+')\n",
    "    plt.errorbar(deg2rad(longitudes_array[idx_t]), nom_vals(less_bad_distances_plus[idx_t]),\n",
    "                 yerr=std_devs(less_bad_distances_plus[idx_t]), ls='', capsize=1.5, label='Tangent')\n",
    "    plt.errorbar(deg2rad(longitudes_array[idx_v_const]), nom_vals(less_bad_distances_plus[idx_v_const]),\n",
    "                 yerr=std_devs(less_bad_distances_plus[idx_v_const]), ls='', capsize=1.5, label=r'$V \\approx V_0$')\n",
    "    plt.errorbar(deg2rad(longitudes_array[idx_v_oort]), nom_vals(less_bad_distances_plus[idx_v_oort]),\n",
    "                 yerr=std_devs(less_bad_distances_plus[idx_v_oort]), ls='', capsize=1.5, label='Oort')\n",
    "    plt.scatter(0, R0, label=\"Center of galaxy\", marker='d', c=\"C1\")\n",
    "\n",
    "    # Position of galactic center\n",
    "    circle = plt.Circle((R0, 0), R0, transform=ax.transData._b, facecolor=None, fill=False, ls='--', color=\"#a0a0a0\", zorder=0, lw=0.75)\n",
    "    ax.add_patch(circle)\n",
    "\n",
    "\n",
    "    plt.yticks([4,8,12, 16])\n",
    "    ax.set_rlabel_position(315)\n",
    "    \n",
    "    plt.legend(loc='lower left')\n",
    "    # plt.savefig(\"../figures/VEGA2_galaxy_map.pdf\")"
   ]
  }
 ],
 "metadata": {
  "kernelspec": {
   "display_name": ".venv",
   "language": "python",
   "name": "python3"
  },
  "language_info": {
   "codemirror_mode": {
    "name": "ipython",
    "version": 3
   },
   "file_extension": ".py",
   "mimetype": "text/x-python",
   "name": "python",
   "nbconvert_exporter": "python",
   "pygments_lexer": "ipython3",
   "version": "3.13.2"
  }
 },
 "nbformat": 4,
 "nbformat_minor": 2
}
