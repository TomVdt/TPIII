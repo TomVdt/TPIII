{
 "cells": [
  {
   "cell_type": "code",
   "execution_count": 1,
   "metadata": {},
   "outputs": [],
   "source": [
    "from __future__ import annotations\n",
    "import numpy as np\n",
    "import scipy as sc\n",
    "import matplotlib as mpl\n",
    "import matplotlib.pyplot as plt\n",
    "from matplotlib import mlab\n",
    "from astropy.io import fits\n",
    "import pandas as pd\n",
    "from dataclasses import dataclass\n",
    "\n",
    "import os\n",
    "import json\n",
    "from glob import glob\n",
    "\n",
    "from uncertainties import unumpy as unp\n",
    "from uncertainties import ufloat, umath, Variable\n",
    "\n",
    "from options import *\n",
    "from constants import *\n",
    "\n",
    "nom_vals = unp.nominal_values\n",
    "std_devs = unp.std_devs\n",
    "\n",
    "mpl.rcParams.update(rcParams)"
   ]
  },
  {
   "cell_type": "code",
   "execution_count": 2,
   "metadata": {},
   "outputs": [],
   "source": [
    "@dataclass\n",
    "class Spec:\n",
    "    freq: np.ndarray\n",
    "    data: np.ndarray\n",
    "    params: dict\n",
    "    cleaned_data: np.ndarray | None = None\n",
    "    vel: np.ndarray | None = None\n",
    "    possible_relative_velocities: np.ndarray | None = None\n",
    "    possible_radii: np.ndarray | None = None"
   ]
  },
  {
   "cell_type": "code",
   "execution_count": 3,
   "metadata": {},
   "outputs": [],
   "source": [
    "def load(dataset: str) -> Spec:\n",
    "    with open(dataset.replace(\"raw.npy\", \"params.json\"), \"r\") as file:\n",
    "        params = json.load(file)\n",
    "\n",
    "    data = np.load(dataset, allow_pickle=False)\n",
    "\n",
    "    # Newer npy\n",
    "    if len(data.shape) > 1:\n",
    "        frequencies, spectrum = data\n",
    "    # Older, less advanced\n",
    "    else:\n",
    "        spectrum = data\n",
    "        frequencies = np.load('../data/reference_frequencies.npy')\n",
    "    \n",
    "    spec = Spec(frequencies, spectrum, params)\n",
    "\n",
    "    return spec"
   ]
  },
  {
   "cell_type": "markdown",
   "metadata": {},
   "source": [
    "## Step 0: load"
   ]
  },
  {
   "cell_type": "code",
   "execution_count": 4,
   "metadata": {},
   "outputs": [],
   "source": [
    "data: list[Spec] = []\n",
    "\n",
    "files = glob(\"../data/vega2/h_*.npy\")\n",
    "files.sort(key=lambda s: ''.join(s.split('_')[2:]))\n",
    "\n",
    "noise = load(\"../data/bc_test3_2025_02_28_13_31_31_raw.npy\")\n",
    "\n",
    "for file in files:\n",
    "    spec = load(file)\n",
    "    spec.params['l'] = ufloat(file.split('h_')[1].split('_')[0], 1)\n",
    "    data.append(spec)"
   ]
  },
  {
   "cell_type": "markdown",
   "metadata": {},
   "source": [
    "## Step 1: normalise and clean up"
   ]
  },
  {
   "cell_type": "markdown",
   "metadata": {},
   "source": [
    "## Step 2: calculate relative velocity"
   ]
  },
  {
   "cell_type": "code",
   "execution_count": 5,
   "metadata": {},
   "outputs": [],
   "source": [
    "def calculate_relative_velocity(measured_frequency: float) -> float:\n",
    "    return sc.constants.c * (H21 - measured_frequency) / measured_frequency  # Checked"
   ]
  },
  {
   "cell_type": "code",
   "execution_count": 6,
   "metadata": {},
   "outputs": [],
   "source": [
    "def clean_up_average(signal: np.ndarray, w: int = 10) -> np.ndarray:\n",
    "    # return np.convolve(signal, np.ones(w), 'same') / w\n",
    "    return sc.ndimage.uniform_filter1d(signal, size=w, mode='nearest')\n",
    "\n",
    "def clean_up_median(signal: np.ndarray, w: int = 5) -> np.ndarray:\n",
    "    return sc.signal.medfilt(signal, w)"
   ]
  },
  {
   "cell_type": "code",
   "execution_count": 7,
   "metadata": {},
   "outputs": [],
   "source": [
    "for spec in data:\n",
    "    spec.cleaned_data = to_dB(clean_up_average(spec.data / noise.data, w=19))\n",
    "    spec.vel = calculate_relative_velocity(spec.freq)\n",
    "    # plt.plot(spec.freq, spec.cleaned_data)\n",
    "    # plt.axvline(H21)\n",
    "    # plt.title(f\"l = {spec.params[\"l\"]}\")\n",
    "    # plt.show()\n",
    "    # break"
   ]
  },
  {
   "cell_type": "markdown",
   "metadata": {},
   "source": [
    "## Fitting gaussians"
   ]
  },
  {
   "cell_type": "code",
   "execution_count": 8,
   "metadata": {},
   "outputs": [],
   "source": [
    "def gaussian(x, amplitude, mu, sigma):\n",
    "    return amplitude * np.exp(-(x - mu)**2 / (2 * sigma**2))\n",
    "\n",
    "def gaussians(x, offset, *params):\n",
    "    # assert len(params) % 3 == 0, \"3 params per gaussian!\"\n",
    "    return offset + sum(\n",
    "        gaussian(x, *params[i:i+3]) for i in range(0, len(params), 3)\n",
    "    )"
   ]
  },
  {
   "cell_type": "code",
   "execution_count": 9,
   "metadata": {},
   "outputs": [],
   "source": [
    "def do_fits(spectrum: Spec, number: int = 3, guesses: list[float] = None):\n",
    "    if guesses is None:\n",
    "        mini, maxi = np.min(spec.vel), np.max(spec.vel)\n",
    "        guesses = np.linspace(mini, maxi, number, endpoint=True)\n",
    "        lower_bound = [-10] + [0, mini, 0.00001] * number\n",
    "        upper_bound = [100] + [1, maxi, 30] * number\n",
    "    else:\n",
    "        assert len(guesses) == number\n",
    "        # lower_bound = [0] + [x for xs in ((0, g - 40, 0.00001) for g in guesses) for x in xs]\n",
    "        # upper_bound = [100] + [x for xs in ((1, g + 40, 30) for g in guesses) for x in xs]\n",
    "        lower_bound = [-10]\n",
    "        upper_bound = [100]\n",
    "        for g in guesses:\n",
    "            if isinstance(g, tuple):\n",
    "                mu, sigma = g\n",
    "                lower_bound.extend((0, mu - 40, 0.00001))\n",
    "                upper_bound.extend((1, mu + 40, sigma))\n",
    "            else:\n",
    "                lower_bound.extend((0, g - 40, 0.00001))\n",
    "                upper_bound.extend((1, g + 40, 30))\n",
    "\n",
    "    # p0 = [x for xs in ((np.min(spectrum.data), 0.0001, g, 10) for g in guesses) for x in xs]\n",
    "    p0 = [0]\n",
    "    for g in guesses:\n",
    "        if isinstance(g, tuple):\n",
    "            mu, sigma = g\n",
    "        else:\n",
    "            mu = g\n",
    "            sigma = 10\n",
    "        p0.extend((0.0001, mu, sigma))\n",
    "\n",
    "    popt, pcov = sc.optimize.curve_fit(\n",
    "        gaussians,\n",
    "        spectrum.vel / 1000, spectrum.cleaned_data,\n",
    "        p0 = p0,\n",
    "        bounds = (lower_bound, upper_bound),\n",
    "        check_finite = False\n",
    "    )\n",
    "    return popt"
   ]
  },
  {
   "cell_type": "code",
   "execution_count": 16,
   "metadata": {},
   "outputs": [],
   "source": [
    "all_params = [\n",
    "    (2, [-50, 0]),  # 0 103\n",
    "    (3, [(-70, 5), (-50, 15), (10, 10)]),  # 1 106\n",
    "    (3, [(-80, 15), (-30, 20), (10, 12)]),  # 2 109\n",
    "    (3, [-60, -30, 10]),  # 3 112\n",
    "    (2, [(-40, 15), (10, 10)]),  # 4 118\n",
    "    (3, [-60, -10, 20]),  # 5 121\n",
    "    (3, [-80, -60, 20]),  # 6 124\n",
    "    (3, [-80, -40, 30]),  # 7 127\n",
    "    (3, [-80, -50, 30]),  # 8 130\n",
    "    (3, [-50, -20, 30]),  # 9 133\n",
    "    (2, [(-20, 10), 20]),  # 10 136\n",
    "    (2, [(-10, 5), (50, 10)]),  # 11\n",
    "    (2, [-40, (20, 10)]),  # 12\n",
    "    (3, [-50, (0, 10), (20, 10)]),  # 13\n",
    "    (3, [-50, (0, 10), (20, 10)]),  # 14\n",
    "    (1, [(20, 15)]),  # 15\n",
    "    (1, [(30, 15)]),  # 16\n",
    "    (1, [(30, 20)]),  # 17\n",
    "    (1, [30]),  # 18\n",
    "    (3, [(-60, 10), (-40, 10), (0, 10)]),  # 19\n",
    "    (3, [(-60, 10), (-40, 10), (0, 10)]),  # 20\n",
    "    (3, [(-60, 10), (-40, 10), (0, 10)]),  # 21\n",
    "    (2, [(-70, 10), (0, 10)]),  # 22\n",
    "    (2, [(-80, 15), (0, 15)]),  # 23\n",
    "    (2, [(-70, 10), (0, 10)]),  # 24\n",
    "    (2, [-80, 0]),  # 25\n",
    "    (2, [(-80, 15), 0]),  # 26\n",
    "    (2, [(-80, 15), 0]),  # 27\n",
    "    (2, [(-80, 15), 0]),  # 28\n",
    "    (2, [(-80, 15), 0]),  # 29\n",
    "    (3, [-60, -10, 20]),  # 30\n",
    "    (3, [-60, -20, 30]),  # 31\n",
    "    (3, [-60, -10, 30]),  # 32\n",
    "    (3, [-60, -10, 10]),  # 33\n",
    "    (3, [-50, -10, 10]),  # 34\n",
    "    (3, [-50, -20, 10]),  # 35\n",
    "    (2, [(-50, 10), (-16, 8)]),  # 36\n",
    "    (2, [(-50, 10), (-16, 8)]),  # 37\n",
    "    (2, [(-70, 10), (-16, 8)]),  # 38\n",
    "    (1, [(-20, 10)]),  # 39\n",
    "    (1, [(-20, 6)]),  # 40\n",
    "]\n",
    "current = len(all_params) - 1\n",
    "all_params += [(1, None)] * (len(data) - len(all_params))\n",
    "\n",
    "cinema = False\n",
    "for j, (spec, (n, guesses)) in enumerate(zip(data, all_params)):\n",
    "    # if j != current and j != current + 1:\n",
    "    #     continue\n",
    "\n",
    "    popt = do_fits(spec, n, guesses)\n",
    "    # print(popt)\n",
    "    spec.possible_relative_velocities = popt[2::3] * 1000  # m/s\n",
    "\n",
    "    if cinema:\n",
    "        plt.plot(spec.vel / 1000, spec.cleaned_data)\n",
    "        ylims = plt.ylim()\n",
    "        plt.plot(spec.vel / 1000, gaussians(spec.vel / 1000, *popt))\n",
    "        for i in range(1, len(popt), 3):\n",
    "            plt.plot(spec.vel / 1000, popt[0] + gaussian(spec.vel / 1000, *popt[i:i+3]), ls=':', color='C1')\n",
    "        # plt.ylim(ylims)\n",
    "        plt.title(f\"{j=}, l = {spec.params[\"l\"]:.1f}\")\n",
    "        plt.show()"
   ]
  },
  {
   "cell_type": "markdown",
   "metadata": {},
   "source": [
    "Wow that worked well"
   ]
  },
  {
   "cell_type": "markdown",
   "metadata": {},
   "source": [
    "## Calculating distance"
   ]
  },
  {
   "cell_type": "code",
   "execution_count": 81,
   "metadata": {},
   "outputs": [],
   "source": [
    "def bad_distance_estimate(relative_velocity: float, galactic_longitude: float) -> float:\n",
    "    galactic_rad = deg2rad(galactic_longitude)\n",
    "    d = relative_velocity / OORT_A.n / unp.sin(2 * galactic_rad)\n",
    "    return abs(d)"
   ]
  },
  {
   "cell_type": "code",
   "execution_count": 82,
   "metadata": {},
   "outputs": [],
   "source": [
    "def salsa_radius_estimate(relative_velocity: float, galactic_longitude: float) -> float:\n",
    "    galactic_rad = deg2rad(galactic_longitude)\n",
    "\n",
    "    if galactic_longitude < 90:\n",
    "        # Using V_rmax method\n",
    "        R = R0 * unp.sin(galactic_rad) * np.ones_like(relative_velocity)\n",
    "        # Actually dont. Just use this.\n",
    "        # R = R0 * V0 * np.sin(galactic_rad) / (V0 * np.sin(galactic_longitude) + relative_velocity)\n",
    "\n",
    "    elif galactic_rad < 270:\n",
    "        # Considering V \\approx V_0 \n",
    "        R = R0 * V0 * unp.sin(galactic_rad) / (V0 * unp.sin(galactic_longitude) + relative_velocity)\n",
    "    else:\n",
    "        raise NotImplementedError\n",
    "\n",
    "    return np.abs(R)"
   ]
  },
  {
   "cell_type": "code",
   "execution_count": 83,
   "metadata": {},
   "outputs": [],
   "source": [
    "def salsa_distance_estimate(relative_velocity: float, galactic_longitude: float) -> float:\n",
    "    galactic_rad = deg2rad(galactic_longitude)\n",
    "\n",
    "    R = salsa_radius_estimate(relative_velocity, galactic_longitude)\n",
    "    a = unp.sqrt(R**2 - R0**2 * unp.sin(galactic_rad)**2)\n",
    "    b = R0 * unp.cos(galactic_rad)\n",
    "    dplus = a + b\n",
    "    dminus = b - a\n",
    "\n",
    "    # Only return + solution for now\n",
    "    return dplus"
   ]
  },
  {
   "cell_type": "code",
   "execution_count": 84,
   "metadata": {},
   "outputs": [],
   "source": [
    "for spec in data:\n",
    "    spec.possible_radii = salsa_radius_estimate(spec.possible_relative_velocities, spec.params['l'].n)"
   ]
  },
  {
   "cell_type": "markdown",
   "metadata": {},
   "source": [
    "## Velocity curve?????"
   ]
  },
  {
   "cell_type": "code",
   "execution_count": 85,
   "metadata": {},
   "outputs": [],
   "source": [
    "def velocity_vector_const_method(relative_velocity: float, galactic_longitude: float) -> float:\n",
    "    galactic_rad = deg2rad(galactic_longitude)\n",
    "\n",
    "    d = bad_distance_estimate(relative_velocity, galactic_longitude)\n",
    "    R = (R0**2 + d**2 - 2 * R0 * d * unp.cos(galactic_rad)) ** (0.5)\n",
    "    # R = salsa_radius_estimate(relative_velocity, galactic_longitude)\n",
    "\n",
    "    V_hydrogen_cloud = R / R0 * (relative_velocity / unp.sin(galactic_rad) + V0)\n",
    "    return V_hydrogen_cloud, R"
   ]
  },
  {
   "cell_type": "code",
   "execution_count": 86,
   "metadata": {},
   "outputs": [],
   "source": [
    "def velocity_vector_oort_method(relative_velocity: float, galactic_longitude: float) -> float:\n",
    "    galactic_rad = deg2rad(galactic_longitude)\n",
    "\n",
    "    d = bad_distance_estimate(relative_velocity, galactic_longitude)\n",
    "    R = (R0**2 + d**2 - 2 * R0 * d * unp.cos(galactic_rad)) ** (0.5)\n",
    "\n",
    "    V_hydrogen_cloud = unp.sqrt(\n",
    "        (relative_velocity + V0 * unp.sin(galactic_rad)) ** 2\n",
    "        + (d * (OORT_B + OORT_A * unp.cos(galactic_rad) - V0 * unp.cos(galactic_rad))) ** 2\n",
    "    )\n",
    "    return V_hydrogen_cloud, R"
   ]
  },
  {
   "cell_type": "code",
   "execution_count": 87,
   "metadata": {},
   "outputs": [],
   "source": [
    "def tangent_method(relative_velocity: float, galactic_longitude: float) -> float:\n",
    "    galactic_rad = deg2rad(galactic_longitude)\n",
    "    V_hydrogen = relative_velocity + V0 * unp.sin(galactic_rad)\n",
    "    return V_hydrogen"
   ]
  },
  {
   "cell_type": "code",
   "execution_count": 92,
   "metadata": {},
   "outputs": [],
   "source": [
    "cloud_velocities_t = []\n",
    "cloud_velocities_v = []\n",
    "cloud_orbit_radii_t = []\n",
    "cloud_orbit_radii_v = []\n",
    "longitudes_t = []\n",
    "longitudes_v = []\n",
    "\n",
    "\n",
    "for spec in data:\n",
    "    l = spec.params['l']\n",
    "    if l < 90:\n",
    "        for Vr in spec.possible_relative_velocities:\n",
    "            V = tangent_method(Vr, l)\n",
    "            R = salsa_radius_estimate(Vr, l)\n",
    "            cloud_velocities_t.append(V / 1000)\n",
    "            cloud_orbit_radii_t.append(R)\n",
    "            longitudes_t.append(l)\n",
    "            # print(V, R)\n",
    "        # max_relative_velocity_idx = np.argmax(np.abs(spec.possible_relative_velocities))\n",
    "        # max_relative_velocity_idx = np.argsort(np.abs(spec.possible_relative_velocities), axis=0)[-2]\n",
    "        # max_rel_vel = spec.possible_relative_velocities[max_relative_velocity_idx]\n",
    "        # cloud_velocities_t.append(tangent_method(max_rel_vel, l) / 1000)\n",
    "        # cloud_orbit_radii_t.append(salsa_radius_estimate(max_rel_vel, l))\n",
    "        # longitudes_t.append(l)\n",
    "    elif l < 270:\n",
    "        # print(spec.possible_relative_velocities)\n",
    "        for Vr in spec.possible_relative_velocities:\n",
    "            # V, R = velocity_vector_oort_method(Vr, l)\n",
    "            V, R = velocity_vector_const_method(Vr, l)\n",
    "            cloud_velocities_v.append(V / 1000)\n",
    "            cloud_orbit_radii_v.append(R)\n",
    "            longitudes_v.append(l)\n",
    "\n",
    "cloud_orbit_radii_t = np.array(cloud_orbit_radii_t)\n",
    "cloud_orbit_radii_v = np.array(cloud_orbit_radii_v)\n",
    "cloud_velocities_t = np.array(cloud_velocities_t)\n",
    "cloud_velocities_v = np.array(cloud_velocities_v)"
   ]
  },
  {
   "cell_type": "code",
   "execution_count": 93,
   "metadata": {},
   "outputs": [
    {
     "data": {
      "image/png": "[encoded data removed]",
      "text/plain": [
       "<Figure size 513.5x384.8 with 2 Axes>"
      ]
     },
     "metadata": {},
     "output_type": "display_data"
    }
   ],
   "source": [
    "plt.scatter(nom_vals(cloud_orbit_radii_t), nom_vals(cloud_velocities_t), c=nom_vals(longitudes_t))\n",
    "plt.scatter(nom_vals(cloud_orbit_radii_v), nom_vals(cloud_velocities_v), c=nom_vals(longitudes_v))\n",
    "plt.xlabel(\"R [kpc]\")\n",
    "plt.ylabel(\"V [km/s]\")\n",
    "\n",
    "# plt.xlim(0, 8.5)\n",
    "# plt.ylim(0, 400)\n",
    "plt.colorbar()\n",
    "plt.savefig(\"../figures/SALSA_velocity_curve.pdf\")"
   ]
  },
  {
   "cell_type": "code",
   "execution_count": null,
   "metadata": {},
   "outputs": [],
   "source": [
    "vrs = []\n",
    "rs = []\n",
    "for spec in data:\n",
    "    vrs.extend(spec.possible_relative_velocities)\n",
    "    rs.extend(spec.possible_radii)\n",
    "\n",
    "plt.scatter(rs, vrs)"
   ]
  },
  {
   "cell_type": "markdown",
   "metadata": {},
   "source": [
    "## What are we looking at???"
   ]
  },
  {
   "cell_type": "code",
   "execution_count": null,
   "metadata": {},
   "outputs": [],
   "source": [
    "distances = []\n",
    "angles = []\n",
    "for spec in data:\n",
    "    ds = salsa_distance_estimate(spec.possible_relative_velocities, spec.params['l'])\n",
    "    distances.extend(ds)\n",
    "    angles.extend((deg2rad(spec.params['l']),) * len(ds))\n",
    "\n",
    "\n",
    "with mpl.rc_context():\n",
    "    mpl.rcParams['savefig.bbox'] = 'standard'\n",
    "    mpl.rcParams[\"figure.figsize\"] = (8*INCH_PER_CM, 7*INCH_PER_CM)\n",
    "    mpl.rcParams[\"figure.subplot.left\"]   = 0.05\n",
    "    mpl.rcParams['figure.subplot.right']  = 0.99\n",
    "    mpl.rcParams['figure.subplot.top']    = 0.97\n",
    "    mpl.rcParams['figure.subplot.bottom'] = 0.12\n",
    "\n",
    "    ax = plt.subplot(projection=\"polar\")\n",
    "\n",
    "    # plt.scatter(longitudes_array, nom_vals(bad_distances))\n",
    "    plt.scatter(angles, distances)\n",
    "    # plt.scatter(longitudes_array, less_bad_distances_minus)\n",
    "    plt.scatter(0, R0, label=\"Center of galaxy\", marker='d')\n",
    "\n",
    "    circle = plt.Circle((R0, 0), R0, transform=ax.transData._b, facecolor=None, fill=False, ls='--', color=\"#a0a0a0\", zorder=0, lw=0.75)\n",
    "    ax.add_patch(circle)\n",
    "\n",
    "    plt.yticks([4,8,12, 16])\n",
    "    ax.set_rlabel_position(315)\n",
    "    plt.ylim(0, 17)  # outliers begone\n",
    "\n",
    "    plt.legend(loc='lower left')\n",
    "    plt.savefig(\"../figures/SALSA_galaxy_map.pdf\")\n",
    "\n"
   ]
  }
 ],
 "metadata": {
  "kernelspec": {
   "display_name": ".venv",
   "language": "python",
   "name": "python3"
  },
  "language_info": {
   "codemirror_mode": {
    "name": "ipython",
    "version": 3
   },
   "file_extension": ".py",
   "mimetype": "text/x-python",
   "name": "python",
   "nbconvert_exporter": "python",
   "pygments_lexer": "ipython3",
   "version": "3.13.2"
  }
 },
 "nbformat": 4,
 "nbformat_minor": 2
}
