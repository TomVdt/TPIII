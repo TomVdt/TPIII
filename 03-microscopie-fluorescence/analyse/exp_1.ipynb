{
 "cells": [
  {
   "cell_type": "code",
   "execution_count": 40,
   "metadata": {},
   "outputs": [],
   "source": [
    "import numpy as np\n",
    "import scipy as sc\n",
    "import matplotlib as mpl\n",
    "import matplotlib.pyplot as plt\n",
    "from uncertainties import unumpy as unp\n",
    "from uncertainties import ufloat, umath\n",
    "from glob import glob\n",
    "from PIL import Image\n",
    "from options import *\n",
    "from constants import *\n",
    "\n",
    "nom_vals = unp.nominal_values\n",
    "std_devs = unp.std_devs\n",
    "\n",
    "mpl.rcParams.update(rcParams)"
   ]
  },
  {
   "cell_type": "code",
   "execution_count": 41,
   "metadata": {},
   "outputs": [],
   "source": [
    "wavelengths = [647, 561, 488]  # nm\n",
    "NA = 1.25"
   ]
  },
  {
   "cell_type": "code",
   "execution_count": 42,
   "metadata": {},
   "outputs": [],
   "source": [
    "def get_mu_sigma(filename: str) -> tuple[float, float]:\n",
    "    with open(filename, 'r') as f:\n",
    "        contents = f.readlines()\n",
    "    \n",
    "    mu = float(contents[-2].split(' = ')[-1][:-1])\n",
    "    sigma = float(contents[-1].split(' = ')[-1][:-1])\n",
    "    return mu, sigma"
   ]
  },
  {
   "cell_type": "code",
   "execution_count": 43,
   "metadata": {},
   "outputs": [
    {
     "name": "stdout",
     "output_type": "stream",
     "text": [
      "5.095724 1.95372 108.696\n",
      "3.6692 1.566916 94.248\n",
      "4.0801289999999995 1.583306 81.984\n"
     ]
    }
   ],
   "source": [
    "for i, wavelen in enumerate(wavelengths):\n",
    "    mus = np.zeros(10)\n",
    "    sigmas = np.zeros(10)\n",
    "    for j, log in enumerate(glob(f'../data/Acquisition-{i+1}/analysis/Log*.txt')):\n",
    "        mu, sigma = get_mu_sigma(log)\n",
    "        mus[j] = mu\n",
    "        sigmas[j] = sigma\n",
    "    print(np.mean(mus), np.mean(sigmas), 0.21 * wavelen / NA)\n"
   ]
  },
  {
   "cell_type": "code",
   "execution_count": 28,
   "metadata": {},
   "outputs": [
    {
     "data": {
      "text/plain": [
       "(array([[0., 0., 0., ..., 0., 0., 0.],\n",
       "        [0., 0., 0., ..., 0., 0., 0.],\n",
       "        [0., 0., 0., ..., 0., 0., 0.],\n",
       "        ...,\n",
       "        [0., 0., 0., ..., 0., 0., 0.],\n",
       "        [0., 0., 0., ..., 0., 0., 0.],\n",
       "        [0., 0., 0., ..., 0., 0., 0.]], dtype=float32),\n",
       " (3369, 3369))"
      ]
     },
     "execution_count": 28,
     "metadata": {},
     "output_type": "execute_result"
    }
   ],
   "source": [
    "im = Image.open('../data/Acquisition-1/image_Nano-2D(15nmPix).tif')\n",
    "imarray = np.array(im)\n",
    "imarray, im.size"
   ]
  },
  {
   "cell_type": "code",
   "execution_count": 44,
   "metadata": {},
   "outputs": [
    {
     "data": {
      "text/plain": [
       "<matplotlib.image.AxesImage at 0x7f87286e0770>"
      ]
     },
     "execution_count": 44,
     "metadata": {},
     "output_type": "execute_result"
    },
    {
     "data": {
      "image/png": "[encoded data removed]",
      "text/plain": [
       "<Figure size 513.5x384.8 with 1 Axes>"
      ]
     },
     "metadata": {},
     "output_type": "display_data"
    }
   ],
   "source": [
    "a = plt.imread('../data/Acquisition-1/image_Nano-2D(15nmPix).tif')\n",
    "plt.imshow(a[..., 0])"
   ]
  },
  {
   "cell_type": "code",
   "execution_count": null,
   "metadata": {},
   "outputs": [],
   "source": []
  }
 ],
 "metadata": {
  "kernelspec": {
   "display_name": ".venv",
   "language": "python",
   "name": "python3"
  },
  "language_info": {
   "codemirror_mode": {
    "name": "ipython",
    "version": 3
   },
   "file_extension": ".py",
   "mimetype": "text/x-python",
   "name": "python",
   "nbconvert_exporter": "python",
   "pygments_lexer": "ipython3",
   "version": "3.12.7"
  }
 },
 "nbformat": 4,
 "nbformat_minor": 2
}
