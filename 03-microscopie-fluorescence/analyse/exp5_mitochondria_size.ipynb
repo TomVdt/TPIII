{
 "cells": [
  {
   "cell_type": "code",
   "execution_count": 2,
   "metadata": {},
   "outputs": [],
   "source": [
    "import numpy as np\n",
    "import scipy as sc\n",
    "import matplotlib as mpl\n",
    "import matplotlib.pyplot as plt\n",
    "from uncertainties import unumpy as unp\n",
    "from uncertainties import ufloat, umath\n",
    "from glob import glob\n",
    "import tifffile\n",
    "from options import *\n",
    "from constants import *\n",
    "\n",
    "nom_vals = unp.nominal_values\n",
    "std_devs = unp.std_devs\n",
    "\n",
    "mpl.rcParams.update(rcParams)\n"
   ]
  },
  {
   "cell_type": "code",
   "execution_count": 3,
   "metadata": {},
   "outputs": [
    {
     "name": "stdout",
     "output_type": "stream",
     "text": [
      "1.95\n"
     ]
    }
   ],
   "source": [
    "sizes = np.loadtxt('../data/mitochondria_sizes.csv', skiprows=1)\n",
    "sizes_µm = sizes * 15 / 1000  # µm\n",
    "print(np.max(sizes_μm))"
   ]
  },
  {
   "cell_type": "code",
   "execution_count": 4,
   "metadata": {},
   "outputs": [
    {
     "name": "stdout",
     "output_type": "stream",
     "text": [
      "1.1383333333333334\n"
     ]
    }
   ],
   "source": [
    "print(np.mean(sizes_μm))"
   ]
  },
  {
   "cell_type": "code",
   "execution_count": 5,
   "metadata": {},
   "outputs": [
    {
     "data": {
      "text/plain": [
       "Text(0, 0.5, 'Count')"
      ]
     },
     "execution_count": 5,
     "metadata": {},
     "output_type": "execute_result"
    },
    {
     "data": {
      "image/png": "[encoded data removed]",
      "text/plain": [
       "<Figure size 513.5x384.8 with 1 Axes>"
      ]
     },
     "metadata": {},
     "output_type": "display_data"
    }
   ],
   "source": [
    "plt.hist(sizes_µm, bins=15)\n",
    "plt.xlabel('Width [µm]')\n",
    "plt.ylabel('Count')"
   ]
  },
  {
   "cell_type": "code",
   "execution_count": 40,
   "metadata": {},
   "outputs": [],
   "source": [
    "w, h = np.loadtxt('../data/mitochondria_cross_sections.csv', delimiter=',', skiprows=1, unpack=True)\n",
    "w = unp.uarray(w, 7)\n",
    "h = unp.uarray(h, 7)\n",
    "cross_sections_µm = w * 15 / 1000 * h * 15 / 1000  # µm²"
   ]
  },
  {
   "cell_type": "code",
   "execution_count": 41,
   "metadata": {},
   "outputs": [
    {
     "name": "stdout",
     "output_type": "stream",
     "text": [
      "2.21+/-0.06 0.78+/-0.13 4.27+/-0.31\n"
     ]
    }
   ],
   "source": [
    "print(np.mean(cross_sections_μm), np.min(cross_sections_μm), np.max(cross_sections_μm))"
   ]
  },
  {
   "cell_type": "code",
   "execution_count": 42,
   "metadata": {},
   "outputs": [
    {
     "name": "stdout",
     "output_type": "stream",
     "text": [
      "\t\t$\\left(0.8 \\pm 0.1\\right)$ & $\\left(1.0 \\pm 0.1\\right)$ & $\\left(1.2 \\pm 0.2\\right)$ & $\\left(1.5 \\pm 0.2\\right)$ & $\\left(1.5 \\pm 0.2\\right)$ & $\\left(1.6 \\pm 0.2\\right)$ \\\\\n",
      "\t\t$\\left(1.6 \\pm 0.2\\right)$ & $\\left(1.7 \\pm 0.2\\right)$ & $\\left(1.9 \\pm 0.2\\right)$ & $\\left(2.2 \\pm 0.2\\right)$ & $\\left(2.2 \\pm 0.2\\right)$ & $\\left(2.3 \\pm 0.2\\right)$ \\\\\n",
      "\t\t$\\left(2.4 \\pm 0.3\\right)$ & $\\left(3.1 \\pm 0.3\\right)$ & $\\left(3.2 \\pm 0.3\\right)$ & $\\left(3.7 \\pm 0.4\\right)$ & $\\left(3.7 \\pm 0.3\\right)$ & $\\left(4.3 \\pm 0.3\\right)$\n"
     ]
    }
   ],
   "source": [
    "sort = np.sort(cross_sections_μm)\n",
    "stringified = list(map(lambda c: f'{c:.1upL}', sort))\n",
    "print('\\t\\t$'\n",
    "      + '$ & $'.join(stringified[:len(stringified)//3])\n",
    "      + '$ \\\\\\\\\\n\\t\\t$'\n",
    "      + '$ & $'.join(stringified[len(stringified)//3:2*(len(stringified)//3)])\n",
    "      + '$ \\\\\\\\\\n\\t\\t$'\n",
    "      + '$ & $'.join(stringified[2*(len(stringified)//3):])\n",
    "      + '$')"
   ]
  },
  {
   "cell_type": "code",
   "execution_count": 12,
   "metadata": {},
   "outputs": [
    {
     "data": {
      "text/plain": [
       "Text(0, 0.5, 'Count')"
      ]
     },
     "execution_count": 12,
     "metadata": {},
     "output_type": "execute_result"
    },
    {
     "data": {
      "image/png": "[encoded data removed]",
      "text/plain": [
       "<Figure size 513.5x384.8 with 1 Axes>"
      ]
     },
     "metadata": {},
     "output_type": "display_data"
    }
   ],
   "source": [
    "plt.hist(cross_sections_μm, bins=15)\n",
    "plt.xlabel('Width [µm]')\n",
    "plt.ylabel('Count')"
   ]
  }
 ],
 "metadata": {
  "kernelspec": {
   "display_name": ".venv",
   "language": "python",
   "name": "python3"
  },
  "language_info": {
   "codemirror_mode": {
    "name": "ipython",
    "version": 3
   },
   "file_extension": ".py",
   "mimetype": "text/x-python",
   "name": "python",
   "nbconvert_exporter": "python",
   "pygments_lexer": "ipython3",
   "version": "3.13.0"
  }
 },
 "nbformat": 4,
 "nbformat_minor": 2
}
