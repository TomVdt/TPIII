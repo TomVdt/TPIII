{
 "cells": [
  {
   "cell_type": "code",
   "execution_count": 13,
   "metadata": {},
   "outputs": [],
   "source": [
    "import numpy as np\n",
    "import scipy as sc\n",
    "import math\n",
    "import matplotlib as mpl\n",
    "import matplotlib.pyplot as plt\n",
    "from uncertainties import unumpy as unp\n",
    "from uncertainties import ufloat, umath\n",
    "from glob import glob\n",
    "\n",
    "from options import *\n",
    "from constants import *\n",
    "\n",
    "nom_vals = unp.nominal_values\n",
    "std_devs = unp.std_devs\n",
    "\n",
    "mpl.rcParams.update(rcParams)"
   ]
  },
  {
   "cell_type": "code",
   "execution_count": 14,
   "metadata": {},
   "outputs": [],
   "source": [
    "headers = []\n",
    "datas = []\n",
    "for run in glob('../data/position_grill/*'):\n",
    "    header = np.loadtxt(run, delimiter='\\t', skiprows=1, max_rows=1, unpack=True)\n",
    "    p, d, G, A, f, I_chauffage, V_polarisation, *V_grill = header\n",
    "    headers.append(header)\n",
    "\n",
    "    data = np.loadtxt(run, delimiter='\\t', skiprows=2, unpack=True)\n",
    "    V_in, V_out, *_ = data\n",
    "    I_out = V_out / (10 * G)\n",
    "\n",
    "    values, counts = np.unique_counts(V_in)\n",
    "    V_in_combined = np.zeros_like(values)\n",
    "    I_out_combined = np.zeros_like(values)\n",
    "    I_out_std_combined = np.zeros_like(values)\n",
    "    for i, (value, count) in enumerate(zip(values, counts)):\n",
    "        idx = np.nonzero(V_in == value)\n",
    "        V_in_combined[i] = value\n",
    "        I_out_combined[i] = np.mean(I_out[idx])\n",
    "        I_out_std_combined[i] = np.std(I_out[idx])\n",
    "\n",
    "    datas.append((V_in_combined, I_out_combined, I_out_std_combined))"
   ]
  },
  {
   "cell_type": "markdown",
   "metadata": {},
   "source": [
    "## Find V_{sp}, ln(I_{es})"
   ]
  },
  {
   "cell_type": "code",
   "execution_count": 15,
   "metadata": {},
   "outputs": [],
   "source": [
    "def set_all_between(arr):\n",
    "    idx = np.nonzero(arr)[0]\n",
    "    idx_start, idx_stop = idx[0], idx[-1]\n",
    "    arr[idx_start:idx_stop+1] = True\n",
    "    return arr"
   ]
  },
  {
   "cell_type": "code",
   "execution_count": 41,
   "metadata": {},
   "outputs": [],
   "source": [
    "p = plt.rcParams\n",
    "p[\"scatter.marker\"] = '.'\n",
    "p[\"lines.markersize\"] = 1\n",
    "p[\"errorbar.capsize\"] = 2\n",
    "\n",
    "p[\"figure.figsize\"] = (6.5*CM_PER_INCH, 6.5*CM_PER_INCH)\n",
    "p['savefig.bbox'] = 'standard'\n",
    "p[\"figure.subplot.left\"]   = 0.2\n",
    "p['figure.subplot.right']  = 0.97\n",
    "p['figure.subplot.top']    = 0.85\n",
    "p['figure.subplot.bottom'] = 0.28"
   ]
  },
  {
   "cell_type": "code",
   "execution_count": 54,
   "metadata": {},
   "outputs": [
    {
     "data": {
      "image/png": "[encoded data removed]",
      "text/plain": [
       "<Figure size 332.677x332.677 with 1 Axes>"
      ]
     },
     "metadata": {},
     "output_type": "display_data"
    },
    {
     "data": {
      "text/plain": [
       "<Figure size 332.677x332.677 with 0 Axes>"
      ]
     },
     "metadata": {},
     "output_type": "display_data"
    }
   ],
   "source": [
    "T_e = unp.uarray(np.zeros(len(datas)), np.zeros(len(datas)))\n",
    "T = unp.uarray(np.zeros(len(datas)), np.zeros(len(datas)))\n",
    "n_e = unp.uarray(np.zeros(len(datas)), np.zeros(len(datas)))\n",
    "\n",
    "B_fit_start = np.ones(len(datas))*1.5\n",
    "B_fit_stop = np.ones(len(datas))*3\n",
    "C_fit_start = np.ones(len(datas))*6\n",
    "\n",
    "\n",
    "for i, (header, data) in enumerate(zip(headers, datas)):\n",
    "    if (i == 11) :\n",
    "        p, d, G, A, f, I_chauffage, V_polarisation, *V_grill = header\n",
    "        V_in, I_out, I_out_std = data\n",
    "\n",
    "        # print(f\"Fit number {i}\")\n",
    "\n",
    "        dydx = np.gradient(np.nan_to_num(np.log(I_out), nan=1), V_in)\n",
    "        threshold = 7e-2\n",
    "        idx = np.abs(np.diff(dydx, prepend=0)) < threshold\n",
    "        idx = np.logical_and(idx, V_in > B_fit_start[i])\n",
    "        idx_B = set_all_between(np.logical_and(idx, V_in < B_fit_stop[i]))\n",
    "        idx_C = set_all_between(np.logical_and(idx, V_in > C_fit_start[i]))\n",
    "        # idx_B = np.logical_and(0 < V_in, V_in < 3)\n",
    "        # idx_C = V_in > 6\n",
    "\n",
    "        coefsB, covB = np.polyfit(V_in[idx_B], np.log(I_out[idx_B]), 1, cov=True)\n",
    "        coefs_errB = unp.uarray(coefsB, np.sqrt(np.diag(covB)))\n",
    "        fitfuncB = np.poly1d(coefsB)\n",
    "        coefsC, covC = np.polyfit(V_in[idx_C], np.log(I_out[idx_C]), 1, cov=True)\n",
    "        coefs_errC = unp.uarray(coefsC, np.sqrt(np.diag(covC)))\n",
    "        fitfuncC = np.poly1d(coefsC)\n",
    "\n",
    "        # Plot\n",
    "        plt.ylim(-10, -4)\n",
    "        plt.autoscale(axis='x', tight=True)\n",
    "\n",
    "        x = np.linspace(V_in[0], V_in[-1])\n",
    "        plt.scatter(V_in, np.log(I_out), c='k', label=f\"$I_c = {header[5]}\")\n",
    "        plt.plot(x, fitfuncB(x))\n",
    "        plt.plot(x, fitfuncC(x))\n",
    "\n",
    "        V_sp = -(coefs_errC[1] - coefs_errB[1]) / (coefs_errC[0] - coefs_errB[0])\n",
    "        I_sp = umath.exp(coefs_errB[0] * V_sp + coefs_errB[1])\n",
    "        # print(V_sp, I_sp)\n",
    "        plt.vlines(x=V_sp.n, ymin=plt.ylim()[0],ymax=umath.log(I_sp).n, \n",
    "                   linestyles='--', colors='k', lw=0.75)\n",
    "        plt.hlines(y=umath.log(I_sp).n, xmin=plt.xlim()[0], xmax=V_sp.n,\n",
    "                   linestyles='--', colors='k', lw=0.75)\n",
    "        plt.text(0,-6, \"text\")\n",
    "        T_e_run = 1/coefs_errB[0] * ELEMENTARY_CHARGE / BOLTZMANN_CONSTANT_JOULE\n",
    "        T_e_run += ufloat(0, 0.05e4)\n",
    "        T_run = T_e_run * BOLTZMANN_CONSTANT_ELECTRONVOLT\n",
    "        # TODO: verifier unitées\n",
    "        n_e_run = 4 / (ELEMENTARY_CHARGE * SURFACE_PROBE) * unp.sqrt(2 * np.pi * ELECTRON_MASS / (BOLTZMANN_CONSTANT_JOULE * T_e_run)) * I_sp\n",
    "        # print(f\"{T_e_run = :.1ueP}, {T_run = :.1ueP}, {n_e_run = :.1ueP}\")\n",
    "        T_e[i] = T_e_run\n",
    "        T[i] = T_run\n",
    "        n_e[i] = n_e_run\n",
    "\n",
    "        plt.xlabel(\"$V_p$ [V]\")\n",
    "        plt.ylabel(r\"$\\ln I_p$ [$\\ln$A]\")\n",
    "\n",
    "        plt.show()\n",
    "        plt.savefig(\"../figures/IV_fit.pdf\")\n",
    "\n",
    "    # plt.legend()"
   ]
  }
 ],
 "metadata": {
  "kernelspec": {
   "display_name": "Python 3",
   "language": "python",
   "name": "python3"
  },
  "language_info": {
   "codemirror_mode": {
    "name": "ipython",
    "version": 3
   },
   "file_extension": ".py",
   "mimetype": "text/x-python",
   "name": "python",
   "nbconvert_exporter": "python",
   "pygments_lexer": "ipython3",
   "version": "3.12.7"
  }
 },
 "nbformat": 4,
 "nbformat_minor": 2
}
