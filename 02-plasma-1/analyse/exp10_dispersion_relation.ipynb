{
 "cells": [
  {
   "cell_type": "code",
   "execution_count": 1,
   "metadata": {},
   "outputs": [],
   "source": [
    "import numpy as np\n",
    "import scipy as sc\n",
    "import math\n",
    "import matplotlib as mpl\n",
    "import matplotlib.pyplot as plt\n",
    "from uncertainties import unumpy as unp\n",
    "from uncertainties import ufloat, umath\n",
    "from glob import glob\n",
    "from itertools import chain\n",
    "\n",
    "\n",
    "from options import *\n",
    "from constants import *\n",
    "\n",
    "nom_vals = unp.nominal_values\n",
    "std_devs = unp.std_devs\n",
    "\n",
    "mpl.rcParams.update(rcParams)"
   ]
  },
  {
   "cell_type": "code",
   "execution_count": 2,
   "metadata": {},
   "outputs": [],
   "source": [
    "p = plt.rcParams\n",
    "p[\"scatter.marker\"] = '.'\n",
    "p[\"lines.markersize\"] = 1"
   ]
  },
  {
   "cell_type": "code",
   "execution_count": 3,
   "metadata": {},
   "outputs": [
    {
     "name": "stdout",
     "output_type": "stream",
     "text": [
      "[640.0000000000006+/-56.568542494923804, 1600.0000000000014+/-141.4213562373095, 2239.9999999999977+/-226.27416997969522, 2599.9999999999945+/-282.842712474619]\n"
     ]
    },
    {
     "data": {
      "text/plain": [
       "[0.16959593374703077+/-0.02998830197592323,\n",
       " 1.0599745859189424+/-0.1874268873495202,\n",
       " 2.077550188401119+/-0.41981098659220034,\n",
       " 2.7989953909421907+/-0.609084281138181]"
      ]
     },
     "execution_count": 3,
     "metadata": {},
     "output_type": "execute_result"
    }
   ],
   "source": [
    "# pressure 6.9e-3\n",
    "# max, zero\n",
    "ds = [\n",
    "    [ufloat(14.9, 0.05), ufloat(14.1, 0.05)],\n",
    "    [ufloat(14.8, 0.05), ufloat(14.0, 0.05)],\n",
    "    [ufloat(14.7, 0.05), ufloat(14.0, 0.05)],\n",
    "    [ufloat(14.7, 0.05), ufloat(14.05, 0.05)]\n",
    "    # new dataz\n",
    "    # [ufloat(13.0, 0.05), ufloat(12.35, 0.05)]\n",
    "    # [ufloat(12.8, 0.05), ufloat(11.8, 0.05)]\n",
    "    # [ufloat(14.7, 0.05), ufloat(14.05, 0.05)]\n",
    "    # [ufloat(14.7, 0.05), ufloat(14.05, 0.05)]\n",
    "    # [ufloat(14.7, 0.05), ufloat(14.05, 0.05)]\n",
    "]  # cm, cm\n",
    "frequencies = [\n",
    "    20_000,\n",
    "    50_000,\n",
    "    80_000,\n",
    "    100_000\n",
    "    # new dataz\n",
    "    # 20_000,\n",
    "\n",
    "]  # Hz\n",
    "\n",
    "lambdas = [abs(d1 - d2)*4/100 for d1, d2 in ds]  # m\n",
    "k = [2 * np.pi / lam for lam in lambdas]  # /m\n",
    "w = [2 * np.pi * f for f in frequencies]  # ~Hz\n",
    "phase_vels = [*map(lambda a: a[0]*a[1], zip(lambdas, frequencies))]  # m/s\n",
    "print(phase_vels)\n",
    "# The phase velocity changes ok... BUT WHY WOULD A WAVE INFLUENCE THE TEMPERATURE OF THE PLASMA???\n",
    "\n",
    "M = ufloat(39.95, 0.16) * sc.constants.atomic_mass\n",
    "# Z = 18  # ???\n",
    "Z = 1  # ???\n",
    "gamma_e = 1\n",
    "# kbT_e = [*map(lambda v: v**2 * M / (gamma_e * Z * BOLTZMANN_CONSTANT_JOULE) * BOLTZMANN_CONSTANT_ELECTRONVOLT, phase_vels)]  # eV\n",
    "kbT_e = [*map(lambda v: v**2 * M / (gamma_e * Z * ELEMENTARY_CHARGE), phase_vels)]  # eV\n",
    "kbT_e"
   ]
  },
  {
   "cell_type": "code",
   "execution_count": 11,
   "metadata": {},
   "outputs": [
    {
     "data": {
      "image/png": "[encoded data removed]",
      "text/plain": [
       "<Figure size 294.291x230.315 with 1 Axes>"
      ]
     },
     "metadata": {},
     "output_type": "display_data"
    }
   ],
   "source": [
    "plt.errorbar(nom_vals(k), nom_vals(w), xerr=std_devs(k), marker='x', markersize=5, ls='')\n",
    "plt.xlabel(r'$k$ [1/m]')\n",
    "plt.ylabel(r'$\\omega$ [Hz]')\n",
    "plt.savefig('../figures/dispersion_relation.pdf')"
   ]
  },
  {
   "cell_type": "code",
   "execution_count": 12,
   "metadata": {},
   "outputs": [
    {
     "data": {
      "image/png": "[encoded data removed]",
      "text/plain": [
       "<Figure size 294.291x230.315 with 1 Axes>"
      ]
     },
     "metadata": {},
     "output_type": "display_data"
    }
   ],
   "source": [
    "plt.errorbar(list(map(lambda f: f/1000, frequencies)), nom_vals(kbT_e), yerr=std_devs(kbT_e), marker='x', markersize=5, ls='')\n",
    "plt.xlabel(r'$\\nu$ [kHz]')\n",
    "plt.ylabel(r'$k_B T_e$ [eV]')\n",
    "plt.savefig('../figures/ion_acoustic_temperature.pdf')"
   ]
  },
  {
   "cell_type": "markdown",
   "metadata": {},
   "source": [
    "## Compare with other T_e measurement method"
   ]
  },
  {
   "cell_type": "code",
   "execution_count": 6,
   "metadata": {},
   "outputs": [],
   "source": [
    "def process(filename, headers, datas):\n",
    "    header = np.loadtxt(filename, delimiter='\\t', skiprows=1, max_rows=1, unpack=True)\n",
    "    p, d, G, A, f, I_chauffage, V_polarisation, V_grill = header\n",
    "    headers.append(header)\n",
    "\n",
    "    data = np.loadtxt(filename, delimiter='\\t', skiprows=2, unpack=True)\n",
    "    V_in, V_out, *_ = data\n",
    "    I_out = V_out / (10 * G)\n",
    "\n",
    "    values, counts = np.unique_counts(V_in)\n",
    "    V_in_combined = np.zeros_like(values)\n",
    "    I_out_combined = np.zeros_like(values)\n",
    "    I_out_std_combined = np.zeros_like(values)\n",
    "    for i, (value, count) in enumerate(zip(values, counts)):\n",
    "        idx = np.nonzero(V_in == value)\n",
    "        V_in_combined[i] = value\n",
    "        I_out_combined[i] = np.mean(I_out[idx])\n",
    "        I_out_std_combined[i] = np.std(I_out[idx])\n",
    "\n",
    "    datas.append(np.array((V_in_combined, I_out_combined, I_out_std_combined)))"
   ]
  },
  {
   "cell_type": "code",
   "execution_count": 7,
   "metadata": {},
   "outputs": [],
   "source": [
    "all_headers = [[]]\n",
    "all_datas = [[]]\n",
    "for run in [\"../data/ion_wave/run212.tsv\"]:\n",
    "    process(run, all_headers[0], all_datas[0])\n",
    "\n",
    "# sort all datasets by specific key\n",
    "for i, (headers, datas) in enumerate(zip(all_headers, all_datas)):\n",
    "    all_headers[i], all_datas[i] = zip(*sorted(zip(headers, datas), key=lambda c: c[0][-1]))"
   ]
  },
  {
   "cell_type": "markdown",
   "metadata": {},
   "source": [
    "## Find V_{sp}, ln(I_{es})"
   ]
  },
  {
   "cell_type": "code",
   "execution_count": 8,
   "metadata": {},
   "outputs": [],
   "source": [
    "def set_all_between(arr):\n",
    "    idx = np.nonzero(arr)[0]\n",
    "    idx_start, idx_stop = idx[0], idx[-1]\n",
    "    arr[idx_start:idx_stop+1] = True\n",
    "    return arr"
   ]
  },
  {
   "cell_type": "code",
   "execution_count": 9,
   "metadata": {},
   "outputs": [
    {
     "name": "stdout",
     "output_type": "stream",
     "text": [
      "2.73+/-0.09 0.000977+/-0.000010\n",
      "T_e_run = (2.41±0.06)×10⁴, T_run = (2.08±0.05)×10⁰, n_e_run = (8.03±0.09)×10¹⁵\n"
     ]
    },
    {
     "data": {
      "image/png": "[encoded data removed]",
      "text/plain": [
       "<Figure size 294.291x230.315 with 1 Axes>"
      ]
     },
     "metadata": {},
     "output_type": "display_data"
    }
   ],
   "source": [
    "T_e = unp.uarray(np.zeros((len(all_datas), len(all_datas[0]))), np.zeros((len(all_datas), len(all_datas[0]))))\n",
    "T = unp.uarray(np.zeros((len(all_datas), len(all_datas[0]))), np.zeros((len(all_datas), len(all_datas[0]))))\n",
    "n_e = unp.uarray(np.zeros((len(all_datas), len(all_datas[0]))), np.zeros((len(all_datas), len(all_datas[0]))))\n",
    "\n",
    "for i, (headers, datas) in enumerate(zip(all_headers, all_datas)):\n",
    "    for j, (header, data) in enumerate(zip(headers, datas)):\n",
    "        p, d, G, A, f, I_chauffage, V_polarisation, *V_grill = header\n",
    "        V_in, I_out, I_out_std = data\n",
    "\n",
    "        dydx = np.gradient(np.log(I_out), V_in)\n",
    "        threshold = 7e-2\n",
    "        idx = np.abs(np.diff(dydx, prepend=0)) < threshold\n",
    "        idx = np.logical_and(idx, V_in > 0)\n",
    "        idx_B = set_all_between(np.logical_and(idx, V_in < 1.5))\n",
    "        idx_C = set_all_between(np.logical_and(idx, V_in > 7))\n",
    "        # idx_B = np.logical_and(0 < V_in, V_in < 3)\n",
    "        # idx_C = V_in > 6\n",
    "\n",
    "        coefsB, covB = np.polyfit(V_in[idx_B], np.log(I_out[idx_B]), 1, cov=True)\n",
    "        coefs_errB = unp.uarray(coefsB, np.sqrt(np.diag(covB)))\n",
    "        fitfuncB = np.poly1d(coefsB)\n",
    "        coefsC, covC = np.polyfit(V_in[idx_C], np.log(I_out[idx_C]), 1, cov=True)\n",
    "        coefs_errC = unp.uarray(coefsC, np.sqrt(np.diag(covC)))\n",
    "        fitfuncC = np.poly1d(coefsC)\n",
    "\n",
    "        x = np.linspace(V_in[0], V_in[-1])\n",
    "        plt.scatter(V_in, np.log(I_out), c='k')\n",
    "        plt.plot(x, fitfuncB(x))\n",
    "        plt.plot(x, fitfuncC(x))\n",
    "\n",
    "        V_sp = -(coefs_errC[1] - coefs_errB[1]) / (coefs_errC[0] - coefs_errB[0])\n",
    "        I_sp = umath.exp(coefs_errB[0] * V_sp + coefs_errB[1])\n",
    "        print(V_sp, I_sp)\n",
    "        plt.axvline(V_sp.n)\n",
    "        plt.axhline(umath.log(I_sp).n)\n",
    "\n",
    "        T_e_run = 1/coefs_errB[0] * ELEMENTARY_CHARGE / BOLTZMANN_CONSTANT_JOULE\n",
    "        T_run = T_e_run * BOLTZMANN_CONSTANT_ELECTRONVOLT\n",
    "        # TODO: verifier unitées\n",
    "        n_e_run = 4 / (ELEMENTARY_CHARGE * SURFACE_PROBE) * unp.sqrt(2 * np.pi * ELECTRON_MASS / (BOLTZMANN_CONSTANT_JOULE * T_e_run)) * I_sp\n",
    "        print(f\"{T_e_run = :.1ueP}, {T_run = :.1ueP}, {n_e_run = :.1ueP}\")\n",
    "        T_e[i, j] = T_e_run\n",
    "        T[i, j] = T_run\n",
    "        n_e[i, j] = n_e_run\n",
    "\n",
    "        # plt.gcf().delaxes(plt.gca())"
   ]
  },
  {
   "cell_type": "code",
   "execution_count": 10,
   "metadata": {},
   "outputs": [
    {
     "data": {
      "text/plain": [
       "<matplotlib.legend.Legend at 0x7fbf51c5eba0>"
      ]
     },
     "execution_count": 10,
     "metadata": {},
     "output_type": "execute_result"
    },
    {
     "data": {
      "image/png": "[encoded data removed]",
      "text/plain": [
       "<Figure size 294.291x230.315 with 1 Axes>"
      ]
     },
     "metadata": {},
     "output_type": "display_data"
    }
   ],
   "source": [
    "data_source = np.loadtxt(\"../data/ion_wave/wave1_source.tsv\")\n",
    "t0, t1, V_source = data_source[0], data_source[1], data_source[2:]\n",
    "dt = t1 - t0\n",
    "t = np.arange(0, len(V_source)*dt, dt)\n",
    "plt.plot(t, sc.signal.savgol_filter(V_source, 10, 2), c='C0', ls='--', label='Source', alpha=0.75)\n",
    "data_probe = np.loadtxt(\"../data/ion_wave/wave1_probe.tsv\")\n",
    "t0, t1, V_probe = data_probe[0], data_probe[1], data_probe[2:]\n",
    "dt = t1 - t0\n",
    "t = np.arange(0, len(V_probe)*dt, dt)\n",
    "plt.scatter(t, V_probe, c='C3', label='Probe')\n",
    "plt.legend()"
   ]
  }
 ],
 "metadata": {
  "kernelspec": {
   "display_name": "Python 3",
   "language": "python",
   "name": "python3"
  },
  "language_info": {
   "codemirror_mode": {
    "name": "ipython",
    "version": 3
   },
   "file_extension": ".py",
   "mimetype": "text/x-python",
   "name": "python",
   "nbconvert_exporter": "python",
   "pygments_lexer": "ipython3",
   "version": "3.12.7"
  }
 },
 "nbformat": 4,
 "nbformat_minor": 2
}
