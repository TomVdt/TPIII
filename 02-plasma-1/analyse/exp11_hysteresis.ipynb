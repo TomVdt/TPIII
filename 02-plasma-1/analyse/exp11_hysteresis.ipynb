{
 "cells": [
  {
   "cell_type": "code",
   "execution_count": 12,
   "metadata": {},
   "outputs": [],
   "source": [
    "import numpy as np\n",
    "import scipy as sc\n",
    "import math\n",
    "import matplotlib as mpl\n",
    "import matplotlib.pyplot as plt\n",
    "from uncertainties import unumpy as unp\n",
    "from uncertainties import ufloat, umath\n",
    "from glob import glob\n",
    "from itertools import chain\n",
    "\n",
    "\n",
    "from options import *\n",
    "from constants import *\n",
    "\n",
    "nom_vals = unp.nominal_values\n",
    "std_devs = unp.std_devs\n",
    "\n",
    "mpl.rcParams.update(rcParams)"
   ]
  },
  {
   "cell_type": "code",
   "execution_count": 13,
   "metadata": {},
   "outputs": [],
   "source": [
    "p = plt.rcParams\n",
    "p[\"scatter.marker\"] = '.'\n",
    "p[\"lines.markersize\"] = 1\n",
    "\n",
    "p[\"figure.figsize\"] = (6.5*CM_PER_INCH, 5*CM_PER_INCH)\n",
    "p['savefig.bbox'] = 'standard'\n",
    "p[\"figure.subplot.left\"]   = 0.2\n",
    "p['figure.subplot.right']  = 0.97\n",
    "p['figure.subplot.top']    = 0.85\n",
    "p['figure.subplot.bottom'] = 0.28"
   ]
  },
  {
   "cell_type": "code",
   "execution_count": 14,
   "metadata": {},
   "outputs": [],
   "source": [
    "def process(filename, headers, datas):\n",
    "    header = np.loadtxt(filename, delimiter='\\t', skiprows=1, max_rows=1, unpack=True)\n",
    "    p, d, G, A, f, I_chauffage, V_polarisation, V_grill = header\n",
    "    headers.append(header)\n",
    "\n",
    "    data = np.loadtxt(filename, delimiter='\\t', skiprows=2, unpack=True)\n",
    "    V_in, V_out, *_ = data\n",
    "    I_out = V_out / (10 * G)\n",
    "\n",
    "    values, counts = np.unique_counts(V_in)\n",
    "    V_in_combined = np.zeros_like(values)\n",
    "    I_out_combined = np.zeros_like(values)\n",
    "    I_out_std_combined = np.zeros_like(values)\n",
    "    for i, (value, count) in enumerate(zip(values, counts)):\n",
    "        idx = np.nonzero(V_in == value)\n",
    "        V_in_combined[i] = value\n",
    "        I_out_combined[i] = np.mean(I_out[idx])\n",
    "        I_out_std_combined[i] = np.std(I_out[idx])\n",
    "\n",
    "    datas.append(np.array((V_in, I_out)))"
   ]
  },
  {
   "cell_type": "code",
   "execution_count": 15,
   "metadata": {},
   "outputs": [],
   "source": [
    "all_headers = [[]]\n",
    "all_datas = [[]]\n",
    "for run in [\"../data/hist2.tsv\"]:\n",
    "    process(run, all_headers[0], all_datas[0])\n",
    "\n",
    "# sort all datasets by specific key\n",
    "for i, (headers, datas) in enumerate(zip(all_headers, all_datas)):\n",
    "    all_headers[i], all_datas[i] = zip(*sorted(zip(headers, datas), key=lambda c: c[0][-1]))"
   ]
  },
  {
   "cell_type": "code",
   "execution_count": 16,
   "metadata": {},
   "outputs": [
    {
     "data": {
      "image/png": "[encoded data removed]",
      "text/plain": [
       "<Figure size 511.811x393.701 with 1 Axes>"
      ]
     },
     "metadata": {},
     "output_type": "display_data"
    }
   ],
   "source": [
    "fig, ax = plt.subplots(1,1, dpi=200)\n",
    "colors = list(plt.cm.tab10(np.arange(10))) + [\"steelblue\", \"indigo\", \"darkgoldenrod\", \"seagreen\", \"orangered\"]\n",
    "ax.set_prop_cycle('color', colors)\n",
    "plt.xlabel(\"$V_p$ [V]\")\n",
    "plt.ylabel(\"$I_p$ [A]\")\n",
    "plt.ticklabel_format(axis='both', style='scientific', scilimits=(-2,2))\n",
    "\n",
    "for header, data in zip(headers, datas):\n",
    "    p, d, G, A, f, I_chauffage, V_polarisation, *V_grill = header\n",
    "    V_in, I_out = data\n",
    "\n",
    "    plt.scatter(V_in, (I_out), label=f\"$I = {I_chauffage:.2f}$A\")\n",
    "    idx = I_out < 0\n",
    "    # plt.scatter(V_in[idx], I_out[idx])\n",
    "    plt.legend(ncols=3, fontsize=8, markerscale=4, loc=\"upper left\", columnspacing=0.5)\n",
    "\n",
    "plt.savefig(\"../figures/hysteresis.pdf\")"
   ]
  }
 ],
 "metadata": {
  "kernelspec": {
   "display_name": "Python 3",
   "language": "python",
   "name": "python3"
  },
  "language_info": {
   "codemirror_mode": {
    "name": "ipython",
    "version": 3
   },
   "file_extension": ".py",
   "mimetype": "text/x-python",
   "name": "python",
   "nbconvert_exporter": "python",
   "pygments_lexer": "ipython3",
   "version": "3.12.7"
  }
 },
 "nbformat": 4,
 "nbformat_minor": 2
}
