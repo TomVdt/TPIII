{
 "cells": [
  {
   "cell_type": "code",
   "execution_count": 1,
   "metadata": {},
   "outputs": [],
   "source": [
    "import numpy as np\n",
    "import scipy as sc\n",
    "import math\n",
    "import matplotlib as mpl\n",
    "import matplotlib.pyplot as plt\n",
    "from uncertainties import unumpy as unp\n",
    "from uncertainties import ufloat, umath\n",
    "from glob import glob\n",
    "from itertools import chain\n",
    "\n",
    "\n",
    "from options import *\n",
    "from constants import *\n",
    "\n",
    "nom_vals = unp.nominal_values\n",
    "std_devs = unp.std_devs\n",
    "\n",
    "mpl.rcParams.update(rcParams)"
   ]
  },
  {
   "cell_type": "code",
   "execution_count": 2,
   "metadata": {},
   "outputs": [],
   "source": [
    "p = plt.rcParams\n",
    "p[\"scatter.marker\"] = '.'\n",
    "p[\"lines.markersize\"] = 1"
   ]
  },
  {
   "cell_type": "code",
   "execution_count": 3,
   "metadata": {},
   "outputs": [],
   "source": [
    "def process(filename, headers, datas):\n",
    "    header = np.loadtxt(filename, delimiter='\\t', skiprows=1, max_rows=1, unpack=True)\n",
    "    p, d, G, A, f, I_chauffage, V_polarisation, V_grill = header\n",
    "    headers.append(header)\n",
    "\n",
    "    data = np.loadtxt(filename, delimiter='\\t', skiprows=2, unpack=True)\n",
    "    V_in, V_out, *_ = data\n",
    "    I_out = V_out / (10 * G)\n",
    "\n",
    "    values, counts = np.unique_counts(V_in)\n",
    "    V_in_combined = np.zeros_like(values)\n",
    "    I_out_combined = np.zeros_like(values)\n",
    "    I_out_std_combined = np.zeros_like(values)\n",
    "    for i, (value, count) in enumerate(zip(values, counts)):\n",
    "        idx = np.nonzero(V_in == value)\n",
    "        V_in_combined[i] = value\n",
    "        I_out_combined[i] = np.mean(I_out[idx])\n",
    "        I_out_std_combined[i] = np.std(I_out[idx])\n",
    "\n",
    "    datas.append(np.array((V_in_combined, I_out_combined, I_out_std_combined)))"
   ]
  },
  {
   "cell_type": "code",
   "execution_count": 4,
   "metadata": {},
   "outputs": [
    {
     "data": {
      "text/plain": [
       "(np.float64(0.0013), np.float64(0.0012))"
      ]
     },
     "execution_count": 4,
     "metadata": {},
     "output_type": "execute_result"
    }
   ],
   "source": [
    "all_headers = [[], []]\n",
    "all_datas = [[], []]\n",
    "for run in glob('../data/position_pression/1.3e-3/*'):\n",
    "    process(run, all_headers[0], all_datas[0])\n",
    "for run in glob('../data/position_pression/1.2e-3v2/*'):\n",
    "    process(run, all_headers[1], all_datas[1])\n",
    "all_headers[0][0][0], all_headers[1][0][0]"
   ]
  },
  {
   "cell_type": "code",
   "execution_count": 5,
   "metadata": {},
   "outputs": [
    {
     "data": {
      "text/plain": [
       "<matplotlib.legend.Legend at 0x107258fe0>"
      ]
     },
     "execution_count": 5,
     "metadata": {},
     "output_type": "execute_result"
    },
    {
     "data": {
      "image/png": "[encoded data removed]",
      "text/plain": [
       "<Figure size 452.756x354.331 with 1 Axes>"
      ]
     },
     "metadata": {},
     "output_type": "display_data"
    }
   ],
   "source": [
    "fig, ax = plt.subplots(1,1, dpi=200)\n",
    "colors = list(plt.cm.tab10(np.arange(10))) + [\"steelblue\", \"indigo\", \"darkgoldenrod\", \"seagreen\", \"orangered\"]\n",
    "ax.set_prop_cycle('color', colors)\n",
    "plt.xlabel(\"$V_p$ [V]\")\n",
    "plt.ylabel(\"$I_p$ [A]\")\n",
    "for headers, datas in zip(all_headers, all_datas):\n",
    "    for header, data in zip(headers, datas):\n",
    "        p, d, G, A, f, I_chauffage, V_polarisation, V_grill = header\n",
    "        V_in, I_out, I_out_std = data\n",
    "\n",
    "        plt.scatter(V_in, I_out, label=f\"$d = {d}$\")\n",
    "\n",
    "plt.legend(ncols=3, fontsize=8, markerscale=4)"
   ]
  },
  {
   "cell_type": "markdown",
   "metadata": {},
   "source": [
    "## Find V_{sp}, ln(I_{es})"
   ]
  },
  {
   "cell_type": "code",
   "execution_count": 6,
   "metadata": {},
   "outputs": [],
   "source": [
    "def set_all_between(arr):\n",
    "    idx = np.nonzero(arr)[0]\n",
    "    idx_start, idx_stop = idx[0], idx[-1]\n",
    "    arr[idx_start:idx_stop+1] = True\n",
    "    return arr"
   ]
  },
  {
   "cell_type": "code",
   "execution_count": 7,
   "metadata": {},
   "outputs": [
    {
     "name": "stdout",
     "output_type": "stream",
     "text": [
      "Plot 0,0\n",
      "5.05+/-0.08 0.00293+/-0.00005\n",
      "T_e_run = (2.6±0.1)×10⁴, T_run = (2.2±0.1)×10⁰, n_e_run = (2.33±0.07)×10¹⁶\n",
      "Plot 0,1\n",
      "5.18+/-0.10 0.00294+/-0.00005\n",
      "T_e_run = (2.7±0.1)×10⁴, T_run = (2.3±0.1)×10⁰, n_e_run = (2.30±0.07)×10¹⁶\n",
      "Plot 0,2\n",
      "4.56+/-0.09 0.00199+/-0.00004\n",
      "T_e_run = (2.7±0.1)×10⁴, T_run = (2.3±0.1)×10⁰, n_e_run = (1.54±0.04)×10¹⁶\n",
      "Plot 0,3\n",
      "4.74+/-0.09 0.00222+/-0.00005\n",
      "T_e_run = (2.7±0.1)×10⁴, T_run = (2.3±0.1)×10⁰, n_e_run = (1.74±0.05)×10¹⁶\n",
      "Plot 0,4\n",
      "3.93+/-0.06 0.001429+/-0.000019\n",
      "T_e_run = (2.8±0.1)×10⁴, T_run = (2.4±0.1)×10⁰, n_e_run = (1.09±0.03)×10¹⁶\n",
      "Plot 0,5\n",
      "4.86+/-0.08 0.00248+/-0.00004\n",
      "T_e_run = (2.6±0.1)×10⁴, T_run = (2.2±0.1)×10⁰, n_e_run = (1.96±0.06)×10¹⁶\n",
      "Plot 0,6\n",
      "4.86+/-0.11 0.00238+/-0.00004\n",
      "T_e_run = (2.7±0.1)×10⁴, T_run = (2.3±0.1)×10⁰, n_e_run = (1.85±0.05)×10¹⁶\n",
      "Plot 0,7\n",
      "4.90+/-0.11 0.00258+/-0.00005\n",
      "T_e_run = (2.6±0.1)×10⁴, T_run = (2.3±0.1)×10⁰, n_e_run = (2.04±0.06)×10¹⁶\n",
      "Plot 0,8\n",
      "4.77+/-0.08 0.00263+/-0.00005\n",
      "T_e_run = (2.5±0.1)×10⁴, T_run = (2.1±0.1)×10⁰, n_e_run = (2.13±0.06)×10¹⁶\n",
      "Plot 0,9\n",
      "5.06+/-0.10 0.00287+/-0.00005\n",
      "T_e_run = (2.6±0.1)×10⁴, T_run = (2.2±0.1)×10⁰, n_e_run = (2.28±0.06)×10¹⁶\n",
      "Plot 0,10\n",
      "4.82+/-0.07 0.00277+/-0.00004\n",
      "T_e_run = (2.4±0.1)×10⁴, T_run = (2.1±0.1)×10⁰, n_e_run = (2.26±0.06)×10¹⁶\n",
      "Plot 0,11\n",
      "5.46+/-0.10 0.00308+/-0.00006\n",
      "T_e_run = (3.0±0.1)×10⁴, T_run = (2.5±0.1)×10⁰, n_e_run = (2.28±0.06)×10¹⁶\n",
      "Plot 0,12\n",
      "4.91+/-0.10 0.00271+/-0.00004\n",
      "T_e_run = (2.6±0.1)×10⁴, T_run = (2.2±0.1)×10⁰, n_e_run = (2.15±0.06)×10¹⁶\n",
      "Plot 0,13\n",
      "4.90+/-0.07 0.00275+/-0.00004\n",
      "T_e_run = (2.5±0.1)×10⁴, T_run = (2.2±0.1)×10⁰, n_e_run = (2.20±0.06)×10¹⁶\n",
      "Plot 0,14\n",
      "5.37+/-0.10 0.00310+/-0.00006\n",
      "T_e_run = (2.9±0.1)×10⁴, T_run = (2.5±0.1)×10⁰, n_e_run = (2.31±0.06)×10¹⁶\n",
      "Plot 1,0\n",
      "4.33+/-0.13 0.00203+/-0.00004\n",
      "T_e_run = (2.6±0.1)×10⁴, T_run = (2.2±0.1)×10⁰, n_e_run = (1.62±0.05)×10¹⁶\n",
      "Plot 1,1\n",
      "3.99+/-0.08 0.001633+/-0.000033\n",
      "T_e_run = (2.7±0.1)×10⁴, T_run = (2.3±0.1)×10⁰, n_e_run = (1.27±0.04)×10¹⁶\n",
      "Plot 1,2\n",
      "5.50+/-0.13 0.00311+/-0.00008\n",
      "T_e_run = (3.2±0.1)×10⁴, T_run = (2.8±0.1)×10⁰, n_e_run = (2.20±0.07)×10¹⁶\n",
      "Plot 1,3\n",
      "5.21+/-0.10 0.00299+/-0.00005\n",
      "T_e_run = (2.9±0.1)×10⁴, T_run = (2.5±0.1)×10⁰, n_e_run = (2.24±0.06)×10¹⁶\n",
      "Plot 1,4\n",
      "5.02+/-0.11 0.00289+/-0.00005\n",
      "T_e_run = (2.7±0.1)×10⁴, T_run = (2.3±0.1)×10⁰, n_e_run = (2.23±0.06)×10¹⁶\n",
      "Plot 1,5\n",
      "4.66+/-0.12 0.00279+/-0.00007\n",
      "T_e_run = (2.5±0.1)×10⁴, T_run = (2.1±0.1)×10⁰, n_e_run = (2.27±0.08)×10¹⁶\n",
      "Plot 1,6\n",
      "4.81+/-0.10 0.00284+/-0.00005\n",
      "T_e_run = (2.6±0.1)×10⁴, T_run = (2.2±0.1)×10⁰, n_e_run = (2.26±0.06)×10¹⁶\n",
      "Plot 1,7\n",
      "4.60+/-0.08 0.00272+/-0.00004\n",
      "T_e_run = (2.5±0.1)×10⁴, T_run = (2.1±0.1)×10⁰, n_e_run = (2.20±0.06)×10¹⁶\n",
      "Plot 1,8\n",
      "4.52+/-0.07 0.002671+/-0.000034\n",
      "T_e_run = (2.5±0.1)×10⁴, T_run = (2.1±0.1)×10⁰, n_e_run = (2.17±0.06)×10¹⁶\n",
      "Plot 1,9\n",
      "4.30+/-0.07 0.00239+/-0.00004\n",
      "T_e_run = (2.5±0.1)×10⁴, T_run = (2.1±0.1)×10⁰, n_e_run = (1.95±0.06)×10¹⁶\n",
      "Plot 1,10\n",
      "4.32+/-0.07 0.00250+/-0.00004\n",
      "T_e_run = (2.4±0.1)×10⁴, T_run = (2.1±0.1)×10⁰, n_e_run = (2.06±0.06)×10¹⁶\n",
      "Plot 1,11\n",
      "4.49+/-0.15 0.00219+/-0.00005\n",
      "T_e_run = (2.6±0.1)×10⁴, T_run = (2.2±0.1)×10⁰, n_e_run = (1.74±0.05)×10¹⁶\n",
      "Plot 1,12\n",
      "4.48+/-0.08 0.00264+/-0.00004\n",
      "T_e_run = (2.5±0.1)×10⁴, T_run = (2.1±0.1)×10⁰, n_e_run = (2.14±0.06)×10¹⁶\n",
      "Plot 1,13\n",
      "4.42+/-0.09 0.00258+/-0.00006\n",
      "T_e_run = (2.5±0.1)×10⁴, T_run = (2.1±0.1)×10⁰, n_e_run = (2.10±0.07)×10¹⁶\n",
      "Plot 1,14\n",
      "4.49+/-0.06 0.00228+/-0.00004\n",
      "T_e_run = (2.5±0.1)×10⁴, T_run = (2.2±0.1)×10⁰, n_e_run = (1.84±0.06)×10¹⁶\n"
     ]
    },
    {
     "name": "stderr",
     "output_type": "stream",
     "text": [
      "/var/folders/s6/cl_qc4357kx9vckbb8vx6c740000gp/T/ipykernel_90959/3755479718.py:22: RuntimeWarning: invalid value encountered in log\n",
      "  dydx = np.gradient(np.log(I_out), V_in)\n",
      "/var/folders/s6/cl_qc4357kx9vckbb8vx6c740000gp/T/ipykernel_90959/3755479718.py:39: RuntimeWarning: invalid value encountered in log\n",
      "  plt.scatter(V_in, np.log(I_out), c='k')\n"
     ]
    },
    {
     "data": {
      "text/plain": [
       "<Figure size 294.291x230.315 with 0 Axes>"
      ]
     },
     "metadata": {},
     "output_type": "display_data"
    }
   ],
   "source": [
    "T_e = unp.uarray(np.zeros((len(all_datas), len(all_datas[0]))), np.zeros((len(all_datas), len(all_datas[0]))))\n",
    "T = unp.uarray(np.zeros((len(all_datas), len(all_datas[0]))), np.zeros((len(all_datas), len(all_datas[0]))))\n",
    "n_e = unp.uarray(np.zeros((len(all_datas), len(all_datas[0]))), np.zeros((len(all_datas), len(all_datas[0]))))\n",
    "\n",
    "B_fit_start = np.array(np.ones((len(all_datas), len(all_datas[0])))*0)\n",
    "B_fit_stop = np.array(np.ones((len(all_datas), len(all_datas[0])))*3.5)\n",
    "C_fit_start = np.array(np.ones((len(all_datas), len(all_datas[0])))*7)\n",
    "\n",
    "B_fit_start[0,0] = 1.5\n",
    "B_fit_stop[0,0] = 4\n",
    "B_fit_start[0,14] = 2\n",
    "B_fit_stop[0,14] = 4\n",
    "B_fit_start[1,:] = 1\n",
    "B_fit_stop[1,:] = 3\n",
    "\n",
    "for i, (headers, datas) in enumerate(zip(all_headers, all_datas)):\n",
    "    for j, (header, data) in enumerate(zip(headers, datas)):\n",
    "        print(f\"Plot {i},{j}\")\n",
    "        p, d, G, A, f, I_chauffage, V_polarisation, *V_grill = header\n",
    "        V_in, I_out, I_out_std = data\n",
    "\n",
    "        dydx = np.gradient(np.log(I_out), V_in)\n",
    "        threshold = 7e-2\n",
    "        idx = np.abs(np.diff(dydx, prepend=0)) < threshold\n",
    "        idx = np.logical_and(idx, V_in > B_fit_start[i,j])\n",
    "        idx_B = set_all_between(np.logical_and(idx, V_in < B_fit_stop[i,j]))\n",
    "        idx_C = set_all_between(np.logical_and(idx, V_in > C_fit_start[i,j]))\n",
    "        # idx_B = np.logical_and(0 < V_in, V_in < 3)\n",
    "        # idx_C = V_in > 6\n",
    "\n",
    "        coefsB, covB = np.polyfit(V_in[idx_B], np.log(I_out[idx_B]), 1, cov=True)\n",
    "        coefs_errB = unp.uarray(coefsB, np.sqrt(np.diag(covB)))\n",
    "        fitfuncB = np.poly1d(coefsB)\n",
    "        coefsC, covC = np.polyfit(V_in[idx_C], np.log(I_out[idx_C]), 1, cov=True)\n",
    "        coefs_errC = unp.uarray(coefsC, np.sqrt(np.diag(covC)))\n",
    "        fitfuncC = np.poly1d(coefsC)\n",
    "\n",
    "        x = np.linspace(V_in[0], V_in[-1])\n",
    "        plt.scatter(V_in, np.log(I_out), c='k')\n",
    "        plt.plot(x, fitfuncB(x))\n",
    "        plt.plot(x, fitfuncC(x))\n",
    "\n",
    "        V_sp = -(coefs_errC[1] - coefs_errB[1]) / (coefs_errC[0] - coefs_errB[0])\n",
    "        I_sp = umath.exp(coefs_errB[0] * V_sp + coefs_errB[1])\n",
    "        print(V_sp, I_sp)\n",
    "        plt.axvline(V_sp.n)\n",
    "        plt.axhline(umath.log(I_sp).n)\n",
    "\n",
    "        T_e_run = 1/coefs_errB[0] * ELEMENTARY_CHARGE / BOLTZMANN_CONSTANT_JOULE\n",
    "        T_e_run += ufloat(0,0.12e4)\n",
    "        T_run = T_e_run * BOLTZMANN_CONSTANT_ELECTRONVOLT\n",
    "        # TODO: verifier unitées\n",
    "        n_e_run = 4 / (ELEMENTARY_CHARGE * SURFACE_PROBE) * unp.sqrt(2 * np.pi * ELECTRON_MASS / (BOLTZMANN_CONSTANT_JOULE * T_e_run)) * I_sp\n",
    "        print(f\"{T_e_run = :.1ueP}, {T_run = :.1ueP}, {n_e_run = :.1ueP}\")\n",
    "        T_e[i, j] = T_e_run\n",
    "        T[i, j] = T_run\n",
    "        n_e[i, j] = n_e_run\n",
    "\n",
    "        plt.gcf().delaxes(plt.gca())\n",
    "        # plt.show()\n"
   ]
  },
  {
   "cell_type": "code",
   "execution_count": 8,
   "metadata": {},
   "outputs": [],
   "source": [
    "distances_old = list(map(lambda header: header[1], all_headers[0]))\n",
    "distances_new = list(map(lambda header: header[1], all_headers[1]))"
   ]
  },
  {
   "cell_type": "code",
   "execution_count": 9,
   "metadata": {},
   "outputs": [],
   "source": [
    "p = plt.rcParams\n",
    "# p[\"figure.figsize\"] = (5.75*CM_PER_INCH, 4.5*CM_PER_INCH)\n",
    "p['savefig.bbox'] = 'standard'\n",
    "p[\"figure.subplot.left\"]   = 0.21\n",
    "p['figure.subplot.right']  = 0.97\n",
    "p['figure.subplot.top']    = 0.9\n",
    "p['figure.subplot.bottom'] = 0.22"
   ]
  },
  {
   "cell_type": "code",
   "execution_count": 10,
   "metadata": {},
   "outputs": [
    {
     "data": {
      "image/png": "[encoded data removed]",
      "text/plain": [
       "<Figure size 294.291x230.315 with 1 Axes>"
      ]
     },
     "metadata": {},
     "output_type": "display_data"
    }
   ],
   "source": [
    "plt.errorbar(distances_old, nom_vals(T_e[0]), yerr=std_devs(T_e[0]), ls='',\n",
    "             label='Half chamber')\n",
    "plt.errorbar(distances_new, nom_vals(T_e[1]), yerr=std_devs(T_e[1]), ls='',\n",
    "             label='Whole chamber')\n",
    "plt.xlabel(r'$d$ [cm]')\n",
    "plt.ylabel(r'$T_e$ [K]')\n",
    "plt.legend()\n",
    "\n",
    "plt.savefig(\"../figures/temperatureK_position_twofilaments.pdf\")"
   ]
  },
  {
   "cell_type": "code",
   "execution_count": 13,
   "metadata": {},
   "outputs": [
    {
     "data": {
      "image/png": "[encoded data removed]",
      "text/plain": [
       "<Figure size 294.291x230.315 with 1 Axes>"
      ]
     },
     "metadata": {},
     "output_type": "display_data"
    }
   ],
   "source": [
    "plt.errorbar(distances_old, nom_vals(T[0]), yerr=std_devs(T[0]), ls='',\n",
    "             label='Right filament')\n",
    "plt.errorbar(distances_new, nom_vals(T[1]), yerr=std_devs(T[1]), ls='',\n",
    "             label=\"Both filaments\")\n",
    "plt.xlabel(r'$d$ [cm]')\n",
    "plt.ylabel(r'$k_B T_e$ [eV]')\n",
    "plt.legend()\n",
    "plt.savefig(\"../figures/temperatureeV_position_twofilaments.pdf\")"
   ]
  },
  {
   "cell_type": "code",
   "execution_count": 14,
   "metadata": {},
   "outputs": [
    {
     "data": {
      "image/png": "[encoded data removed]",
      "text/plain": [
       "<Figure size 294.291x230.315 with 1 Axes>"
      ]
     },
     "metadata": {},
     "output_type": "display_data"
    }
   ],
   "source": [
    "plt.errorbar(distances_old, nom_vals(n_e[0]), yerr=std_devs(n_e[0]), ls='',\n",
    "             label='Right filament')\n",
    "plt.errorbar(distances_new, nom_vals(n_e[1]), yerr=std_devs(n_e[1]), ls='',\n",
    "             label='Both filaments')\n",
    "plt.xlabel(r'$d$ [cm]')\n",
    "plt.ylabel(r'$n_e$ $[1/$m$^3]$')\n",
    "plt.legend()\n",
    "plt.savefig(\"../figures/density_position_twofilaments.pdf\")"
   ]
  }
 ],
 "metadata": {
  "kernelspec": {
   "display_name": "Python 3",
   "language": "python",
   "name": "python3"
  },
  "language_info": {
   "codemirror_mode": {
    "name": "ipython",
    "version": 3
   },
   "file_extension": ".py",
   "mimetype": "text/x-python",
   "name": "python",
   "nbconvert_exporter": "python",
   "pygments_lexer": "ipython3",
   "version": "3.12.7"
  }
 },
 "nbformat": 4,
 "nbformat_minor": 2
}
